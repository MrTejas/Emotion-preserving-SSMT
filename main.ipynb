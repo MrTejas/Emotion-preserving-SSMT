{
 "cells": [
  {
   "cell_type": "code",
   "execution_count": 1,
   "id": "2ca502c0",
   "metadata": {},
   "outputs": [],
   "source": [
    "from __future__ import absolute_import\n",
    "from __future__ import division\n",
    "#from __future__ import print_function\n",
    "\n",
    "import numpy as np\n",
    "from acrnn import acrnn\n",
    "import pickle\n",
    "from sklearn.metrics import recall_score as recall\n",
    "from sklearn.metrics import confusion_matrix as confusion\n",
    "import os\n",
    "import torch\n",
    "import torch.optim as optim\n",
    "import pdb\n"
   ]
  },
  {
   "cell_type": "code",
   "execution_count": null,
   "id": "b9ec763e",
   "metadata": {},
   "outputs": [],
   "source": [
    "num_epoch = 5000\n",
    "num_classes = 4\n",
    "batch_size = 60\n",
    "is_adam = True\n",
    "learning_rate = 0.00001\n",
    "dropout_keep_prob = 1\n",
    "image_height = 300\n",
    "image_width = 40\n",
    "image_channel = 3\n",
    "traindata_path = './IEMOCAP.pkl'\n",
    "validdata_path = 'inputs/valid.pkl'\n",
    "checkpoint = './checkpoint'\n",
    "model_name = 'best_model.pth'\n",
    "clip = 0\n"
   ]
  },
  {
   "cell_type": "code",
   "execution_count": 3,
   "id": "241d8fb4",
   "metadata": {},
   "outputs": [],
   "source": [
    "\n",
    "def load_data(in_dir):\n",
    "    f = open(in_dir,'rb')\n",
    "    train_data,train_label,test_data,test_label,valid_data,valid_label,Valid_label,Test_label,pernums_test,pernums_valid = pickle.load(f)\n",
    "    #train_data,train_label,test_data,test_label,valid_data,valid_label = pickle.load(f)\n",
    "    return train_data,train_label,test_data,test_label,valid_data,valid_label,Valid_label,Test_label,pernums_test,pernums_valid\n",
    "\n",
    "\n",
    "def train():\n",
    "    #####load data##########\n",
    "    train_data, train_label, test_data, test_label, valid_data, valid_label, Valid_label, Test_label, pernums_test, pernums_valid = load_data('./IEMOCAP.pkl')\n",
    "\n",
    "    train_label = train_label.reshape(-1)\n",
    "    valid_label = valid_label.reshape(-1)\n",
    "    Valid_label = Valid_label.reshape(-1)\n",
    "\n",
    "    valid_size = valid_data.shape[0]\n",
    "    dataset_size = train_data.shape[0]\n",
    "    vnum = pernums_valid.shape[0]\n",
    "    best_valid_uw = 0\n",
    "    device = 'cuda'\n",
    "\n",
    "    ##########tarin model###########\n",
    "\n",
    "    def init_weights(m):\n",
    "        if type(m) == torch.nn.Linear:\n",
    "            m.weight.data.normal_(0.0, 0.1)\n",
    "            m.bias.data.fill_(0.1)\n",
    "        elif type(m) == torch.nn.Conv2d:\n",
    "            m.weight.data.normal_(0.0, 0.1)\n",
    "            m.bias.data.fill_(0.1)\n",
    "\n",
    "    model = acrnn()\n",
    "    model.apply(init_weights)\n",
    "    model = model.to(device)\n",
    "    optimizer = optim.Adam(model.parameters(), lr=learning_rate, betas=(0.9, 0.999), weight_decay=5e-4)\n",
    "    criterion = torch.nn.CrossEntropyLoss()\n",
    "\n",
    "    # print(train_data.shape)        # (1200, 300, 40, 3)  # (B, H, W, C)\n",
    "    train_data = train_data.transpose((0, 3, 1, 2))\n",
    "    test_data = test_data.transpose((0, 3 ,1 ,2))\n",
    "    valid_data = valid_data.transpose((0, 3 ,1 ,2))\n",
    "    # print(train_data.shape)        # (1200, 3, 300, 40)  # (B, C, H, W)\n",
    "    \n",
    "    num_epoch = 250\n",
    "    train_iter = divmod(dataset_size, batch_size)[0]\n",
    "\n",
    "    for epoch in range(num_epoch):\n",
    "        # training\n",
    "        model.train()\n",
    "        shuffle_index = list(range(len(train_data)))\n",
    "        np.random.shuffle(shuffle_index)\n",
    "        \n",
    "        for i in range(train_iter):\n",
    "            start = (i*batch_size) % dataset_size\n",
    "            end = min(start+batch_size, dataset_size)\n",
    "\n",
    "            if i == (train_iter-1) and end < dataset_size:\n",
    "                end = dataset_size\n",
    "        \n",
    "            inputs = torch.tensor(train_data[shuffle_index[start:end]]).to(device)\n",
    "            targets = torch.tensor(train_label[shuffle_index[start:end]], dtype=torch.long).to(device)\n",
    "            optimizer.zero_grad()\n",
    "            outputs = model(inputs)\n",
    "        \n",
    "            loss = criterion(outputs, targets)\n",
    "            loss.backward()\n",
    "            if clip:\n",
    "                # torch.nn.utils.clip_grad_norm_(model.parameters(), args.clip)\n",
    "                torch.nn.utils.clip_grad_norm_(model.parameters(), clip)\n",
    "            optimizer.step()\n",
    "        \n",
    "        if epoch % 1 == 0:\n",
    "             # validation\n",
    "             model.eval()\n",
    "             valid_iter = divmod(valid_size, batch_size)[0]\n",
    "             y_pred_valid = np.empty((valid_size, num_classes),dtype=np.float32)\n",
    "             y_valid = np.empty((vnum, 4), dtype=np.float32)\n",
    "             index = 0     \n",
    "             cost_valid = 0\n",
    "             \n",
    "             if (valid_size < batch_size):\n",
    "\n",
    "                 # inference\n",
    "                 with torch.no_grad():\n",
    "                     inputs = torch.tensor(valid_data[v_begin:v_end]).to(device)\n",
    "                     targets = torch.tensor(Valid_label[v_begin:v_end], dtype=torch.long).to(device)\n",
    "                     outputs = model(inputs)\n",
    "                     y_pred_valid[v_begin:v_end,:] = outputs.cpu().detach().numpy()\n",
    "                     loss = criterion(outputs, targets).cpu().detach().numpy()\n",
    "\n",
    "                 cost_valid = cost_valid + np.sum(loss)\n",
    "             \n",
    "             for v in range(valid_iter):\n",
    "                 v_begin, v_end = v*batch_size, (v+1)*batch_size\n",
    "\n",
    "                 if v == (valid_iter-1) and v_end < valid_size:\n",
    "                     v_end = valid_size\n",
    "\n",
    "                 # inference\n",
    "                 with torch.no_grad():\n",
    "                     inputs = torch.tensor(valid_data[v_begin:v_end]).to(device)\n",
    "                     targets = torch.tensor(Valid_label[v_begin:v_end], dtype=torch.long).to(device)\n",
    "                     outputs = model(inputs)\n",
    "                     y_pred_valid[v_begin:v_end,:] = outputs.cpu().detach().numpy()\n",
    "                     loss = criterion(outputs, targets).cpu().detach().numpy()\n",
    "                  \n",
    "                 cost_valid = cost_valid + np.sum(loss)\n",
    "\n",
    "             cost_valid = cost_valid/valid_size\n",
    "\n",
    "             for s in range(vnum):\n",
    "                 y_valid[s,:] = np.max(y_pred_valid[index:index+pernums_valid[s],:], 0)\n",
    "                 index = index + pernums_valid[s]\n",
    "                 \n",
    "             # compute evaluated results\n",
    "             valid_acc_uw = recall(valid_label, np.argmax(y_valid, 1), average='macro')\n",
    "             valid_conf = confusion(valid_label, np.argmax(y_valid, 1))\n",
    "\n",
    "             # save the best val result\n",
    "             if valid_acc_uw > best_valid_uw:\n",
    "                 best_valid_uw = valid_acc_uw\n",
    "                 best_valid_conf = valid_conf\n",
    "\n",
    "                 if not os.path.isdir(checkpoint):\n",
    "                     os.mkdir(checkpoint)\n",
    "                 torch.save(model.state_dict(), os.path.join(checkpoint, model_name))\n",
    "\n",
    "             # print results\n",
    "             print (\"*****************************************************************\")\n",
    "             print (\"Epoch: %05d\" %(epoch+1))\n",
    "             # print (\"Training cost: %2.3g\" %tcost)   \n",
    "             # print (\"Training accuracy: %3.4g\" %tracc) \n",
    "             print (\"Valid cost: %2.3g\" %cost_valid)\n",
    "             print (\"Valid_UA: %3.4g\" %valid_acc_uw)    \n",
    "             print (\"Best valid_UA: %3.4g\" %best_valid_uw) \n",
    "             print ('Valid Confusion Matrix:[\"ang\",\"sad\",\"hap\",\"neu\"]')\n",
    "             print (valid_conf)\n",
    "             print ('Best Valid Confusion Matrix:[\"ang\",\"sad\",\"hap\",\"neu\"]')\n",
    "             print (best_valid_conf)\n",
    "             print (\"*****************************************************************\" )\n",
    "\n"
   ]
  },
  {
   "cell_type": "code",
   "execution_count": null,
   "id": "963ff343",
   "metadata": {},
   "outputs": [
    {
     "name": "stderr",
     "output_type": "stream",
     "text": [
      "c:\\Users\\tejas\\AppData\\Local\\Programs\\Python\\Python310\\lib\\site-packages\\torch\\nn\\functional.py:1538: UserWarning: dropout2d: Received a 2-D input to dropout2d, which is deprecated and will result in an error in a future release. To retain the behavior and silence this warning, please use dropout instead. Note that dropout2d exists to provide channel-wise dropout on inputs with 2 spatial dimensions, a channel dimension, and an optional batch dimension (i.e. 3D or 4D inputs).\n",
      "  warnings.warn(warn_msg)\n"
     ]
    },
    {
     "name": "stdout",
     "output_type": "stream",
     "text": [
      "*****************************************************************\n",
      "Epoch: 00001\n",
      "Valid cost: 0.022\n",
      "Valid_UA: 0.4775\n",
      "Best valid_UA: 0.4775\n",
      "Valid Confusion Matrix:[\"ang\",\"sad\",\"hap\",\"neu\"]\n",
      "[[18  0  0  0]\n",
      " [20 35  0 18]\n",
      " [37  2  0 17]\n",
      " [73 13  0 65]]\n",
      "Best Valid Confusion Matrix:[\"ang\",\"sad\",\"hap\",\"neu\"]\n",
      "[[18  0  0  0]\n",
      " [20 35  0 18]\n",
      " [37  2  0 17]\n",
      " [73 13  0 65]]\n",
      "*****************************************************************\n"
     ]
    },
    {
     "name": "stderr",
     "output_type": "stream",
     "text": [
      "c:\\Users\\tejas\\AppData\\Local\\Programs\\Python\\Python310\\lib\\site-packages\\torch\\nn\\functional.py:1538: UserWarning: dropout2d: Received a 2-D input to dropout2d, which is deprecated and will result in an error in a future release. To retain the behavior and silence this warning, please use dropout instead. Note that dropout2d exists to provide channel-wise dropout on inputs with 2 spatial dimensions, a channel dimension, and an optional batch dimension (i.e. 3D or 4D inputs).\n",
      "  warnings.warn(warn_msg)\n"
     ]
    },
    {
     "name": "stdout",
     "output_type": "stream",
     "text": [
      "*****************************************************************\n",
      "Epoch: 00002\n",
      "Valid cost: 0.0216\n",
      "Valid_UA: 0.5484\n",
      "Best valid_UA: 0.5484\n",
      "Valid Confusion Matrix:[\"ang\",\"sad\",\"hap\",\"neu\"]\n",
      "[[18  0  0  0]\n",
      " [ 8 62  0  3]\n",
      " [27 10  0 19]\n",
      " [57 42  0 52]]\n",
      "Best Valid Confusion Matrix:[\"ang\",\"sad\",\"hap\",\"neu\"]\n",
      "[[18  0  0  0]\n",
      " [ 8 62  0  3]\n",
      " [27 10  0 19]\n",
      " [57 42  0 52]]\n",
      "*****************************************************************\n"
     ]
    },
    {
     "name": "stderr",
     "output_type": "stream",
     "text": [
      "c:\\Users\\tejas\\AppData\\Local\\Programs\\Python\\Python310\\lib\\site-packages\\torch\\nn\\functional.py:1538: UserWarning: dropout2d: Received a 2-D input to dropout2d, which is deprecated and will result in an error in a future release. To retain the behavior and silence this warning, please use dropout instead. Note that dropout2d exists to provide channel-wise dropout on inputs with 2 spatial dimensions, a channel dimension, and an optional batch dimension (i.e. 3D or 4D inputs).\n",
      "  warnings.warn(warn_msg)\n"
     ]
    },
    {
     "name": "stdout",
     "output_type": "stream",
     "text": [
      "*****************************************************************\n",
      "Epoch: 00003\n",
      "Valid cost: 0.0213\n",
      "Valid_UA: 0.5537\n",
      "Best valid_UA: 0.5537\n",
      "Valid Confusion Matrix:[\"ang\",\"sad\",\"hap\",\"neu\"]\n",
      "[[18  0  0  0]\n",
      " [ 5 65  0  3]\n",
      " [25 13  0 18]\n",
      " [48 54  0 49]]\n",
      "Best Valid Confusion Matrix:[\"ang\",\"sad\",\"hap\",\"neu\"]\n",
      "[[18  0  0  0]\n",
      " [ 5 65  0  3]\n",
      " [25 13  0 18]\n",
      " [48 54  0 49]]\n",
      "*****************************************************************\n"
     ]
    },
    {
     "name": "stderr",
     "output_type": "stream",
     "text": [
      "c:\\Users\\tejas\\AppData\\Local\\Programs\\Python\\Python310\\lib\\site-packages\\torch\\nn\\functional.py:1538: UserWarning: dropout2d: Received a 2-D input to dropout2d, which is deprecated and will result in an error in a future release. To retain the behavior and silence this warning, please use dropout instead. Note that dropout2d exists to provide channel-wise dropout on inputs with 2 spatial dimensions, a channel dimension, and an optional batch dimension (i.e. 3D or 4D inputs).\n",
      "  warnings.warn(warn_msg)\n"
     ]
    },
    {
     "name": "stdout",
     "output_type": "stream",
     "text": [
      "*****************************************************************\n",
      "Epoch: 00004\n",
      "Valid cost: 0.0209\n",
      "Valid_UA: 0.5585\n",
      "Best valid_UA: 0.5585\n",
      "Valid Confusion Matrix:[\"ang\",\"sad\",\"hap\",\"neu\"]\n",
      "[[18  0  0  0]\n",
      " [ 4 63  0  6]\n",
      " [22 12  0 22]\n",
      " [42 53  0 56]]\n",
      "Best Valid Confusion Matrix:[\"ang\",\"sad\",\"hap\",\"neu\"]\n",
      "[[18  0  0  0]\n",
      " [ 4 63  0  6]\n",
      " [22 12  0 22]\n",
      " [42 53  0 56]]\n",
      "*****************************************************************\n"
     ]
    },
    {
     "name": "stderr",
     "output_type": "stream",
     "text": [
      "c:\\Users\\tejas\\AppData\\Local\\Programs\\Python\\Python310\\lib\\site-packages\\torch\\nn\\functional.py:1538: UserWarning: dropout2d: Received a 2-D input to dropout2d, which is deprecated and will result in an error in a future release. To retain the behavior and silence this warning, please use dropout instead. Note that dropout2d exists to provide channel-wise dropout on inputs with 2 spatial dimensions, a channel dimension, and an optional batch dimension (i.e. 3D or 4D inputs).\n",
      "  warnings.warn(warn_msg)\n"
     ]
    },
    {
     "name": "stdout",
     "output_type": "stream",
     "text": [
      "*****************************************************************\n",
      "Epoch: 00005\n",
      "Valid cost: 0.0207\n",
      "Valid_UA: 0.5633\n",
      "Best valid_UA: 0.5633\n",
      "Valid Confusion Matrix:[\"ang\",\"sad\",\"hap\",\"neu\"]\n",
      "[[18  0  0  0]\n",
      " [ 3 62  0  8]\n",
      " [20 11  0 25]\n",
      " [38 52  0 61]]\n",
      "Best Valid Confusion Matrix:[\"ang\",\"sad\",\"hap\",\"neu\"]\n",
      "[[18  0  0  0]\n",
      " [ 3 62  0  8]\n",
      " [20 11  0 25]\n",
      " [38 52  0 61]]\n",
      "*****************************************************************\n"
     ]
    },
    {
     "name": "stderr",
     "output_type": "stream",
     "text": [
      "c:\\Users\\tejas\\AppData\\Local\\Programs\\Python\\Python310\\lib\\site-packages\\torch\\nn\\functional.py:1538: UserWarning: dropout2d: Received a 2-D input to dropout2d, which is deprecated and will result in an error in a future release. To retain the behavior and silence this warning, please use dropout instead. Note that dropout2d exists to provide channel-wise dropout on inputs with 2 spatial dimensions, a channel dimension, and an optional batch dimension (i.e. 3D or 4D inputs).\n",
      "  warnings.warn(warn_msg)\n"
     ]
    },
    {
     "name": "stdout",
     "output_type": "stream",
     "text": [
      "*****************************************************************\n",
      "Epoch: 00006\n",
      "Valid cost: 0.0206\n",
      "Valid_UA: 0.5567\n",
      "Best valid_UA: 0.5633\n",
      "Valid Confusion Matrix:[\"ang\",\"sad\",\"hap\",\"neu\"]\n",
      "[[18  0  0  0]\n",
      " [ 3 62  0  8]\n",
      " [23 12  0 21]\n",
      " [35 57  2 57]]\n",
      "Best Valid Confusion Matrix:[\"ang\",\"sad\",\"hap\",\"neu\"]\n",
      "[[18  0  0  0]\n",
      " [ 3 62  0  8]\n",
      " [20 11  0 25]\n",
      " [38 52  0 61]]\n",
      "*****************************************************************\n"
     ]
    },
    {
     "name": "stderr",
     "output_type": "stream",
     "text": [
      "c:\\Users\\tejas\\AppData\\Local\\Programs\\Python\\Python310\\lib\\site-packages\\torch\\nn\\functional.py:1538: UserWarning: dropout2d: Received a 2-D input to dropout2d, which is deprecated and will result in an error in a future release. To retain the behavior and silence this warning, please use dropout instead. Note that dropout2d exists to provide channel-wise dropout on inputs with 2 spatial dimensions, a channel dimension, and an optional batch dimension (i.e. 3D or 4D inputs).\n",
      "  warnings.warn(warn_msg)\n"
     ]
    },
    {
     "name": "stdout",
     "output_type": "stream",
     "text": [
      "*****************************************************************\n",
      "Epoch: 00007\n",
      "Valid cost: 0.0203\n",
      "Valid_UA: 0.5748\n",
      "Best valid_UA: 0.5748\n",
      "Valid Confusion Matrix:[\"ang\",\"sad\",\"hap\",\"neu\"]\n",
      "[[18  0  0  0]\n",
      " [ 3 61  0  9]\n",
      " [19 11  0 26]\n",
      " [31 48  2 70]]\n",
      "Best Valid Confusion Matrix:[\"ang\",\"sad\",\"hap\",\"neu\"]\n",
      "[[18  0  0  0]\n",
      " [ 3 61  0  9]\n",
      " [19 11  0 26]\n",
      " [31 48  2 70]]\n",
      "*****************************************************************\n"
     ]
    },
    {
     "name": "stderr",
     "output_type": "stream",
     "text": [
      "c:\\Users\\tejas\\AppData\\Local\\Programs\\Python\\Python310\\lib\\site-packages\\torch\\nn\\functional.py:1538: UserWarning: dropout2d: Received a 2-D input to dropout2d, which is deprecated and will result in an error in a future release. To retain the behavior and silence this warning, please use dropout instead. Note that dropout2d exists to provide channel-wise dropout on inputs with 2 spatial dimensions, a channel dimension, and an optional batch dimension (i.e. 3D or 4D inputs).\n",
      "  warnings.warn(warn_msg)\n"
     ]
    },
    {
     "name": "stdout",
     "output_type": "stream",
     "text": [
      "*****************************************************************\n",
      "Epoch: 00008\n",
      "Valid cost: 0.0202\n",
      "Valid_UA: 0.5715\n",
      "Best valid_UA: 0.5748\n",
      "Valid Confusion Matrix:[\"ang\",\"sad\",\"hap\",\"neu\"]\n",
      "[[18  0  0  0]\n",
      " [ 3 61  0  9]\n",
      " [19 10  0 27]\n",
      " [30 49  4 68]]\n",
      "Best Valid Confusion Matrix:[\"ang\",\"sad\",\"hap\",\"neu\"]\n",
      "[[18  0  0  0]\n",
      " [ 3 61  0  9]\n",
      " [19 11  0 26]\n",
      " [31 48  2 70]]\n",
      "*****************************************************************\n"
     ]
    },
    {
     "name": "stderr",
     "output_type": "stream",
     "text": [
      "c:\\Users\\tejas\\AppData\\Local\\Programs\\Python\\Python310\\lib\\site-packages\\torch\\nn\\functional.py:1538: UserWarning: dropout2d: Received a 2-D input to dropout2d, which is deprecated and will result in an error in a future release. To retain the behavior and silence this warning, please use dropout instead. Note that dropout2d exists to provide channel-wise dropout on inputs with 2 spatial dimensions, a channel dimension, and an optional batch dimension (i.e. 3D or 4D inputs).\n",
      "  warnings.warn(warn_msg)\n"
     ]
    },
    {
     "name": "stdout",
     "output_type": "stream",
     "text": [
      "*****************************************************************\n",
      "Epoch: 00009\n",
      "Valid cost: 0.0201\n",
      "Valid_UA: 0.5859\n",
      "Best valid_UA: 0.5859\n",
      "Valid Confusion Matrix:[\"ang\",\"sad\",\"hap\",\"neu\"]\n",
      "[[18  0  0  0]\n",
      " [ 3 61  0  9]\n",
      " [18 10  1 27]\n",
      " [27 45  5 74]]\n",
      "Best Valid Confusion Matrix:[\"ang\",\"sad\",\"hap\",\"neu\"]\n",
      "[[18  0  0  0]\n",
      " [ 3 61  0  9]\n",
      " [18 10  1 27]\n",
      " [27 45  5 74]]\n",
      "*****************************************************************\n"
     ]
    },
    {
     "name": "stderr",
     "output_type": "stream",
     "text": [
      "c:\\Users\\tejas\\AppData\\Local\\Programs\\Python\\Python310\\lib\\site-packages\\torch\\nn\\functional.py:1538: UserWarning: dropout2d: Received a 2-D input to dropout2d, which is deprecated and will result in an error in a future release. To retain the behavior and silence this warning, please use dropout instead. Note that dropout2d exists to provide channel-wise dropout on inputs with 2 spatial dimensions, a channel dimension, and an optional batch dimension (i.e. 3D or 4D inputs).\n",
      "  warnings.warn(warn_msg)\n"
     ]
    },
    {
     "name": "stdout",
     "output_type": "stream",
     "text": [
      "*****************************************************************\n",
      "Epoch: 00010\n",
      "Valid cost: 0.02\n",
      "Valid_UA: 0.5975\n",
      "Best valid_UA: 0.5975\n",
      "Valid Confusion Matrix:[\"ang\",\"sad\",\"hap\",\"neu\"]\n",
      "[[18  0  0  0]\n",
      " [ 1 61  1 10]\n",
      " [18  9  1 28]\n",
      " [24 42  4 81]]\n",
      "Best Valid Confusion Matrix:[\"ang\",\"sad\",\"hap\",\"neu\"]\n",
      "[[18  0  0  0]\n",
      " [ 1 61  1 10]\n",
      " [18  9  1 28]\n",
      " [24 42  4 81]]\n",
      "*****************************************************************\n"
     ]
    },
    {
     "name": "stderr",
     "output_type": "stream",
     "text": [
      "c:\\Users\\tejas\\AppData\\Local\\Programs\\Python\\Python310\\lib\\site-packages\\torch\\nn\\functional.py:1538: UserWarning: dropout2d: Received a 2-D input to dropout2d, which is deprecated and will result in an error in a future release. To retain the behavior and silence this warning, please use dropout instead. Note that dropout2d exists to provide channel-wise dropout on inputs with 2 spatial dimensions, a channel dimension, and an optional batch dimension (i.e. 3D or 4D inputs).\n",
      "  warnings.warn(warn_msg)\n"
     ]
    },
    {
     "name": "stdout",
     "output_type": "stream",
     "text": [
      "*****************************************************************\n",
      "Epoch: 00011\n",
      "Valid cost: 0.0199\n",
      "Valid_UA: 0.599\n",
      "Best valid_UA: 0.599\n",
      "Valid Confusion Matrix:[\"ang\",\"sad\",\"hap\",\"neu\"]\n",
      "[[18  0  0  0]\n",
      " [ 0 60  2 11]\n",
      " [14  8  1 33]\n",
      " [23 39  5 84]]\n",
      "Best Valid Confusion Matrix:[\"ang\",\"sad\",\"hap\",\"neu\"]\n",
      "[[18  0  0  0]\n",
      " [ 0 60  2 11]\n",
      " [14  8  1 33]\n",
      " [23 39  5 84]]\n",
      "*****************************************************************\n"
     ]
    },
    {
     "name": "stderr",
     "output_type": "stream",
     "text": [
      "c:\\Users\\tejas\\AppData\\Local\\Programs\\Python\\Python310\\lib\\site-packages\\torch\\nn\\functional.py:1538: UserWarning: dropout2d: Received a 2-D input to dropout2d, which is deprecated and will result in an error in a future release. To retain the behavior and silence this warning, please use dropout instead. Note that dropout2d exists to provide channel-wise dropout on inputs with 2 spatial dimensions, a channel dimension, and an optional batch dimension (i.e. 3D or 4D inputs).\n",
      "  warnings.warn(warn_msg)\n"
     ]
    },
    {
     "name": "stdout",
     "output_type": "stream",
     "text": [
      "*****************************************************************\n",
      "Epoch: 00012\n",
      "Valid cost: 0.0197\n",
      "Valid_UA: 0.5836\n",
      "Best valid_UA: 0.599\n",
      "Valid Confusion Matrix:[\"ang\",\"sad\",\"hap\",\"neu\"]\n",
      "[[17  0  0  1]\n",
      " [ 0 61  2 10]\n",
      " [14  8  1 33]\n",
      " [19 43  8 81]]\n",
      "Best Valid Confusion Matrix:[\"ang\",\"sad\",\"hap\",\"neu\"]\n",
      "[[18  0  0  0]\n",
      " [ 0 60  2 11]\n",
      " [14  8  1 33]\n",
      " [23 39  5 84]]\n",
      "*****************************************************************\n"
     ]
    },
    {
     "name": "stderr",
     "output_type": "stream",
     "text": [
      "c:\\Users\\tejas\\AppData\\Local\\Programs\\Python\\Python310\\lib\\site-packages\\torch\\nn\\functional.py:1538: UserWarning: dropout2d: Received a 2-D input to dropout2d, which is deprecated and will result in an error in a future release. To retain the behavior and silence this warning, please use dropout instead. Note that dropout2d exists to provide channel-wise dropout on inputs with 2 spatial dimensions, a channel dimension, and an optional batch dimension (i.e. 3D or 4D inputs).\n",
      "  warnings.warn(warn_msg)\n"
     ]
    },
    {
     "name": "stdout",
     "output_type": "stream",
     "text": [
      "*****************************************************************\n",
      "Epoch: 00013\n",
      "Valid cost: 0.0196\n",
      "Valid_UA: 0.6146\n",
      "Best valid_UA: 0.6146\n",
      "Valid Confusion Matrix:[\"ang\",\"sad\",\"hap\",\"neu\"]\n",
      "[[18  0  0  0]\n",
      " [ 0 60  2 11]\n",
      " [13  7  3 33]\n",
      " [16 36 11 88]]\n",
      "Best Valid Confusion Matrix:[\"ang\",\"sad\",\"hap\",\"neu\"]\n",
      "[[18  0  0  0]\n",
      " [ 0 60  2 11]\n",
      " [13  7  3 33]\n",
      " [16 36 11 88]]\n",
      "*****************************************************************\n"
     ]
    },
    {
     "name": "stderr",
     "output_type": "stream",
     "text": [
      "c:\\Users\\tejas\\AppData\\Local\\Programs\\Python\\Python310\\lib\\site-packages\\torch\\nn\\functional.py:1538: UserWarning: dropout2d: Received a 2-D input to dropout2d, which is deprecated and will result in an error in a future release. To retain the behavior and silence this warning, please use dropout instead. Note that dropout2d exists to provide channel-wise dropout on inputs with 2 spatial dimensions, a channel dimension, and an optional batch dimension (i.e. 3D or 4D inputs).\n",
      "  warnings.warn(warn_msg)\n"
     ]
    },
    {
     "name": "stdout",
     "output_type": "stream",
     "text": [
      "*****************************************************************\n",
      "Epoch: 00014\n",
      "Valid cost: 0.0196\n",
      "Valid_UA: 0.6179\n",
      "Best valid_UA: 0.6179\n",
      "Valid Confusion Matrix:[\"ang\",\"sad\",\"hap\",\"neu\"]\n",
      "[[18  0  0  0]\n",
      " [ 0 60  2 11]\n",
      " [13  7  3 33]\n",
      " [17 33 11 90]]\n",
      "Best Valid Confusion Matrix:[\"ang\",\"sad\",\"hap\",\"neu\"]\n",
      "[[18  0  0  0]\n",
      " [ 0 60  2 11]\n",
      " [13  7  3 33]\n",
      " [17 33 11 90]]\n",
      "*****************************************************************\n"
     ]
    },
    {
     "name": "stderr",
     "output_type": "stream",
     "text": [
      "c:\\Users\\tejas\\AppData\\Local\\Programs\\Python\\Python310\\lib\\site-packages\\torch\\nn\\functional.py:1538: UserWarning: dropout2d: Received a 2-D input to dropout2d, which is deprecated and will result in an error in a future release. To retain the behavior and silence this warning, please use dropout instead. Note that dropout2d exists to provide channel-wise dropout on inputs with 2 spatial dimensions, a channel dimension, and an optional batch dimension (i.e. 3D or 4D inputs).\n",
      "  warnings.warn(warn_msg)\n"
     ]
    },
    {
     "name": "stdout",
     "output_type": "stream",
     "text": [
      "*****************************************************************\n",
      "Epoch: 00015\n",
      "Valid cost: 0.0194\n",
      "Valid_UA: 0.6306\n",
      "Best valid_UA: 0.6306\n",
      "Valid Confusion Matrix:[\"ang\",\"sad\",\"hap\",\"neu\"]\n",
      "[[17  0  0  1]\n",
      " [ 0 60  2 11]\n",
      " [ 8  7  6 35]\n",
      " [ 7 32 14 98]]\n",
      "Best Valid Confusion Matrix:[\"ang\",\"sad\",\"hap\",\"neu\"]\n",
      "[[17  0  0  1]\n",
      " [ 0 60  2 11]\n",
      " [ 8  7  6 35]\n",
      " [ 7 32 14 98]]\n",
      "*****************************************************************\n"
     ]
    },
    {
     "name": "stderr",
     "output_type": "stream",
     "text": [
      "c:\\Users\\tejas\\AppData\\Local\\Programs\\Python\\Python310\\lib\\site-packages\\torch\\nn\\functional.py:1538: UserWarning: dropout2d: Received a 2-D input to dropout2d, which is deprecated and will result in an error in a future release. To retain the behavior and silence this warning, please use dropout instead. Note that dropout2d exists to provide channel-wise dropout on inputs with 2 spatial dimensions, a channel dimension, and an optional batch dimension (i.e. 3D or 4D inputs).\n",
      "  warnings.warn(warn_msg)\n"
     ]
    },
    {
     "name": "stdout",
     "output_type": "stream",
     "text": [
      "*****************************************************************\n",
      "Epoch: 00016\n",
      "Valid cost: 0.0194\n",
      "Valid_UA: 0.6108\n",
      "Best valid_UA: 0.6306\n",
      "Valid Confusion Matrix:[\"ang\",\"sad\",\"hap\",\"neu\"]\n",
      "[[18  0  0  0]\n",
      " [ 0 56  2 15]\n",
      " [13  7  3 33]\n",
      " [19 29  9 94]]\n",
      "Best Valid Confusion Matrix:[\"ang\",\"sad\",\"hap\",\"neu\"]\n",
      "[[17  0  0  1]\n",
      " [ 0 60  2 11]\n",
      " [ 8  7  6 35]\n",
      " [ 7 32 14 98]]\n",
      "*****************************************************************\n"
     ]
    },
    {
     "name": "stderr",
     "output_type": "stream",
     "text": [
      "c:\\Users\\tejas\\AppData\\Local\\Programs\\Python\\Python310\\lib\\site-packages\\torch\\nn\\functional.py:1538: UserWarning: dropout2d: Received a 2-D input to dropout2d, which is deprecated and will result in an error in a future release. To retain the behavior and silence this warning, please use dropout instead. Note that dropout2d exists to provide channel-wise dropout on inputs with 2 spatial dimensions, a channel dimension, and an optional batch dimension (i.e. 3D or 4D inputs).\n",
      "  warnings.warn(warn_msg)\n"
     ]
    },
    {
     "name": "stdout",
     "output_type": "stream",
     "text": [
      "*****************************************************************\n",
      "Epoch: 00017\n",
      "Valid cost: 0.0193\n",
      "Valid_UA: 0.6214\n",
      "Best valid_UA: 0.6306\n",
      "Valid Confusion Matrix:[\"ang\",\"sad\",\"hap\",\"neu\"]\n",
      "[[18  0  0  0]\n",
      " [ 0 56  2 15]\n",
      " [11  6  5 34]\n",
      " [12 30 14 95]]\n",
      "Best Valid Confusion Matrix:[\"ang\",\"sad\",\"hap\",\"neu\"]\n",
      "[[17  0  0  1]\n",
      " [ 0 60  2 11]\n",
      " [ 8  7  6 35]\n",
      " [ 7 32 14 98]]\n",
      "*****************************************************************\n"
     ]
    },
    {
     "name": "stderr",
     "output_type": "stream",
     "text": [
      "c:\\Users\\tejas\\AppData\\Local\\Programs\\Python\\Python310\\lib\\site-packages\\torch\\nn\\functional.py:1538: UserWarning: dropout2d: Received a 2-D input to dropout2d, which is deprecated and will result in an error in a future release. To retain the behavior and silence this warning, please use dropout instead. Note that dropout2d exists to provide channel-wise dropout on inputs with 2 spatial dimensions, a channel dimension, and an optional batch dimension (i.e. 3D or 4D inputs).\n",
      "  warnings.warn(warn_msg)\n"
     ]
    },
    {
     "name": "stdout",
     "output_type": "stream",
     "text": [
      "*****************************************************************\n",
      "Epoch: 00018\n",
      "Valid cost: 0.0192\n",
      "Valid_UA: 0.6108\n",
      "Best valid_UA: 0.6306\n",
      "Valid Confusion Matrix:[\"ang\",\"sad\",\"hap\",\"neu\"]\n",
      "[[17  0  0  1]\n",
      " [ 0 56  2 15]\n",
      " [11  6  5 34]\n",
      " [12 30 12 97]]\n",
      "Best Valid Confusion Matrix:[\"ang\",\"sad\",\"hap\",\"neu\"]\n",
      "[[17  0  0  1]\n",
      " [ 0 60  2 11]\n",
      " [ 8  7  6 35]\n",
      " [ 7 32 14 98]]\n",
      "*****************************************************************\n"
     ]
    },
    {
     "name": "stderr",
     "output_type": "stream",
     "text": [
      "c:\\Users\\tejas\\AppData\\Local\\Programs\\Python\\Python310\\lib\\site-packages\\torch\\nn\\functional.py:1538: UserWarning: dropout2d: Received a 2-D input to dropout2d, which is deprecated and will result in an error in a future release. To retain the behavior and silence this warning, please use dropout instead. Note that dropout2d exists to provide channel-wise dropout on inputs with 2 spatial dimensions, a channel dimension, and an optional batch dimension (i.e. 3D or 4D inputs).\n",
      "  warnings.warn(warn_msg)\n"
     ]
    },
    {
     "name": "stdout",
     "output_type": "stream",
     "text": [
      "*****************************************************************\n",
      "Epoch: 00019\n",
      "Valid cost: 0.0191\n",
      "Valid_UA: 0.6299\n",
      "Best valid_UA: 0.6306\n",
      "Valid Confusion Matrix:[\"ang\",\"sad\",\"hap\",\"neu\"]\n",
      "[[17  0  0  1]\n",
      " [ 0 58  2 13]\n",
      " [ 9  7  7 33]\n",
      " [ 7 31 14 99]]\n",
      "Best Valid Confusion Matrix:[\"ang\",\"sad\",\"hap\",\"neu\"]\n",
      "[[17  0  0  1]\n",
      " [ 0 60  2 11]\n",
      " [ 8  7  6 35]\n",
      " [ 7 32 14 98]]\n",
      "*****************************************************************\n"
     ]
    },
    {
     "name": "stderr",
     "output_type": "stream",
     "text": [
      "c:\\Users\\tejas\\AppData\\Local\\Programs\\Python\\Python310\\lib\\site-packages\\torch\\nn\\functional.py:1538: UserWarning: dropout2d: Received a 2-D input to dropout2d, which is deprecated and will result in an error in a future release. To retain the behavior and silence this warning, please use dropout instead. Note that dropout2d exists to provide channel-wise dropout on inputs with 2 spatial dimensions, a channel dimension, and an optional batch dimension (i.e. 3D or 4D inputs).\n",
      "  warnings.warn(warn_msg)\n"
     ]
    },
    {
     "name": "stdout",
     "output_type": "stream",
     "text": [
      "*****************************************************************\n",
      "Epoch: 00020\n",
      "Valid cost: 0.019\n",
      "Valid_UA: 0.6308\n",
      "Best valid_UA: 0.6308\n",
      "Valid Confusion Matrix:[\"ang\",\"sad\",\"hap\",\"neu\"]\n",
      "[[ 17   0   0   1]\n",
      " [  0  56   2  15]\n",
      " [  8   6   8  34]\n",
      " [  5  29  16 101]]\n",
      "Best Valid Confusion Matrix:[\"ang\",\"sad\",\"hap\",\"neu\"]\n",
      "[[ 17   0   0   1]\n",
      " [  0  56   2  15]\n",
      " [  8   6   8  34]\n",
      " [  5  29  16 101]]\n",
      "*****************************************************************\n"
     ]
    },
    {
     "name": "stderr",
     "output_type": "stream",
     "text": [
      "c:\\Users\\tejas\\AppData\\Local\\Programs\\Python\\Python310\\lib\\site-packages\\torch\\nn\\functional.py:1538: UserWarning: dropout2d: Received a 2-D input to dropout2d, which is deprecated and will result in an error in a future release. To retain the behavior and silence this warning, please use dropout instead. Note that dropout2d exists to provide channel-wise dropout on inputs with 2 spatial dimensions, a channel dimension, and an optional batch dimension (i.e. 3D or 4D inputs).\n",
      "  warnings.warn(warn_msg)\n"
     ]
    },
    {
     "name": "stdout",
     "output_type": "stream",
     "text": [
      "*****************************************************************\n",
      "Epoch: 00021\n",
      "Valid cost: 0.019\n",
      "Valid_UA: 0.6261\n",
      "Best valid_UA: 0.6308\n",
      "Valid Confusion Matrix:[\"ang\",\"sad\",\"hap\",\"neu\"]\n",
      "[[16  0  1  1]\n",
      " [ 0 58  2 13]\n",
      " [ 7  6 10 33]\n",
      " [ 6 31 17 97]]\n",
      "Best Valid Confusion Matrix:[\"ang\",\"sad\",\"hap\",\"neu\"]\n",
      "[[ 17   0   0   1]\n",
      " [  0  56   2  15]\n",
      " [  8   6   8  34]\n",
      " [  5  29  16 101]]\n",
      "*****************************************************************\n"
     ]
    },
    {
     "name": "stderr",
     "output_type": "stream",
     "text": [
      "c:\\Users\\tejas\\AppData\\Local\\Programs\\Python\\Python310\\lib\\site-packages\\torch\\nn\\functional.py:1538: UserWarning: dropout2d: Received a 2-D input to dropout2d, which is deprecated and will result in an error in a future release. To retain the behavior and silence this warning, please use dropout instead. Note that dropout2d exists to provide channel-wise dropout on inputs with 2 spatial dimensions, a channel dimension, and an optional batch dimension (i.e. 3D or 4D inputs).\n",
      "  warnings.warn(warn_msg)\n"
     ]
    },
    {
     "name": "stdout",
     "output_type": "stream",
     "text": [
      "*****************************************************************\n",
      "Epoch: 00022\n",
      "Valid cost: 0.019\n",
      "Valid_UA: 0.6389\n",
      "Best valid_UA: 0.6389\n",
      "Valid Confusion Matrix:[\"ang\",\"sad\",\"hap\",\"neu\"]\n",
      "[[ 18   0   0   0]\n",
      " [  0  53   3  17]\n",
      " [  8   6   9  33]\n",
      " [  8  28  14 101]]\n",
      "Best Valid Confusion Matrix:[\"ang\",\"sad\",\"hap\",\"neu\"]\n",
      "[[ 18   0   0   0]\n",
      " [  0  53   3  17]\n",
      " [  8   6   9  33]\n",
      " [  8  28  14 101]]\n",
      "*****************************************************************\n"
     ]
    },
    {
     "name": "stderr",
     "output_type": "stream",
     "text": [
      "c:\\Users\\tejas\\AppData\\Local\\Programs\\Python\\Python310\\lib\\site-packages\\torch\\nn\\functional.py:1538: UserWarning: dropout2d: Received a 2-D input to dropout2d, which is deprecated and will result in an error in a future release. To retain the behavior and silence this warning, please use dropout instead. Note that dropout2d exists to provide channel-wise dropout on inputs with 2 spatial dimensions, a channel dimension, and an optional batch dimension (i.e. 3D or 4D inputs).\n",
      "  warnings.warn(warn_msg)\n"
     ]
    },
    {
     "name": "stdout",
     "output_type": "stream",
     "text": [
      "*****************************************************************\n",
      "Epoch: 00023\n",
      "Valid cost: 0.0189\n",
      "Valid_UA: 0.618\n",
      "Best valid_UA: 0.6389\n",
      "Valid Confusion Matrix:[\"ang\",\"sad\",\"hap\",\"neu\"]\n",
      "[[ 15   0   2   1]\n",
      " [  0  55   3  15]\n",
      " [  5   6  11  34]\n",
      " [  1  27  19 104]]\n",
      "Best Valid Confusion Matrix:[\"ang\",\"sad\",\"hap\",\"neu\"]\n",
      "[[ 18   0   0   0]\n",
      " [  0  53   3  17]\n",
      " [  8   6   9  33]\n",
      " [  8  28  14 101]]\n",
      "*****************************************************************\n"
     ]
    },
    {
     "name": "stderr",
     "output_type": "stream",
     "text": [
      "c:\\Users\\tejas\\AppData\\Local\\Programs\\Python\\Python310\\lib\\site-packages\\torch\\nn\\functional.py:1538: UserWarning: dropout2d: Received a 2-D input to dropout2d, which is deprecated and will result in an error in a future release. To retain the behavior and silence this warning, please use dropout instead. Note that dropout2d exists to provide channel-wise dropout on inputs with 2 spatial dimensions, a channel dimension, and an optional batch dimension (i.e. 3D or 4D inputs).\n",
      "  warnings.warn(warn_msg)\n"
     ]
    },
    {
     "name": "stdout",
     "output_type": "stream",
     "text": [
      "*****************************************************************\n",
      "Epoch: 00024\n",
      "Valid cost: 0.0188\n",
      "Valid_UA: 0.6213\n",
      "Best valid_UA: 0.6389\n",
      "Valid Confusion Matrix:[\"ang\",\"sad\",\"hap\",\"neu\"]\n",
      "[[ 16   0   1   1]\n",
      " [  0  55   3  15]\n",
      " [  7   6   9  34]\n",
      " [  5  28  15 103]]\n",
      "Best Valid Confusion Matrix:[\"ang\",\"sad\",\"hap\",\"neu\"]\n",
      "[[ 18   0   0   0]\n",
      " [  0  53   3  17]\n",
      " [  8   6   9  33]\n",
      " [  8  28  14 101]]\n",
      "*****************************************************************\n"
     ]
    },
    {
     "name": "stderr",
     "output_type": "stream",
     "text": [
      "c:\\Users\\tejas\\AppData\\Local\\Programs\\Python\\Python310\\lib\\site-packages\\torch\\nn\\functional.py:1538: UserWarning: dropout2d: Received a 2-D input to dropout2d, which is deprecated and will result in an error in a future release. To retain the behavior and silence this warning, please use dropout instead. Note that dropout2d exists to provide channel-wise dropout on inputs with 2 spatial dimensions, a channel dimension, and an optional batch dimension (i.e. 3D or 4D inputs).\n",
      "  warnings.warn(warn_msg)\n"
     ]
    },
    {
     "name": "stdout",
     "output_type": "stream",
     "text": [
      "*****************************************************************\n",
      "Epoch: 00025\n",
      "Valid cost: 0.0188\n",
      "Valid_UA: 0.6238\n",
      "Best valid_UA: 0.6389\n",
      "Valid Confusion Matrix:[\"ang\",\"sad\",\"hap\",\"neu\"]\n",
      "[[ 16   0   1   1]\n",
      " [  0  52   3  18]\n",
      " [  7   5  10  34]\n",
      " [  5  21  17 108]]\n",
      "Best Valid Confusion Matrix:[\"ang\",\"sad\",\"hap\",\"neu\"]\n",
      "[[ 18   0   0   0]\n",
      " [  0  53   3  17]\n",
      " [  8   6   9  33]\n",
      " [  8  28  14 101]]\n",
      "*****************************************************************\n"
     ]
    },
    {
     "name": "stderr",
     "output_type": "stream",
     "text": [
      "c:\\Users\\tejas\\AppData\\Local\\Programs\\Python\\Python310\\lib\\site-packages\\torch\\nn\\functional.py:1538: UserWarning: dropout2d: Received a 2-D input to dropout2d, which is deprecated and will result in an error in a future release. To retain the behavior and silence this warning, please use dropout instead. Note that dropout2d exists to provide channel-wise dropout on inputs with 2 spatial dimensions, a channel dimension, and an optional batch dimension (i.e. 3D or 4D inputs).\n",
      "  warnings.warn(warn_msg)\n"
     ]
    },
    {
     "name": "stdout",
     "output_type": "stream",
     "text": [
      "*****************************************************************\n",
      "Epoch: 00026\n",
      "Valid cost: 0.0187\n",
      "Valid_UA: 0.6195\n",
      "Best valid_UA: 0.6389\n",
      "Valid Confusion Matrix:[\"ang\",\"sad\",\"hap\",\"neu\"]\n",
      "[[ 15   0   2   1]\n",
      " [  0  54   3  16]\n",
      " [  3   6  11  36]\n",
      " [  0  26  18 107]]\n",
      "Best Valid Confusion Matrix:[\"ang\",\"sad\",\"hap\",\"neu\"]\n",
      "[[ 18   0   0   0]\n",
      " [  0  53   3  17]\n",
      " [  8   6   9  33]\n",
      " [  8  28  14 101]]\n",
      "*****************************************************************\n"
     ]
    },
    {
     "name": "stderr",
     "output_type": "stream",
     "text": [
      "c:\\Users\\tejas\\AppData\\Local\\Programs\\Python\\Python310\\lib\\site-packages\\torch\\nn\\functional.py:1538: UserWarning: dropout2d: Received a 2-D input to dropout2d, which is deprecated and will result in an error in a future release. To retain the behavior and silence this warning, please use dropout instead. Note that dropout2d exists to provide channel-wise dropout on inputs with 2 spatial dimensions, a channel dimension, and an optional batch dimension (i.e. 3D or 4D inputs).\n",
      "  warnings.warn(warn_msg)\n"
     ]
    },
    {
     "name": "stdout",
     "output_type": "stream",
     "text": [
      "*****************************************************************\n",
      "Epoch: 00027\n",
      "Valid cost: 0.0188\n",
      "Valid_UA: 0.63\n",
      "Best valid_UA: 0.6389\n",
      "Valid Confusion Matrix:[\"ang\",\"sad\",\"hap\",\"neu\"]\n",
      "[[ 17   0   0   1]\n",
      " [  0  53   3  17]\n",
      " [  8   6   9  33]\n",
      " [ 10  24  13 104]]\n",
      "Best Valid Confusion Matrix:[\"ang\",\"sad\",\"hap\",\"neu\"]\n",
      "[[ 18   0   0   0]\n",
      " [  0  53   3  17]\n",
      " [  8   6   9  33]\n",
      " [  8  28  14 101]]\n",
      "*****************************************************************\n"
     ]
    },
    {
     "name": "stderr",
     "output_type": "stream",
     "text": [
      "c:\\Users\\tejas\\AppData\\Local\\Programs\\Python\\Python310\\lib\\site-packages\\torch\\nn\\functional.py:1538: UserWarning: dropout2d: Received a 2-D input to dropout2d, which is deprecated and will result in an error in a future release. To retain the behavior and silence this warning, please use dropout instead. Note that dropout2d exists to provide channel-wise dropout on inputs with 2 spatial dimensions, a channel dimension, and an optional batch dimension (i.e. 3D or 4D inputs).\n",
      "  warnings.warn(warn_msg)\n"
     ]
    },
    {
     "name": "stdout",
     "output_type": "stream",
     "text": [
      "*****************************************************************\n",
      "Epoch: 00028\n",
      "Valid cost: 0.0187\n",
      "Valid_UA: 0.6072\n",
      "Best valid_UA: 0.6389\n",
      "Valid Confusion Matrix:[\"ang\",\"sad\",\"hap\",\"neu\"]\n",
      "[[ 14   0   3   1]\n",
      " [  0  53   3  17]\n",
      " [  4   5  11  36]\n",
      " [  0  21  20 110]]\n",
      "Best Valid Confusion Matrix:[\"ang\",\"sad\",\"hap\",\"neu\"]\n",
      "[[ 18   0   0   0]\n",
      " [  0  53   3  17]\n",
      " [  8   6   9  33]\n",
      " [  8  28  14 101]]\n",
      "*****************************************************************\n"
     ]
    },
    {
     "name": "stderr",
     "output_type": "stream",
     "text": [
      "c:\\Users\\tejas\\AppData\\Local\\Programs\\Python\\Python310\\lib\\site-packages\\torch\\nn\\functional.py:1538: UserWarning: dropout2d: Received a 2-D input to dropout2d, which is deprecated and will result in an error in a future release. To retain the behavior and silence this warning, please use dropout instead. Note that dropout2d exists to provide channel-wise dropout on inputs with 2 spatial dimensions, a channel dimension, and an optional batch dimension (i.e. 3D or 4D inputs).\n",
      "  warnings.warn(warn_msg)\n"
     ]
    },
    {
     "name": "stdout",
     "output_type": "stream",
     "text": [
      "*****************************************************************\n",
      "Epoch: 00029\n",
      "Valid cost: 0.0186\n",
      "Valid_UA: 0.6088\n",
      "Best valid_UA: 0.6389\n",
      "Valid Confusion Matrix:[\"ang\",\"sad\",\"hap\",\"neu\"]\n",
      "[[ 15   0   2   1]\n",
      " [  0  53   3  17]\n",
      " [  6   5   9  36]\n",
      " [  3  23  17 108]]\n",
      "Best Valid Confusion Matrix:[\"ang\",\"sad\",\"hap\",\"neu\"]\n",
      "[[ 18   0   0   0]\n",
      " [  0  53   3  17]\n",
      " [  8   6   9  33]\n",
      " [  8  28  14 101]]\n",
      "*****************************************************************\n"
     ]
    },
    {
     "name": "stderr",
     "output_type": "stream",
     "text": [
      "c:\\Users\\tejas\\AppData\\Local\\Programs\\Python\\Python310\\lib\\site-packages\\torch\\nn\\functional.py:1538: UserWarning: dropout2d: Received a 2-D input to dropout2d, which is deprecated and will result in an error in a future release. To retain the behavior and silence this warning, please use dropout instead. Note that dropout2d exists to provide channel-wise dropout on inputs with 2 spatial dimensions, a channel dimension, and an optional batch dimension (i.e. 3D or 4D inputs).\n",
      "  warnings.warn(warn_msg)\n"
     ]
    },
    {
     "name": "stdout",
     "output_type": "stream",
     "text": [
      "*****************************************************************\n",
      "Epoch: 00030\n",
      "Valid cost: 0.0186\n",
      "Valid_UA: 0.6371\n",
      "Best valid_UA: 0.6389\n",
      "Valid Confusion Matrix:[\"ang\",\"sad\",\"hap\",\"neu\"]\n",
      "[[ 17   0   0   1]\n",
      " [  0  53   3  17]\n",
      " [  8   5   8  35]\n",
      " [ 11  21   8 111]]\n",
      "Best Valid Confusion Matrix:[\"ang\",\"sad\",\"hap\",\"neu\"]\n",
      "[[ 18   0   0   0]\n",
      " [  0  53   3  17]\n",
      " [  8   6   9  33]\n",
      " [  8  28  14 101]]\n",
      "*****************************************************************\n"
     ]
    },
    {
     "name": "stderr",
     "output_type": "stream",
     "text": [
      "c:\\Users\\tejas\\AppData\\Local\\Programs\\Python\\Python310\\lib\\site-packages\\torch\\nn\\functional.py:1538: UserWarning: dropout2d: Received a 2-D input to dropout2d, which is deprecated and will result in an error in a future release. To retain the behavior and silence this warning, please use dropout instead. Note that dropout2d exists to provide channel-wise dropout on inputs with 2 spatial dimensions, a channel dimension, and an optional batch dimension (i.e. 3D or 4D inputs).\n",
      "  warnings.warn(warn_msg)\n"
     ]
    },
    {
     "name": "stdout",
     "output_type": "stream",
     "text": [
      "*****************************************************************\n",
      "Epoch: 00031\n",
      "Valid cost: 0.0186\n",
      "Valid_UA: 0.6236\n",
      "Best valid_UA: 0.6389\n",
      "Valid Confusion Matrix:[\"ang\",\"sad\",\"hap\",\"neu\"]\n",
      "[[ 16   0   1   1]\n",
      " [  0  51   3  19]\n",
      " [  6   4  10  36]\n",
      " [  8  18  15 110]]\n",
      "Best Valid Confusion Matrix:[\"ang\",\"sad\",\"hap\",\"neu\"]\n",
      "[[ 18   0   0   0]\n",
      " [  0  53   3  17]\n",
      " [  8   6   9  33]\n",
      " [  8  28  14 101]]\n",
      "*****************************************************************\n"
     ]
    },
    {
     "name": "stderr",
     "output_type": "stream",
     "text": [
      "c:\\Users\\tejas\\AppData\\Local\\Programs\\Python\\Python310\\lib\\site-packages\\torch\\nn\\functional.py:1538: UserWarning: dropout2d: Received a 2-D input to dropout2d, which is deprecated and will result in an error in a future release. To retain the behavior and silence this warning, please use dropout instead. Note that dropout2d exists to provide channel-wise dropout on inputs with 2 spatial dimensions, a channel dimension, and an optional batch dimension (i.e. 3D or 4D inputs).\n",
      "  warnings.warn(warn_msg)\n"
     ]
    },
    {
     "name": "stdout",
     "output_type": "stream",
     "text": [
      "*****************************************************************\n",
      "Epoch: 00032\n",
      "Valid cost: 0.0186\n",
      "Valid_UA: 0.6117\n",
      "Best valid_UA: 0.6389\n",
      "Valid Confusion Matrix:[\"ang\",\"sad\",\"hap\",\"neu\"]\n",
      "[[ 15   0   2   1]\n",
      " [  0  54   3  16]\n",
      " [  6   5  10  35]\n",
      " [  3  24  19 105]]\n",
      "Best Valid Confusion Matrix:[\"ang\",\"sad\",\"hap\",\"neu\"]\n",
      "[[ 18   0   0   0]\n",
      " [  0  53   3  17]\n",
      " [  8   6   9  33]\n",
      " [  8  28  14 101]]\n",
      "*****************************************************************\n"
     ]
    },
    {
     "name": "stderr",
     "output_type": "stream",
     "text": [
      "c:\\Users\\tejas\\AppData\\Local\\Programs\\Python\\Python310\\lib\\site-packages\\torch\\nn\\functional.py:1538: UserWarning: dropout2d: Received a 2-D input to dropout2d, which is deprecated and will result in an error in a future release. To retain the behavior and silence this warning, please use dropout instead. Note that dropout2d exists to provide channel-wise dropout on inputs with 2 spatial dimensions, a channel dimension, and an optional batch dimension (i.e. 3D or 4D inputs).\n",
      "  warnings.warn(warn_msg)\n"
     ]
    },
    {
     "name": "stdout",
     "output_type": "stream",
     "text": [
      "*****************************************************************\n",
      "Epoch: 00033\n",
      "Valid cost: 0.0185\n",
      "Valid_UA: 0.6264\n",
      "Best valid_UA: 0.6389\n",
      "Valid Confusion Matrix:[\"ang\",\"sad\",\"hap\",\"neu\"]\n",
      "[[ 15   0   2   1]\n",
      " [  0  56   3  14]\n",
      " [  4   6  11  35]\n",
      " [  1  24  19 107]]\n",
      "Best Valid Confusion Matrix:[\"ang\",\"sad\",\"hap\",\"neu\"]\n",
      "[[ 18   0   0   0]\n",
      " [  0  53   3  17]\n",
      " [  8   6   9  33]\n",
      " [  8  28  14 101]]\n",
      "*****************************************************************\n"
     ]
    },
    {
     "name": "stderr",
     "output_type": "stream",
     "text": [
      "c:\\Users\\tejas\\AppData\\Local\\Programs\\Python\\Python310\\lib\\site-packages\\torch\\nn\\functional.py:1538: UserWarning: dropout2d: Received a 2-D input to dropout2d, which is deprecated and will result in an error in a future release. To retain the behavior and silence this warning, please use dropout instead. Note that dropout2d exists to provide channel-wise dropout on inputs with 2 spatial dimensions, a channel dimension, and an optional batch dimension (i.e. 3D or 4D inputs).\n",
      "  warnings.warn(warn_msg)\n"
     ]
    },
    {
     "name": "stdout",
     "output_type": "stream",
     "text": [
      "*****************************************************************\n",
      "Epoch: 00034\n",
      "Valid cost: 0.0185\n",
      "Valid_UA: 0.6213\n",
      "Best valid_UA: 0.6389\n",
      "Valid Confusion Matrix:[\"ang\",\"sad\",\"hap\",\"neu\"]\n",
      "[[ 15   0   2   1]\n",
      " [  0  55   3  15]\n",
      " [  4   5  11  36]\n",
      " [  2  24  19 106]]\n",
      "Best Valid Confusion Matrix:[\"ang\",\"sad\",\"hap\",\"neu\"]\n",
      "[[ 18   0   0   0]\n",
      " [  0  53   3  17]\n",
      " [  8   6   9  33]\n",
      " [  8  28  14 101]]\n",
      "*****************************************************************\n"
     ]
    },
    {
     "name": "stderr",
     "output_type": "stream",
     "text": [
      "c:\\Users\\tejas\\AppData\\Local\\Programs\\Python\\Python310\\lib\\site-packages\\torch\\nn\\functional.py:1538: UserWarning: dropout2d: Received a 2-D input to dropout2d, which is deprecated and will result in an error in a future release. To retain the behavior and silence this warning, please use dropout instead. Note that dropout2d exists to provide channel-wise dropout on inputs with 2 spatial dimensions, a channel dimension, and an optional batch dimension (i.e. 3D or 4D inputs).\n",
      "  warnings.warn(warn_msg)\n"
     ]
    },
    {
     "name": "stdout",
     "output_type": "stream",
     "text": [
      "*****************************************************************\n",
      "Epoch: 00035\n",
      "Valid cost: 0.0185\n",
      "Valid_UA: 0.6463\n",
      "Best valid_UA: 0.6463\n",
      "Valid Confusion Matrix:[\"ang\",\"sad\",\"hap\",\"neu\"]\n",
      "[[ 17   0   0   1]\n",
      " [  0  55   3  15]\n",
      " [  7   5  10  34]\n",
      " [  9  21  14 107]]\n",
      "Best Valid Confusion Matrix:[\"ang\",\"sad\",\"hap\",\"neu\"]\n",
      "[[ 17   0   0   1]\n",
      " [  0  55   3  15]\n",
      " [  7   5  10  34]\n",
      " [  9  21  14 107]]\n",
      "*****************************************************************\n"
     ]
    },
    {
     "name": "stderr",
     "output_type": "stream",
     "text": [
      "c:\\Users\\tejas\\AppData\\Local\\Programs\\Python\\Python310\\lib\\site-packages\\torch\\nn\\functional.py:1538: UserWarning: dropout2d: Received a 2-D input to dropout2d, which is deprecated and will result in an error in a future release. To retain the behavior and silence this warning, please use dropout instead. Note that dropout2d exists to provide channel-wise dropout on inputs with 2 spatial dimensions, a channel dimension, and an optional batch dimension (i.e. 3D or 4D inputs).\n",
      "  warnings.warn(warn_msg)\n"
     ]
    },
    {
     "name": "stdout",
     "output_type": "stream",
     "text": [
      "*****************************************************************\n",
      "Epoch: 00036\n",
      "Valid cost: 0.0184\n",
      "Valid_UA: 0.6227\n",
      "Best valid_UA: 0.6463\n",
      "Valid Confusion Matrix:[\"ang\",\"sad\",\"hap\",\"neu\"]\n",
      "[[ 15   0   2   1]\n",
      " [  0  53   5  15]\n",
      " [  4   5  11  36]\n",
      " [  0  20  20 111]]\n",
      "Best Valid Confusion Matrix:[\"ang\",\"sad\",\"hap\",\"neu\"]\n",
      "[[ 17   0   0   1]\n",
      " [  0  55   3  15]\n",
      " [  7   5  10  34]\n",
      " [  9  21  14 107]]\n",
      "*****************************************************************\n"
     ]
    },
    {
     "name": "stderr",
     "output_type": "stream",
     "text": [
      "c:\\Users\\tejas\\AppData\\Local\\Programs\\Python\\Python310\\lib\\site-packages\\torch\\nn\\functional.py:1538: UserWarning: dropout2d: Received a 2-D input to dropout2d, which is deprecated and will result in an error in a future release. To retain the behavior and silence this warning, please use dropout instead. Note that dropout2d exists to provide channel-wise dropout on inputs with 2 spatial dimensions, a channel dimension, and an optional batch dimension (i.e. 3D or 4D inputs).\n",
      "  warnings.warn(warn_msg)\n"
     ]
    },
    {
     "name": "stdout",
     "output_type": "stream",
     "text": [
      "*****************************************************************\n",
      "Epoch: 00037\n",
      "Valid cost: 0.0184\n",
      "Valid_UA: 0.65\n",
      "Best valid_UA: 0.65\n",
      "Valid Confusion Matrix:[\"ang\",\"sad\",\"hap\",\"neu\"]\n",
      "[[ 17   0   0   1]\n",
      " [  0  54   3  16]\n",
      " [  7   5   9  35]\n",
      " [  8  19  10 114]]\n",
      "Best Valid Confusion Matrix:[\"ang\",\"sad\",\"hap\",\"neu\"]\n",
      "[[ 17   0   0   1]\n",
      " [  0  54   3  16]\n",
      " [  7   5   9  35]\n",
      " [  8  19  10 114]]\n",
      "*****************************************************************\n"
     ]
    },
    {
     "name": "stderr",
     "output_type": "stream",
     "text": [
      "c:\\Users\\tejas\\AppData\\Local\\Programs\\Python\\Python310\\lib\\site-packages\\torch\\nn\\functional.py:1538: UserWarning: dropout2d: Received a 2-D input to dropout2d, which is deprecated and will result in an error in a future release. To retain the behavior and silence this warning, please use dropout instead. Note that dropout2d exists to provide channel-wise dropout on inputs with 2 spatial dimensions, a channel dimension, and an optional batch dimension (i.e. 3D or 4D inputs).\n",
      "  warnings.warn(warn_msg)\n"
     ]
    },
    {
     "name": "stdout",
     "output_type": "stream",
     "text": [
      "*****************************************************************\n",
      "Epoch: 00038\n",
      "Valid cost: 0.0185\n",
      "Valid_UA: 0.6144\n",
      "Best valid_UA: 0.65\n",
      "Valid Confusion Matrix:[\"ang\",\"sad\",\"hap\",\"neu\"]\n",
      "[[ 15   0   2   1]\n",
      " [  0  53   7  13]\n",
      " [  5   5  11  35]\n",
      " [  1  22  22 106]]\n",
      "Best Valid Confusion Matrix:[\"ang\",\"sad\",\"hap\",\"neu\"]\n",
      "[[ 17   0   0   1]\n",
      " [  0  54   3  16]\n",
      " [  7   5   9  35]\n",
      " [  8  19  10 114]]\n",
      "*****************************************************************\n"
     ]
    },
    {
     "name": "stderr",
     "output_type": "stream",
     "text": [
      "c:\\Users\\tejas\\AppData\\Local\\Programs\\Python\\Python310\\lib\\site-packages\\torch\\nn\\functional.py:1538: UserWarning: dropout2d: Received a 2-D input to dropout2d, which is deprecated and will result in an error in a future release. To retain the behavior and silence this warning, please use dropout instead. Note that dropout2d exists to provide channel-wise dropout on inputs with 2 spatial dimensions, a channel dimension, and an optional batch dimension (i.e. 3D or 4D inputs).\n",
      "  warnings.warn(warn_msg)\n"
     ]
    },
    {
     "name": "stdout",
     "output_type": "stream",
     "text": [
      "*****************************************************************\n",
      "Epoch: 00039\n",
      "Valid cost: 0.0184\n",
      "Valid_UA: 0.6507\n",
      "Best valid_UA: 0.6507\n",
      "Valid Confusion Matrix:[\"ang\",\"sad\",\"hap\",\"neu\"]\n",
      "[[ 17   0   1   0]\n",
      " [  0  55   5  13]\n",
      " [  6   5  11  34]\n",
      " [ 10  22  12 107]]\n",
      "Best Valid Confusion Matrix:[\"ang\",\"sad\",\"hap\",\"neu\"]\n",
      "[[ 17   0   1   0]\n",
      " [  0  55   5  13]\n",
      " [  6   5  11  34]\n",
      " [ 10  22  12 107]]\n",
      "*****************************************************************\n"
     ]
    },
    {
     "name": "stderr",
     "output_type": "stream",
     "text": [
      "c:\\Users\\tejas\\AppData\\Local\\Programs\\Python\\Python310\\lib\\site-packages\\torch\\nn\\functional.py:1538: UserWarning: dropout2d: Received a 2-D input to dropout2d, which is deprecated and will result in an error in a future release. To retain the behavior and silence this warning, please use dropout instead. Note that dropout2d exists to provide channel-wise dropout on inputs with 2 spatial dimensions, a channel dimension, and an optional batch dimension (i.e. 3D or 4D inputs).\n",
      "  warnings.warn(warn_msg)\n"
     ]
    },
    {
     "name": "stdout",
     "output_type": "stream",
     "text": [
      "*****************************************************************\n",
      "Epoch: 00040\n",
      "Valid cost: 0.0184\n",
      "Valid_UA: 0.6279\n",
      "Best valid_UA: 0.6507\n",
      "Valid Confusion Matrix:[\"ang\",\"sad\",\"hap\",\"neu\"]\n",
      "[[ 15   0   2   1]\n",
      " [  0  55   5  13]\n",
      " [  4   5  11  36]\n",
      " [  0  22  19 110]]\n",
      "Best Valid Confusion Matrix:[\"ang\",\"sad\",\"hap\",\"neu\"]\n",
      "[[ 17   0   1   0]\n",
      " [  0  55   5  13]\n",
      " [  6   5  11  34]\n",
      " [ 10  22  12 107]]\n",
      "*****************************************************************\n"
     ]
    },
    {
     "name": "stderr",
     "output_type": "stream",
     "text": [
      "c:\\Users\\tejas\\AppData\\Local\\Programs\\Python\\Python310\\lib\\site-packages\\torch\\nn\\functional.py:1538: UserWarning: dropout2d: Received a 2-D input to dropout2d, which is deprecated and will result in an error in a future release. To retain the behavior and silence this warning, please use dropout instead. Note that dropout2d exists to provide channel-wise dropout on inputs with 2 spatial dimensions, a channel dimension, and an optional batch dimension (i.e. 3D or 4D inputs).\n",
      "  warnings.warn(warn_msg)\n"
     ]
    },
    {
     "name": "stdout",
     "output_type": "stream",
     "text": [
      "*****************************************************************\n",
      "Epoch: 00041\n",
      "Valid cost: 0.0183\n",
      "Valid_UA: 0.6296\n",
      "Best valid_UA: 0.6507\n",
      "Valid Confusion Matrix:[\"ang\",\"sad\",\"hap\",\"neu\"]\n",
      "[[ 15   0   2   1]\n",
      " [  0  55   5  13]\n",
      " [  5   5  11  35]\n",
      " [  4  21  15 111]]\n",
      "Best Valid Confusion Matrix:[\"ang\",\"sad\",\"hap\",\"neu\"]\n",
      "[[ 17   0   1   0]\n",
      " [  0  55   5  13]\n",
      " [  6   5  11  34]\n",
      " [ 10  22  12 107]]\n",
      "*****************************************************************\n"
     ]
    },
    {
     "name": "stderr",
     "output_type": "stream",
     "text": [
      "c:\\Users\\tejas\\AppData\\Local\\Programs\\Python\\Python310\\lib\\site-packages\\torch\\nn\\functional.py:1538: UserWarning: dropout2d: Received a 2-D input to dropout2d, which is deprecated and will result in an error in a future release. To retain the behavior and silence this warning, please use dropout instead. Note that dropout2d exists to provide channel-wise dropout on inputs with 2 spatial dimensions, a channel dimension, and an optional batch dimension (i.e. 3D or 4D inputs).\n",
      "  warnings.warn(warn_msg)\n"
     ]
    },
    {
     "name": "stdout",
     "output_type": "stream",
     "text": [
      "*****************************************************************\n",
      "Epoch: 00042\n",
      "Valid cost: 0.0183\n",
      "Valid_UA: 0.6506\n",
      "Best valid_UA: 0.6507\n",
      "Valid Confusion Matrix:[\"ang\",\"sad\",\"hap\",\"neu\"]\n",
      "[[ 17   0   1   0]\n",
      " [  0  54   5  14]\n",
      " [  6   5  11  34]\n",
      " [ 10  21  11 109]]\n",
      "Best Valid Confusion Matrix:[\"ang\",\"sad\",\"hap\",\"neu\"]\n",
      "[[ 17   0   1   0]\n",
      " [  0  55   5  13]\n",
      " [  6   5  11  34]\n",
      " [ 10  22  12 107]]\n",
      "*****************************************************************\n"
     ]
    },
    {
     "name": "stderr",
     "output_type": "stream",
     "text": [
      "c:\\Users\\tejas\\AppData\\Local\\Programs\\Python\\Python310\\lib\\site-packages\\torch\\nn\\functional.py:1538: UserWarning: dropout2d: Received a 2-D input to dropout2d, which is deprecated and will result in an error in a future release. To retain the behavior and silence this warning, please use dropout instead. Note that dropout2d exists to provide channel-wise dropout on inputs with 2 spatial dimensions, a channel dimension, and an optional batch dimension (i.e. 3D or 4D inputs).\n",
      "  warnings.warn(warn_msg)\n"
     ]
    },
    {
     "name": "stdout",
     "output_type": "stream",
     "text": [
      "*****************************************************************\n",
      "Epoch: 00043\n",
      "Valid cost: 0.0183\n",
      "Valid_UA: 0.6091\n",
      "Best valid_UA: 0.6507\n",
      "Valid Confusion Matrix:[\"ang\",\"sad\",\"hap\",\"neu\"]\n",
      "[[ 14   0   3   1]\n",
      " [  0  55   5  13]\n",
      " [  4   5  11  36]\n",
      " [  1  22  21 107]]\n",
      "Best Valid Confusion Matrix:[\"ang\",\"sad\",\"hap\",\"neu\"]\n",
      "[[ 17   0   1   0]\n",
      " [  0  55   5  13]\n",
      " [  6   5  11  34]\n",
      " [ 10  22  12 107]]\n",
      "*****************************************************************\n"
     ]
    },
    {
     "name": "stderr",
     "output_type": "stream",
     "text": [
      "c:\\Users\\tejas\\AppData\\Local\\Programs\\Python\\Python310\\lib\\site-packages\\torch\\nn\\functional.py:1538: UserWarning: dropout2d: Received a 2-D input to dropout2d, which is deprecated and will result in an error in a future release. To retain the behavior and silence this warning, please use dropout instead. Note that dropout2d exists to provide channel-wise dropout on inputs with 2 spatial dimensions, a channel dimension, and an optional batch dimension (i.e. 3D or 4D inputs).\n",
      "  warnings.warn(warn_msg)\n"
     ]
    },
    {
     "name": "stdout",
     "output_type": "stream",
     "text": [
      "*****************************************************************\n",
      "Epoch: 00044\n",
      "Valid cost: 0.0185\n",
      "Valid_UA: 0.5873\n",
      "Best valid_UA: 0.6507\n",
      "Valid Confusion Matrix:[\"ang\",\"sad\",\"hap\",\"neu\"]\n",
      "[[ 12   0   5   1]\n",
      " [  0  54   6  13]\n",
      " [  3   5  12  36]\n",
      " [  0  19  22 110]]\n",
      "Best Valid Confusion Matrix:[\"ang\",\"sad\",\"hap\",\"neu\"]\n",
      "[[ 17   0   1   0]\n",
      " [  0  55   5  13]\n",
      " [  6   5  11  34]\n",
      " [ 10  22  12 107]]\n",
      "*****************************************************************\n"
     ]
    },
    {
     "name": "stderr",
     "output_type": "stream",
     "text": [
      "c:\\Users\\tejas\\AppData\\Local\\Programs\\Python\\Python310\\lib\\site-packages\\torch\\nn\\functional.py:1538: UserWarning: dropout2d: Received a 2-D input to dropout2d, which is deprecated and will result in an error in a future release. To retain the behavior and silence this warning, please use dropout instead. Note that dropout2d exists to provide channel-wise dropout on inputs with 2 spatial dimensions, a channel dimension, and an optional batch dimension (i.e. 3D or 4D inputs).\n",
      "  warnings.warn(warn_msg)\n"
     ]
    },
    {
     "name": "stdout",
     "output_type": "stream",
     "text": [
      "*****************************************************************\n",
      "Epoch: 00045\n",
      "Valid cost: 0.0185\n",
      "Valid_UA: 0.558\n",
      "Best valid_UA: 0.6507\n",
      "Valid Confusion Matrix:[\"ang\",\"sad\",\"hap\",\"neu\"]\n",
      "[[ 10   0   6   2]\n",
      " [  0  55   5  13]\n",
      " [  3   5  12  36]\n",
      " [  0  24  20 107]]\n",
      "Best Valid Confusion Matrix:[\"ang\",\"sad\",\"hap\",\"neu\"]\n",
      "[[ 17   0   1   0]\n",
      " [  0  55   5  13]\n",
      " [  6   5  11  34]\n",
      " [ 10  22  12 107]]\n",
      "*****************************************************************\n"
     ]
    },
    {
     "name": "stderr",
     "output_type": "stream",
     "text": [
      "c:\\Users\\tejas\\AppData\\Local\\Programs\\Python\\Python310\\lib\\site-packages\\torch\\nn\\functional.py:1538: UserWarning: dropout2d: Received a 2-D input to dropout2d, which is deprecated and will result in an error in a future release. To retain the behavior and silence this warning, please use dropout instead. Note that dropout2d exists to provide channel-wise dropout on inputs with 2 spatial dimensions, a channel dimension, and an optional batch dimension (i.e. 3D or 4D inputs).\n",
      "  warnings.warn(warn_msg)\n"
     ]
    },
    {
     "name": "stdout",
     "output_type": "stream",
     "text": [
      "*****************************************************************\n",
      "Epoch: 00046\n",
      "Valid cost: 0.0183\n",
      "Valid_UA: 0.6124\n",
      "Best valid_UA: 0.6507\n",
      "Valid Confusion Matrix:[\"ang\",\"sad\",\"hap\",\"neu\"]\n",
      "[[ 14   0   3   1]\n",
      " [  0  55   5  13]\n",
      " [  4   5  11  36]\n",
      " [  2  21  19 109]]\n",
      "Best Valid Confusion Matrix:[\"ang\",\"sad\",\"hap\",\"neu\"]\n",
      "[[ 17   0   1   0]\n",
      " [  0  55   5  13]\n",
      " [  6   5  11  34]\n",
      " [ 10  22  12 107]]\n",
      "*****************************************************************\n"
     ]
    },
    {
     "name": "stderr",
     "output_type": "stream",
     "text": [
      "c:\\Users\\tejas\\AppData\\Local\\Programs\\Python\\Python310\\lib\\site-packages\\torch\\nn\\functional.py:1538: UserWarning: dropout2d: Received a 2-D input to dropout2d, which is deprecated and will result in an error in a future release. To retain the behavior and silence this warning, please use dropout instead. Note that dropout2d exists to provide channel-wise dropout on inputs with 2 spatial dimensions, a channel dimension, and an optional batch dimension (i.e. 3D or 4D inputs).\n",
      "  warnings.warn(warn_msg)\n"
     ]
    },
    {
     "name": "stdout",
     "output_type": "stream",
     "text": [
      "*****************************************************************\n",
      "Epoch: 00047\n",
      "Valid cost: 0.0185\n",
      "Valid_UA: 0.5947\n",
      "Best valid_UA: 0.6507\n",
      "Valid Confusion Matrix:[\"ang\",\"sad\",\"hap\",\"neu\"]\n",
      "[[ 12   0   4   2]\n",
      " [  0  55   6  12]\n",
      " [  2   5  14  35]\n",
      " [  0  22  22 107]]\n",
      "Best Valid Confusion Matrix:[\"ang\",\"sad\",\"hap\",\"neu\"]\n",
      "[[ 17   0   1   0]\n",
      " [  0  55   5  13]\n",
      " [  6   5  11  34]\n",
      " [ 10  22  12 107]]\n",
      "*****************************************************************\n"
     ]
    },
    {
     "name": "stderr",
     "output_type": "stream",
     "text": [
      "c:\\Users\\tejas\\AppData\\Local\\Programs\\Python\\Python310\\lib\\site-packages\\torch\\nn\\functional.py:1538: UserWarning: dropout2d: Received a 2-D input to dropout2d, which is deprecated and will result in an error in a future release. To retain the behavior and silence this warning, please use dropout instead. Note that dropout2d exists to provide channel-wise dropout on inputs with 2 spatial dimensions, a channel dimension, and an optional batch dimension (i.e. 3D or 4D inputs).\n",
      "  warnings.warn(warn_msg)\n"
     ]
    },
    {
     "name": "stdout",
     "output_type": "stream",
     "text": [
      "*****************************************************************\n",
      "Epoch: 00048\n",
      "Valid cost: 0.0184\n",
      "Valid_UA: 0.5979\n",
      "Best valid_UA: 0.6507\n",
      "Valid Confusion Matrix:[\"ang\",\"sad\",\"hap\",\"neu\"]\n",
      "[[ 13   0   4   1]\n",
      " [  0  54   6  13]\n",
      " [  4   5  12  35]\n",
      " [  0  22  21 108]]\n",
      "Best Valid Confusion Matrix:[\"ang\",\"sad\",\"hap\",\"neu\"]\n",
      "[[ 17   0   1   0]\n",
      " [  0  55   5  13]\n",
      " [  6   5  11  34]\n",
      " [ 10  22  12 107]]\n",
      "*****************************************************************\n"
     ]
    },
    {
     "name": "stderr",
     "output_type": "stream",
     "text": [
      "c:\\Users\\tejas\\AppData\\Local\\Programs\\Python\\Python310\\lib\\site-packages\\torch\\nn\\functional.py:1538: UserWarning: dropout2d: Received a 2-D input to dropout2d, which is deprecated and will result in an error in a future release. To retain the behavior and silence this warning, please use dropout instead. Note that dropout2d exists to provide channel-wise dropout on inputs with 2 spatial dimensions, a channel dimension, and an optional batch dimension (i.e. 3D or 4D inputs).\n",
      "  warnings.warn(warn_msg)\n"
     ]
    },
    {
     "name": "stdout",
     "output_type": "stream",
     "text": [
      "*****************************************************************\n",
      "Epoch: 00049\n",
      "Valid cost: 0.0183\n",
      "Valid_UA: 0.6308\n",
      "Best valid_UA: 0.6507\n",
      "Valid Confusion Matrix:[\"ang\",\"sad\",\"hap\",\"neu\"]\n",
      "[[ 15   0   2   1]\n",
      " [  0  56   5  12]\n",
      " [  4   6  12  34]\n",
      " [  4  24  16 107]]\n",
      "Best Valid Confusion Matrix:[\"ang\",\"sad\",\"hap\",\"neu\"]\n",
      "[[ 17   0   1   0]\n",
      " [  0  55   5  13]\n",
      " [  6   5  11  34]\n",
      " [ 10  22  12 107]]\n",
      "*****************************************************************\n"
     ]
    },
    {
     "name": "stderr",
     "output_type": "stream",
     "text": [
      "c:\\Users\\tejas\\AppData\\Local\\Programs\\Python\\Python310\\lib\\site-packages\\torch\\nn\\functional.py:1538: UserWarning: dropout2d: Received a 2-D input to dropout2d, which is deprecated and will result in an error in a future release. To retain the behavior and silence this warning, please use dropout instead. Note that dropout2d exists to provide channel-wise dropout on inputs with 2 spatial dimensions, a channel dimension, and an optional batch dimension (i.e. 3D or 4D inputs).\n",
      "  warnings.warn(warn_msg)\n"
     ]
    },
    {
     "name": "stdout",
     "output_type": "stream",
     "text": [
      "*****************************************************************\n",
      "Epoch: 00050\n",
      "Valid cost: 0.0182\n",
      "Valid_UA: 0.6284\n",
      "Best valid_UA: 0.6507\n",
      "Valid Confusion Matrix:[\"ang\",\"sad\",\"hap\",\"neu\"]\n",
      "[[ 15   0   2   1]\n",
      " [  0  55   4  14]\n",
      " [  4   5  10  37]\n",
      " [  1  22  15 113]]\n",
      "Best Valid Confusion Matrix:[\"ang\",\"sad\",\"hap\",\"neu\"]\n",
      "[[ 17   0   1   0]\n",
      " [  0  55   5  13]\n",
      " [  6   5  11  34]\n",
      " [ 10  22  12 107]]\n",
      "*****************************************************************\n"
     ]
    },
    {
     "name": "stderr",
     "output_type": "stream",
     "text": [
      "c:\\Users\\tejas\\AppData\\Local\\Programs\\Python\\Python310\\lib\\site-packages\\torch\\nn\\functional.py:1538: UserWarning: dropout2d: Received a 2-D input to dropout2d, which is deprecated and will result in an error in a future release. To retain the behavior and silence this warning, please use dropout instead. Note that dropout2d exists to provide channel-wise dropout on inputs with 2 spatial dimensions, a channel dimension, and an optional batch dimension (i.e. 3D or 4D inputs).\n",
      "  warnings.warn(warn_msg)\n"
     ]
    },
    {
     "name": "stdout",
     "output_type": "stream",
     "text": [
      "*****************************************************************\n",
      "Epoch: 00051\n",
      "Valid cost: 0.0182\n",
      "Valid_UA: 0.6534\n",
      "Best valid_UA: 0.6534\n",
      "Valid Confusion Matrix:[\"ang\",\"sad\",\"hap\",\"neu\"]\n",
      "[[ 17   0   1   0]\n",
      " [  0  54   6  13]\n",
      " [  6   5  12  33]\n",
      " [ 12  21  10 108]]\n",
      "Best Valid Confusion Matrix:[\"ang\",\"sad\",\"hap\",\"neu\"]\n",
      "[[ 17   0   1   0]\n",
      " [  0  54   6  13]\n",
      " [  6   5  12  33]\n",
      " [ 12  21  10 108]]\n",
      "*****************************************************************\n"
     ]
    },
    {
     "name": "stderr",
     "output_type": "stream",
     "text": [
      "c:\\Users\\tejas\\AppData\\Local\\Programs\\Python\\Python310\\lib\\site-packages\\torch\\nn\\functional.py:1538: UserWarning: dropout2d: Received a 2-D input to dropout2d, which is deprecated and will result in an error in a future release. To retain the behavior and silence this warning, please use dropout instead. Note that dropout2d exists to provide channel-wise dropout on inputs with 2 spatial dimensions, a channel dimension, and an optional batch dimension (i.e. 3D or 4D inputs).\n",
      "  warnings.warn(warn_msg)\n"
     ]
    },
    {
     "name": "stdout",
     "output_type": "stream",
     "text": [
      "*****************************************************************\n",
      "Epoch: 00052\n",
      "Valid cost: 0.0182\n",
      "Valid_UA: 0.659\n",
      "Best valid_UA: 0.659\n",
      "Valid Confusion Matrix:[\"ang\",\"sad\",\"hap\",\"neu\"]\n",
      "[[ 18   0   0   0]\n",
      " [  1  55   4  13]\n",
      " [  8   5   9  34]\n",
      " [ 12  21   9 109]]\n",
      "Best Valid Confusion Matrix:[\"ang\",\"sad\",\"hap\",\"neu\"]\n",
      "[[ 18   0   0   0]\n",
      " [  1  55   4  13]\n",
      " [  8   5   9  34]\n",
      " [ 12  21   9 109]]\n",
      "*****************************************************************\n"
     ]
    },
    {
     "name": "stderr",
     "output_type": "stream",
     "text": [
      "c:\\Users\\tejas\\AppData\\Local\\Programs\\Python\\Python310\\lib\\site-packages\\torch\\nn\\functional.py:1538: UserWarning: dropout2d: Received a 2-D input to dropout2d, which is deprecated and will result in an error in a future release. To retain the behavior and silence this warning, please use dropout instead. Note that dropout2d exists to provide channel-wise dropout on inputs with 2 spatial dimensions, a channel dimension, and an optional batch dimension (i.e. 3D or 4D inputs).\n",
      "  warnings.warn(warn_msg)\n"
     ]
    },
    {
     "name": "stdout",
     "output_type": "stream",
     "text": [
      "*****************************************************************\n",
      "Epoch: 00053\n",
      "Valid cost: 0.0181\n",
      "Valid_UA: 0.6341\n",
      "Best valid_UA: 0.659\n",
      "Valid Confusion Matrix:[\"ang\",\"sad\",\"hap\",\"neu\"]\n",
      "[[ 15   0   2   1]\n",
      " [  0  56   4  13]\n",
      " [  4   5  12  35]\n",
      " [  6  24  12 109]]\n",
      "Best Valid Confusion Matrix:[\"ang\",\"sad\",\"hap\",\"neu\"]\n",
      "[[ 18   0   0   0]\n",
      " [  1  55   4  13]\n",
      " [  8   5   9  34]\n",
      " [ 12  21   9 109]]\n",
      "*****************************************************************\n"
     ]
    },
    {
     "name": "stderr",
     "output_type": "stream",
     "text": [
      "c:\\Users\\tejas\\AppData\\Local\\Programs\\Python\\Python310\\lib\\site-packages\\torch\\nn\\functional.py:1538: UserWarning: dropout2d: Received a 2-D input to dropout2d, which is deprecated and will result in an error in a future release. To retain the behavior and silence this warning, please use dropout instead. Note that dropout2d exists to provide channel-wise dropout on inputs with 2 spatial dimensions, a channel dimension, and an optional batch dimension (i.e. 3D or 4D inputs).\n",
      "  warnings.warn(warn_msg)\n"
     ]
    },
    {
     "name": "stdout",
     "output_type": "stream",
     "text": [
      "*****************************************************************\n",
      "Epoch: 00054\n",
      "Valid cost: 0.0181\n",
      "Valid_UA: 0.6544\n",
      "Best valid_UA: 0.659\n",
      "Valid Confusion Matrix:[\"ang\",\"sad\",\"hap\",\"neu\"]\n",
      "[[ 18   0   0   0]\n",
      " [  2  54   3  14]\n",
      " [  9   5   8  34]\n",
      " [ 12  20   8 111]]\n",
      "Best Valid Confusion Matrix:[\"ang\",\"sad\",\"hap\",\"neu\"]\n",
      "[[ 18   0   0   0]\n",
      " [  1  55   4  13]\n",
      " [  8   5   9  34]\n",
      " [ 12  21   9 109]]\n",
      "*****************************************************************\n"
     ]
    },
    {
     "name": "stderr",
     "output_type": "stream",
     "text": [
      "c:\\Users\\tejas\\AppData\\Local\\Programs\\Python\\Python310\\lib\\site-packages\\torch\\nn\\functional.py:1538: UserWarning: dropout2d: Received a 2-D input to dropout2d, which is deprecated and will result in an error in a future release. To retain the behavior and silence this warning, please use dropout instead. Note that dropout2d exists to provide channel-wise dropout on inputs with 2 spatial dimensions, a channel dimension, and an optional batch dimension (i.e. 3D or 4D inputs).\n",
      "  warnings.warn(warn_msg)\n"
     ]
    },
    {
     "name": "stdout",
     "output_type": "stream",
     "text": [
      "*****************************************************************\n",
      "Epoch: 00055\n",
      "Valid cost: 0.0183\n",
      "Valid_UA: 0.6222\n",
      "Best valid_UA: 0.659\n",
      "Valid Confusion Matrix:[\"ang\",\"sad\",\"hap\",\"neu\"]\n",
      "[[ 15   0   3   0]\n",
      " [  0  53   8  12]\n",
      " [  4   5  12  35]\n",
      " [  7  20  16 108]]\n",
      "Best Valid Confusion Matrix:[\"ang\",\"sad\",\"hap\",\"neu\"]\n",
      "[[ 18   0   0   0]\n",
      " [  1  55   4  13]\n",
      " [  8   5   9  34]\n",
      " [ 12  21   9 109]]\n",
      "*****************************************************************\n"
     ]
    },
    {
     "name": "stderr",
     "output_type": "stream",
     "text": [
      "c:\\Users\\tejas\\AppData\\Local\\Programs\\Python\\Python310\\lib\\site-packages\\torch\\nn\\functional.py:1538: UserWarning: dropout2d: Received a 2-D input to dropout2d, which is deprecated and will result in an error in a future release. To retain the behavior and silence this warning, please use dropout instead. Note that dropout2d exists to provide channel-wise dropout on inputs with 2 spatial dimensions, a channel dimension, and an optional batch dimension (i.e. 3D or 4D inputs).\n",
      "  warnings.warn(warn_msg)\n"
     ]
    },
    {
     "name": "stdout",
     "output_type": "stream",
     "text": [
      "*****************************************************************\n",
      "Epoch: 00056\n",
      "Valid cost: 0.0181\n",
      "Valid_UA: 0.6236\n",
      "Best valid_UA: 0.659\n",
      "Valid Confusion Matrix:[\"ang\",\"sad\",\"hap\",\"neu\"]\n",
      "[[ 14   0   3   1]\n",
      " [  0  56   5  12]\n",
      " [  3   6  12  35]\n",
      " [  1  23  16 111]]\n",
      "Best Valid Confusion Matrix:[\"ang\",\"sad\",\"hap\",\"neu\"]\n",
      "[[ 18   0   0   0]\n",
      " [  1  55   4  13]\n",
      " [  8   5   9  34]\n",
      " [ 12  21   9 109]]\n",
      "*****************************************************************\n"
     ]
    },
    {
     "name": "stderr",
     "output_type": "stream",
     "text": [
      "c:\\Users\\tejas\\AppData\\Local\\Programs\\Python\\Python310\\lib\\site-packages\\torch\\nn\\functional.py:1538: UserWarning: dropout2d: Received a 2-D input to dropout2d, which is deprecated and will result in an error in a future release. To retain the behavior and silence this warning, please use dropout instead. Note that dropout2d exists to provide channel-wise dropout on inputs with 2 spatial dimensions, a channel dimension, and an optional batch dimension (i.e. 3D or 4D inputs).\n",
      "  warnings.warn(warn_msg)\n"
     ]
    },
    {
     "name": "stdout",
     "output_type": "stream",
     "text": [
      "*****************************************************************\n",
      "Epoch: 00057\n",
      "Valid cost: 0.018\n",
      "Valid_UA: 0.6613\n",
      "Best valid_UA: 0.6613\n",
      "Valid Confusion Matrix:[\"ang\",\"sad\",\"hap\",\"neu\"]\n",
      "[[ 17   0   1   0]\n",
      " [  0  56   4  13]\n",
      " [  5   6  10  35]\n",
      " [  7  21   9 114]]\n",
      "Best Valid Confusion Matrix:[\"ang\",\"sad\",\"hap\",\"neu\"]\n",
      "[[ 17   0   1   0]\n",
      " [  0  56   4  13]\n",
      " [  5   6  10  35]\n",
      " [  7  21   9 114]]\n",
      "*****************************************************************\n"
     ]
    },
    {
     "name": "stderr",
     "output_type": "stream",
     "text": [
      "c:\\Users\\tejas\\AppData\\Local\\Programs\\Python\\Python310\\lib\\site-packages\\torch\\nn\\functional.py:1538: UserWarning: dropout2d: Received a 2-D input to dropout2d, which is deprecated and will result in an error in a future release. To retain the behavior and silence this warning, please use dropout instead. Note that dropout2d exists to provide channel-wise dropout on inputs with 2 spatial dimensions, a channel dimension, and an optional batch dimension (i.e. 3D or 4D inputs).\n",
      "  warnings.warn(warn_msg)\n"
     ]
    },
    {
     "name": "stdout",
     "output_type": "stream",
     "text": [
      "*****************************************************************\n",
      "Epoch: 00058\n",
      "Valid cost: 0.0183\n",
      "Valid_UA: 0.6523\n",
      "Best valid_UA: 0.6613\n",
      "Valid Confusion Matrix:[\"ang\",\"sad\",\"hap\",\"neu\"]\n",
      "[[ 18   0   0   0]\n",
      " [  3  54   3  13]\n",
      " [ 10   5   9  32]\n",
      " [ 18  17   9 107]]\n",
      "Best Valid Confusion Matrix:[\"ang\",\"sad\",\"hap\",\"neu\"]\n",
      "[[ 17   0   1   0]\n",
      " [  0  56   4  13]\n",
      " [  5   6  10  35]\n",
      " [  7  21   9 114]]\n",
      "*****************************************************************\n"
     ]
    },
    {
     "name": "stderr",
     "output_type": "stream",
     "text": [
      "c:\\Users\\tejas\\AppData\\Local\\Programs\\Python\\Python310\\lib\\site-packages\\torch\\nn\\functional.py:1538: UserWarning: dropout2d: Received a 2-D input to dropout2d, which is deprecated and will result in an error in a future release. To retain the behavior and silence this warning, please use dropout instead. Note that dropout2d exists to provide channel-wise dropout on inputs with 2 spatial dimensions, a channel dimension, and an optional batch dimension (i.e. 3D or 4D inputs).\n",
      "  warnings.warn(warn_msg)\n"
     ]
    },
    {
     "name": "stdout",
     "output_type": "stream",
     "text": [
      "*****************************************************************\n",
      "Epoch: 00059\n",
      "Valid cost: 0.0179\n",
      "Valid_UA: 0.6257\n",
      "Best valid_UA: 0.6613\n",
      "Valid Confusion Matrix:[\"ang\",\"sad\",\"hap\",\"neu\"]\n",
      "[[ 15   0   2   1]\n",
      " [  0  56   5  12]\n",
      " [  4   6   9  37]\n",
      " [  6  22  11 112]]\n",
      "Best Valid Confusion Matrix:[\"ang\",\"sad\",\"hap\",\"neu\"]\n",
      "[[ 17   0   1   0]\n",
      " [  0  56   4  13]\n",
      " [  5   6  10  35]\n",
      " [  7  21   9 114]]\n",
      "*****************************************************************\n"
     ]
    },
    {
     "name": "stderr",
     "output_type": "stream",
     "text": [
      "c:\\Users\\tejas\\AppData\\Local\\Programs\\Python\\Python310\\lib\\site-packages\\torch\\nn\\functional.py:1538: UserWarning: dropout2d: Received a 2-D input to dropout2d, which is deprecated and will result in an error in a future release. To retain the behavior and silence this warning, please use dropout instead. Note that dropout2d exists to provide channel-wise dropout on inputs with 2 spatial dimensions, a channel dimension, and an optional batch dimension (i.e. 3D or 4D inputs).\n",
      "  warnings.warn(warn_msg)\n"
     ]
    },
    {
     "name": "stdout",
     "output_type": "stream",
     "text": [
      "*****************************************************************\n",
      "Epoch: 00060\n",
      "Valid cost: 0.0182\n",
      "Valid_UA: 0.6182\n",
      "Best valid_UA: 0.6613\n",
      "Valid Confusion Matrix:[\"ang\",\"sad\",\"hap\",\"neu\"]\n",
      "[[ 13   0   3   2]\n",
      " [  0  57   7   9]\n",
      " [  2   7  15  32]\n",
      " [  4  24  17 106]]\n",
      "Best Valid Confusion Matrix:[\"ang\",\"sad\",\"hap\",\"neu\"]\n",
      "[[ 17   0   1   0]\n",
      " [  0  56   4  13]\n",
      " [  5   6  10  35]\n",
      " [  7  21   9 114]]\n",
      "*****************************************************************\n"
     ]
    },
    {
     "name": "stderr",
     "output_type": "stream",
     "text": [
      "c:\\Users\\tejas\\AppData\\Local\\Programs\\Python\\Python310\\lib\\site-packages\\torch\\nn\\functional.py:1538: UserWarning: dropout2d: Received a 2-D input to dropout2d, which is deprecated and will result in an error in a future release. To retain the behavior and silence this warning, please use dropout instead. Note that dropout2d exists to provide channel-wise dropout on inputs with 2 spatial dimensions, a channel dimension, and an optional batch dimension (i.e. 3D or 4D inputs).\n",
      "  warnings.warn(warn_msg)\n"
     ]
    },
    {
     "name": "stdout",
     "output_type": "stream",
     "text": [
      "*****************************************************************\n",
      "Epoch: 00061\n",
      "Valid cost: 0.0179\n",
      "Valid_UA: 0.6234\n",
      "Best valid_UA: 0.6613\n",
      "Valid Confusion Matrix:[\"ang\",\"sad\",\"hap\",\"neu\"]\n",
      "[[ 13   0   3   2]\n",
      " [  0  54   6  13]\n",
      " [  3   6  14  33]\n",
      " [  0  22  11 118]]\n",
      "Best Valid Confusion Matrix:[\"ang\",\"sad\",\"hap\",\"neu\"]\n",
      "[[ 17   0   1   0]\n",
      " [  0  56   4  13]\n",
      " [  5   6  10  35]\n",
      " [  7  21   9 114]]\n",
      "*****************************************************************\n"
     ]
    },
    {
     "name": "stderr",
     "output_type": "stream",
     "text": [
      "c:\\Users\\tejas\\AppData\\Local\\Programs\\Python\\Python310\\lib\\site-packages\\torch\\nn\\functional.py:1538: UserWarning: dropout2d: Received a 2-D input to dropout2d, which is deprecated and will result in an error in a future release. To retain the behavior and silence this warning, please use dropout instead. Note that dropout2d exists to provide channel-wise dropout on inputs with 2 spatial dimensions, a channel dimension, and an optional batch dimension (i.e. 3D or 4D inputs).\n",
      "  warnings.warn(warn_msg)\n"
     ]
    },
    {
     "name": "stdout",
     "output_type": "stream",
     "text": [
      "*****************************************************************\n",
      "Epoch: 00062\n",
      "Valid cost: 0.018\n",
      "Valid_UA: 0.6484\n",
      "Best valid_UA: 0.6613\n",
      "Valid Confusion Matrix:[\"ang\",\"sad\",\"hap\",\"neu\"]\n",
      "[[ 16   0   2   0]\n",
      " [  0  55   6  12]\n",
      " [  3   6  11  36]\n",
      " [  7  20  10 114]]\n",
      "Best Valid Confusion Matrix:[\"ang\",\"sad\",\"hap\",\"neu\"]\n",
      "[[ 17   0   1   0]\n",
      " [  0  56   4  13]\n",
      " [  5   6  10  35]\n",
      " [  7  21   9 114]]\n",
      "*****************************************************************\n"
     ]
    },
    {
     "name": "stderr",
     "output_type": "stream",
     "text": [
      "c:\\Users\\tejas\\AppData\\Local\\Programs\\Python\\Python310\\lib\\site-packages\\torch\\nn\\functional.py:1538: UserWarning: dropout2d: Received a 2-D input to dropout2d, which is deprecated and will result in an error in a future release. To retain the behavior and silence this warning, please use dropout instead. Note that dropout2d exists to provide channel-wise dropout on inputs with 2 spatial dimensions, a channel dimension, and an optional batch dimension (i.e. 3D or 4D inputs).\n",
      "  warnings.warn(warn_msg)\n"
     ]
    },
    {
     "name": "stdout",
     "output_type": "stream",
     "text": [
      "*****************************************************************\n",
      "Epoch: 00063\n",
      "Valid cost: 0.018\n",
      "Valid_UA: 0.6553\n",
      "Best valid_UA: 0.6613\n",
      "Valid Confusion Matrix:[\"ang\",\"sad\",\"hap\",\"neu\"]\n",
      "[[ 17   0   1   0]\n",
      " [  0  57   4  12]\n",
      " [  6   7   9  34]\n",
      " [ 10  23   7 111]]\n",
      "Best Valid Confusion Matrix:[\"ang\",\"sad\",\"hap\",\"neu\"]\n",
      "[[ 17   0   1   0]\n",
      " [  0  56   4  13]\n",
      " [  5   6  10  35]\n",
      " [  7  21   9 114]]\n",
      "*****************************************************************\n"
     ]
    },
    {
     "name": "stderr",
     "output_type": "stream",
     "text": [
      "c:\\Users\\tejas\\AppData\\Local\\Programs\\Python\\Python310\\lib\\site-packages\\torch\\nn\\functional.py:1538: UserWarning: dropout2d: Received a 2-D input to dropout2d, which is deprecated and will result in an error in a future release. To retain the behavior and silence this warning, please use dropout instead. Note that dropout2d exists to provide channel-wise dropout on inputs with 2 spatial dimensions, a channel dimension, and an optional batch dimension (i.e. 3D or 4D inputs).\n",
      "  warnings.warn(warn_msg)\n"
     ]
    },
    {
     "name": "stdout",
     "output_type": "stream",
     "text": [
      "*****************************************************************\n",
      "Epoch: 00064\n",
      "Valid cost: 0.0178\n",
      "Valid_UA: 0.6529\n",
      "Best valid_UA: 0.6613\n",
      "Valid Confusion Matrix:[\"ang\",\"sad\",\"hap\",\"neu\"]\n",
      "[[ 17   0   1   0]\n",
      " [  0  56   5  12]\n",
      " [  6   6   7  37]\n",
      " [ 11  19   4 117]]\n",
      "Best Valid Confusion Matrix:[\"ang\",\"sad\",\"hap\",\"neu\"]\n",
      "[[ 17   0   1   0]\n",
      " [  0  56   4  13]\n",
      " [  5   6  10  35]\n",
      " [  7  21   9 114]]\n",
      "*****************************************************************\n"
     ]
    },
    {
     "name": "stderr",
     "output_type": "stream",
     "text": [
      "c:\\Users\\tejas\\AppData\\Local\\Programs\\Python\\Python310\\lib\\site-packages\\torch\\nn\\functional.py:1538: UserWarning: dropout2d: Received a 2-D input to dropout2d, which is deprecated and will result in an error in a future release. To retain the behavior and silence this warning, please use dropout instead. Note that dropout2d exists to provide channel-wise dropout on inputs with 2 spatial dimensions, a channel dimension, and an optional batch dimension (i.e. 3D or 4D inputs).\n",
      "  warnings.warn(warn_msg)\n"
     ]
    },
    {
     "name": "stdout",
     "output_type": "stream",
     "text": [
      "*****************************************************************\n",
      "Epoch: 00065\n",
      "Valid cost: 0.0183\n",
      "Valid_UA: 0.6232\n",
      "Best valid_UA: 0.6613\n",
      "Valid Confusion Matrix:[\"ang\",\"sad\",\"hap\",\"neu\"]\n",
      "[[ 18   0   0   0]\n",
      " [  4  53   3  13]\n",
      " [ 16   6   4  30]\n",
      " [ 20  21   5 105]]\n",
      "Best Valid Confusion Matrix:[\"ang\",\"sad\",\"hap\",\"neu\"]\n",
      "[[ 17   0   1   0]\n",
      " [  0  56   4  13]\n",
      " [  5   6  10  35]\n",
      " [  7  21   9 114]]\n",
      "*****************************************************************\n"
     ]
    },
    {
     "name": "stderr",
     "output_type": "stream",
     "text": [
      "c:\\Users\\tejas\\AppData\\Local\\Programs\\Python\\Python310\\lib\\site-packages\\torch\\nn\\functional.py:1538: UserWarning: dropout2d: Received a 2-D input to dropout2d, which is deprecated and will result in an error in a future release. To retain the behavior and silence this warning, please use dropout instead. Note that dropout2d exists to provide channel-wise dropout on inputs with 2 spatial dimensions, a channel dimension, and an optional batch dimension (i.e. 3D or 4D inputs).\n",
      "  warnings.warn(warn_msg)\n"
     ]
    },
    {
     "name": "stdout",
     "output_type": "stream",
     "text": [
      "*****************************************************************\n",
      "Epoch: 00066\n",
      "Valid cost: 0.0183\n",
      "Valid_UA: 0.6613\n",
      "Best valid_UA: 0.6613\n",
      "Valid Confusion Matrix:[\"ang\",\"sad\",\"hap\",\"neu\"]\n",
      "[[ 17   0   1   0]\n",
      " [  1  61   4   7]\n",
      " [  8   8  11  29]\n",
      " [ 14  27   9 101]]\n",
      "Best Valid Confusion Matrix:[\"ang\",\"sad\",\"hap\",\"neu\"]\n",
      "[[ 17   0   1   0]\n",
      " [  1  61   4   7]\n",
      " [  8   8  11  29]\n",
      " [ 14  27   9 101]]\n",
      "*****************************************************************\n"
     ]
    },
    {
     "name": "stderr",
     "output_type": "stream",
     "text": [
      "c:\\Users\\tejas\\AppData\\Local\\Programs\\Python\\Python310\\lib\\site-packages\\torch\\nn\\functional.py:1538: UserWarning: dropout2d: Received a 2-D input to dropout2d, which is deprecated and will result in an error in a future release. To retain the behavior and silence this warning, please use dropout instead. Note that dropout2d exists to provide channel-wise dropout on inputs with 2 spatial dimensions, a channel dimension, and an optional batch dimension (i.e. 3D or 4D inputs).\n",
      "  warnings.warn(warn_msg)\n"
     ]
    },
    {
     "name": "stdout",
     "output_type": "stream",
     "text": [
      "*****************************************************************\n",
      "Epoch: 00067\n",
      "Valid cost: 0.018\n",
      "Valid_UA: 0.6391\n",
      "Best valid_UA: 0.6613\n",
      "Valid Confusion Matrix:[\"ang\",\"sad\",\"hap\",\"neu\"]\n",
      "[[ 14   0   3   1]\n",
      " [  0  56   6  11]\n",
      " [  3   6  14  33]\n",
      " [  3  24   9 115]]\n",
      "Best Valid Confusion Matrix:[\"ang\",\"sad\",\"hap\",\"neu\"]\n",
      "[[ 17   0   1   0]\n",
      " [  1  61   4   7]\n",
      " [  8   8  11  29]\n",
      " [ 14  27   9 101]]\n",
      "*****************************************************************\n"
     ]
    },
    {
     "name": "stderr",
     "output_type": "stream",
     "text": [
      "c:\\Users\\tejas\\AppData\\Local\\Programs\\Python\\Python310\\lib\\site-packages\\torch\\nn\\functional.py:1538: UserWarning: dropout2d: Received a 2-D input to dropout2d, which is deprecated and will result in an error in a future release. To retain the behavior and silence this warning, please use dropout instead. Note that dropout2d exists to provide channel-wise dropout on inputs with 2 spatial dimensions, a channel dimension, and an optional batch dimension (i.e. 3D or 4D inputs).\n",
      "  warnings.warn(warn_msg)\n"
     ]
    },
    {
     "name": "stdout",
     "output_type": "stream",
     "text": [
      "*****************************************************************\n",
      "Epoch: 00068\n",
      "Valid cost: 0.0181\n",
      "Valid_UA: 0.6544\n",
      "Best valid_UA: 0.6613\n",
      "Valid Confusion Matrix:[\"ang\",\"sad\",\"hap\",\"neu\"]\n",
      "[[ 17   0   1   0]\n",
      " [  1  58   5   9]\n",
      " [  9   8  11  28]\n",
      " [ 16  24   8 103]]\n",
      "Best Valid Confusion Matrix:[\"ang\",\"sad\",\"hap\",\"neu\"]\n",
      "[[ 17   0   1   0]\n",
      " [  1  61   4   7]\n",
      " [  8   8  11  29]\n",
      " [ 14  27   9 101]]\n",
      "*****************************************************************\n"
     ]
    },
    {
     "name": "stderr",
     "output_type": "stream",
     "text": [
      "c:\\Users\\tejas\\AppData\\Local\\Programs\\Python\\Python310\\lib\\site-packages\\torch\\nn\\functional.py:1538: UserWarning: dropout2d: Received a 2-D input to dropout2d, which is deprecated and will result in an error in a future release. To retain the behavior and silence this warning, please use dropout instead. Note that dropout2d exists to provide channel-wise dropout on inputs with 2 spatial dimensions, a channel dimension, and an optional batch dimension (i.e. 3D or 4D inputs).\n",
      "  warnings.warn(warn_msg)\n"
     ]
    },
    {
     "name": "stdout",
     "output_type": "stream",
     "text": [
      "*****************************************************************\n",
      "Epoch: 00069\n",
      "Valid cost: 0.0182\n",
      "Valid_UA: 0.6209\n",
      "Best valid_UA: 0.6613\n",
      "Valid Confusion Matrix:[\"ang\",\"sad\",\"hap\",\"neu\"]\n",
      "[[ 14   0   3   1]\n",
      " [  0  56   8   9]\n",
      " [  3   6  14  33]\n",
      " [  6  24  17 104]]\n",
      "Best Valid Confusion Matrix:[\"ang\",\"sad\",\"hap\",\"neu\"]\n",
      "[[ 17   0   1   0]\n",
      " [  1  61   4   7]\n",
      " [  8   8  11  29]\n",
      " [ 14  27   9 101]]\n",
      "*****************************************************************\n"
     ]
    },
    {
     "name": "stderr",
     "output_type": "stream",
     "text": [
      "c:\\Users\\tejas\\AppData\\Local\\Programs\\Python\\Python310\\lib\\site-packages\\torch\\nn\\functional.py:1538: UserWarning: dropout2d: Received a 2-D input to dropout2d, which is deprecated and will result in an error in a future release. To retain the behavior and silence this warning, please use dropout instead. Note that dropout2d exists to provide channel-wise dropout on inputs with 2 spatial dimensions, a channel dimension, and an optional batch dimension (i.e. 3D or 4D inputs).\n",
      "  warnings.warn(warn_msg)\n"
     ]
    },
    {
     "name": "stdout",
     "output_type": "stream",
     "text": [
      "*****************************************************************\n",
      "Epoch: 00070\n",
      "Valid cost: 0.0179\n",
      "Valid_UA: 0.6562\n",
      "Best valid_UA: 0.6613\n",
      "Valid Confusion Matrix:[\"ang\",\"sad\",\"hap\",\"neu\"]\n",
      "[[ 16   0   2   0]\n",
      " [  0  55   6  12]\n",
      " [  5   6  12  33]\n",
      " [ 11  17   7 116]]\n",
      "Best Valid Confusion Matrix:[\"ang\",\"sad\",\"hap\",\"neu\"]\n",
      "[[ 17   0   1   0]\n",
      " [  1  61   4   7]\n",
      " [  8   8  11  29]\n",
      " [ 14  27   9 101]]\n",
      "*****************************************************************\n"
     ]
    },
    {
     "name": "stderr",
     "output_type": "stream",
     "text": [
      "c:\\Users\\tejas\\AppData\\Local\\Programs\\Python\\Python310\\lib\\site-packages\\torch\\nn\\functional.py:1538: UserWarning: dropout2d: Received a 2-D input to dropout2d, which is deprecated and will result in an error in a future release. To retain the behavior and silence this warning, please use dropout instead. Note that dropout2d exists to provide channel-wise dropout on inputs with 2 spatial dimensions, a channel dimension, and an optional batch dimension (i.e. 3D or 4D inputs).\n",
      "  warnings.warn(warn_msg)\n"
     ]
    },
    {
     "name": "stdout",
     "output_type": "stream",
     "text": [
      "*****************************************************************\n",
      "Epoch: 00071\n",
      "Valid cost: 0.0183\n",
      "Valid_UA: 0.6509\n",
      "Best valid_UA: 0.6613\n",
      "Valid Confusion Matrix:[\"ang\",\"sad\",\"hap\",\"neu\"]\n",
      "[[15  0  3  0]\n",
      " [ 0 61  8  4]\n",
      " [ 3 10 16 27]\n",
      " [ 8 32 13 98]]\n",
      "Best Valid Confusion Matrix:[\"ang\",\"sad\",\"hap\",\"neu\"]\n",
      "[[ 17   0   1   0]\n",
      " [  1  61   4   7]\n",
      " [  8   8  11  29]\n",
      " [ 14  27   9 101]]\n",
      "*****************************************************************\n"
     ]
    },
    {
     "name": "stderr",
     "output_type": "stream",
     "text": [
      "c:\\Users\\tejas\\AppData\\Local\\Programs\\Python\\Python310\\lib\\site-packages\\torch\\nn\\functional.py:1538: UserWarning: dropout2d: Received a 2-D input to dropout2d, which is deprecated and will result in an error in a future release. To retain the behavior and silence this warning, please use dropout instead. Note that dropout2d exists to provide channel-wise dropout on inputs with 2 spatial dimensions, a channel dimension, and an optional batch dimension (i.e. 3D or 4D inputs).\n",
      "  warnings.warn(warn_msg)\n"
     ]
    },
    {
     "name": "stdout",
     "output_type": "stream",
     "text": [
      "*****************************************************************\n",
      "Epoch: 00072\n",
      "Valid cost: 0.0177\n",
      "Valid_UA: 0.6054\n",
      "Best valid_UA: 0.6613\n",
      "Valid Confusion Matrix:[\"ang\",\"sad\",\"hap\",\"neu\"]\n",
      "[[ 12   0   4   2]\n",
      " [  0  53   5  15]\n",
      " [  2   6  12  36]\n",
      " [  6  14   8 123]]\n",
      "Best Valid Confusion Matrix:[\"ang\",\"sad\",\"hap\",\"neu\"]\n",
      "[[ 17   0   1   0]\n",
      " [  1  61   4   7]\n",
      " [  8   8  11  29]\n",
      " [ 14  27   9 101]]\n",
      "*****************************************************************\n"
     ]
    },
    {
     "name": "stderr",
     "output_type": "stream",
     "text": [
      "c:\\Users\\tejas\\AppData\\Local\\Programs\\Python\\Python310\\lib\\site-packages\\torch\\nn\\functional.py:1538: UserWarning: dropout2d: Received a 2-D input to dropout2d, which is deprecated and will result in an error in a future release. To retain the behavior and silence this warning, please use dropout instead. Note that dropout2d exists to provide channel-wise dropout on inputs with 2 spatial dimensions, a channel dimension, and an optional batch dimension (i.e. 3D or 4D inputs).\n",
      "  warnings.warn(warn_msg)\n"
     ]
    },
    {
     "name": "stdout",
     "output_type": "stream",
     "text": [
      "*****************************************************************\n",
      "Epoch: 00073\n",
      "Valid cost: 0.0179\n",
      "Valid_UA: 0.6484\n",
      "Best valid_UA: 0.6613\n",
      "Valid Confusion Matrix:[\"ang\",\"sad\",\"hap\",\"neu\"]\n",
      "[[ 15   0   2   1]\n",
      " [  0  55   6  12]\n",
      " [  3   6  13  34]\n",
      " [  7  18   9 117]]\n",
      "Best Valid Confusion Matrix:[\"ang\",\"sad\",\"hap\",\"neu\"]\n",
      "[[ 17   0   1   0]\n",
      " [  1  61   4   7]\n",
      " [  8   8  11  29]\n",
      " [ 14  27   9 101]]\n",
      "*****************************************************************\n"
     ]
    },
    {
     "name": "stderr",
     "output_type": "stream",
     "text": [
      "c:\\Users\\tejas\\AppData\\Local\\Programs\\Python\\Python310\\lib\\site-packages\\torch\\nn\\functional.py:1538: UserWarning: dropout2d: Received a 2-D input to dropout2d, which is deprecated and will result in an error in a future release. To retain the behavior and silence this warning, please use dropout instead. Note that dropout2d exists to provide channel-wise dropout on inputs with 2 spatial dimensions, a channel dimension, and an optional batch dimension (i.e. 3D or 4D inputs).\n",
      "  warnings.warn(warn_msg)\n"
     ]
    },
    {
     "name": "stdout",
     "output_type": "stream",
     "text": [
      "*****************************************************************\n",
      "Epoch: 00074\n",
      "Valid cost: 0.0179\n",
      "Valid_UA: 0.6497\n",
      "Best valid_UA: 0.6613\n",
      "Valid Confusion Matrix:[\"ang\",\"sad\",\"hap\",\"neu\"]\n",
      "[[ 15   0   2   1]\n",
      " [  0  56   8   9]\n",
      " [  3   6  14  33]\n",
      " [  7  22   9 113]]\n",
      "Best Valid Confusion Matrix:[\"ang\",\"sad\",\"hap\",\"neu\"]\n",
      "[[ 17   0   1   0]\n",
      " [  1  61   4   7]\n",
      " [  8   8  11  29]\n",
      " [ 14  27   9 101]]\n",
      "*****************************************************************\n"
     ]
    },
    {
     "name": "stderr",
     "output_type": "stream",
     "text": [
      "c:\\Users\\tejas\\AppData\\Local\\Programs\\Python\\Python310\\lib\\site-packages\\torch\\nn\\functional.py:1538: UserWarning: dropout2d: Received a 2-D input to dropout2d, which is deprecated and will result in an error in a future release. To retain the behavior and silence this warning, please use dropout instead. Note that dropout2d exists to provide channel-wise dropout on inputs with 2 spatial dimensions, a channel dimension, and an optional batch dimension (i.e. 3D or 4D inputs).\n",
      "  warnings.warn(warn_msg)\n"
     ]
    },
    {
     "name": "stdout",
     "output_type": "stream",
     "text": [
      "*****************************************************************\n",
      "Epoch: 00075\n",
      "Valid cost: 0.0182\n",
      "Valid_UA: 0.6542\n",
      "Best valid_UA: 0.6613\n",
      "Valid Confusion Matrix:[\"ang\",\"sad\",\"hap\",\"neu\"]\n",
      "[[ 16   0   2   0]\n",
      " [  0  55  10   8]\n",
      " [  4   6  16  30]\n",
      " [ 10  21  16 104]]\n",
      "Best Valid Confusion Matrix:[\"ang\",\"sad\",\"hap\",\"neu\"]\n",
      "[[ 17   0   1   0]\n",
      " [  1  61   4   7]\n",
      " [  8   8  11  29]\n",
      " [ 14  27   9 101]]\n",
      "*****************************************************************\n"
     ]
    },
    {
     "name": "stderr",
     "output_type": "stream",
     "text": [
      "c:\\Users\\tejas\\AppData\\Local\\Programs\\Python\\Python310\\lib\\site-packages\\torch\\nn\\functional.py:1538: UserWarning: dropout2d: Received a 2-D input to dropout2d, which is deprecated and will result in an error in a future release. To retain the behavior and silence this warning, please use dropout instead. Note that dropout2d exists to provide channel-wise dropout on inputs with 2 spatial dimensions, a channel dimension, and an optional batch dimension (i.e. 3D or 4D inputs).\n",
      "  warnings.warn(warn_msg)\n"
     ]
    },
    {
     "name": "stdout",
     "output_type": "stream",
     "text": [
      "*****************************************************************\n",
      "Epoch: 00076\n",
      "Valid cost: 0.0176\n",
      "Valid_UA: 0.6307\n",
      "Best valid_UA: 0.6613\n",
      "Valid Confusion Matrix:[\"ang\",\"sad\",\"hap\",\"neu\"]\n",
      "[[ 14   0   2   2]\n",
      " [  0  56   6  11]\n",
      " [  4   7  11  34]\n",
      " [  4  23   6 118]]\n",
      "Best Valid Confusion Matrix:[\"ang\",\"sad\",\"hap\",\"neu\"]\n",
      "[[ 17   0   1   0]\n",
      " [  1  61   4   7]\n",
      " [  8   8  11  29]\n",
      " [ 14  27   9 101]]\n",
      "*****************************************************************\n"
     ]
    },
    {
     "name": "stderr",
     "output_type": "stream",
     "text": [
      "c:\\Users\\tejas\\AppData\\Local\\Programs\\Python\\Python310\\lib\\site-packages\\torch\\nn\\functional.py:1538: UserWarning: dropout2d: Received a 2-D input to dropout2d, which is deprecated and will result in an error in a future release. To retain the behavior and silence this warning, please use dropout instead. Note that dropout2d exists to provide channel-wise dropout on inputs with 2 spatial dimensions, a channel dimension, and an optional batch dimension (i.e. 3D or 4D inputs).\n",
      "  warnings.warn(warn_msg)\n"
     ]
    },
    {
     "name": "stdout",
     "output_type": "stream",
     "text": [
      "*****************************************************************\n",
      "Epoch: 00077\n",
      "Valid cost: 0.0179\n",
      "Valid_UA: 0.6615\n",
      "Best valid_UA: 0.6615\n",
      "Valid Confusion Matrix:[\"ang\",\"sad\",\"hap\",\"neu\"]\n",
      "[[ 17   0   1   0]\n",
      " [  2  58   4   9]\n",
      " [  5  10  10  31]\n",
      " [  9  24   8 110]]\n",
      "Best Valid Confusion Matrix:[\"ang\",\"sad\",\"hap\",\"neu\"]\n",
      "[[ 17   0   1   0]\n",
      " [  2  58   4   9]\n",
      " [  5  10  10  31]\n",
      " [  9  24   8 110]]\n",
      "*****************************************************************\n"
     ]
    },
    {
     "name": "stderr",
     "output_type": "stream",
     "text": [
      "c:\\Users\\tejas\\AppData\\Local\\Programs\\Python\\Python310\\lib\\site-packages\\torch\\nn\\functional.py:1538: UserWarning: dropout2d: Received a 2-D input to dropout2d, which is deprecated and will result in an error in a future release. To retain the behavior and silence this warning, please use dropout instead. Note that dropout2d exists to provide channel-wise dropout on inputs with 2 spatial dimensions, a channel dimension, and an optional batch dimension (i.e. 3D or 4D inputs).\n",
      "  warnings.warn(warn_msg)\n"
     ]
    },
    {
     "name": "stdout",
     "output_type": "stream",
     "text": [
      "*****************************************************************\n",
      "Epoch: 00078\n",
      "Valid cost: 0.0178\n",
      "Valid_UA: 0.6393\n",
      "Best valid_UA: 0.6615\n",
      "Valid Confusion Matrix:[\"ang\",\"sad\",\"hap\",\"neu\"]\n",
      "[[ 15   0   1   2]\n",
      " [  2  59   4   8]\n",
      " [  5   8   9  34]\n",
      " [  7  27   3 114]]\n",
      "Best Valid Confusion Matrix:[\"ang\",\"sad\",\"hap\",\"neu\"]\n",
      "[[ 17   0   1   0]\n",
      " [  2  58   4   9]\n",
      " [  5  10  10  31]\n",
      " [  9  24   8 110]]\n",
      "*****************************************************************\n"
     ]
    },
    {
     "name": "stderr",
     "output_type": "stream",
     "text": [
      "c:\\Users\\tejas\\AppData\\Local\\Programs\\Python\\Python310\\lib\\site-packages\\torch\\nn\\functional.py:1538: UserWarning: dropout2d: Received a 2-D input to dropout2d, which is deprecated and will result in an error in a future release. To retain the behavior and silence this warning, please use dropout instead. Note that dropout2d exists to provide channel-wise dropout on inputs with 2 spatial dimensions, a channel dimension, and an optional batch dimension (i.e. 3D or 4D inputs).\n",
      "  warnings.warn(warn_msg)\n"
     ]
    },
    {
     "name": "stdout",
     "output_type": "stream",
     "text": [
      "*****************************************************************\n",
      "Epoch: 00079\n",
      "Valid cost: 0.0181\n",
      "Valid_UA: 0.6595\n",
      "Best valid_UA: 0.6615\n",
      "Valid Confusion Matrix:[\"ang\",\"sad\",\"hap\",\"neu\"]\n",
      "[[ 18   0   0   0]\n",
      " [  4  54   5  10]\n",
      " [  8   5  11  32]\n",
      " [ 17  21   7 106]]\n",
      "Best Valid Confusion Matrix:[\"ang\",\"sad\",\"hap\",\"neu\"]\n",
      "[[ 17   0   1   0]\n",
      " [  2  58   4   9]\n",
      " [  5  10  10  31]\n",
      " [  9  24   8 110]]\n",
      "*****************************************************************\n"
     ]
    },
    {
     "name": "stderr",
     "output_type": "stream",
     "text": [
      "c:\\Users\\tejas\\AppData\\Local\\Programs\\Python\\Python310\\lib\\site-packages\\torch\\nn\\functional.py:1538: UserWarning: dropout2d: Received a 2-D input to dropout2d, which is deprecated and will result in an error in a future release. To retain the behavior and silence this warning, please use dropout instead. Note that dropout2d exists to provide channel-wise dropout on inputs with 2 spatial dimensions, a channel dimension, and an optional batch dimension (i.e. 3D or 4D inputs).\n",
      "  warnings.warn(warn_msg)\n"
     ]
    },
    {
     "name": "stdout",
     "output_type": "stream",
     "text": [
      "*****************************************************************\n",
      "Epoch: 00080\n",
      "Valid cost: 0.0178\n",
      "Valid_UA: 0.5703\n",
      "Best valid_UA: 0.6615\n",
      "Valid Confusion Matrix:[\"ang\",\"sad\",\"hap\",\"neu\"]\n",
      "[[ 11   0   2   5]\n",
      " [  0  54   4  15]\n",
      " [  4   6   5  41]\n",
      " [  3  19   2 127]]\n",
      "Best Valid Confusion Matrix:[\"ang\",\"sad\",\"hap\",\"neu\"]\n",
      "[[ 17   0   1   0]\n",
      " [  2  58   4   9]\n",
      " [  5  10  10  31]\n",
      " [  9  24   8 110]]\n",
      "*****************************************************************\n"
     ]
    },
    {
     "name": "stderr",
     "output_type": "stream",
     "text": [
      "c:\\Users\\tejas\\AppData\\Local\\Programs\\Python\\Python310\\lib\\site-packages\\torch\\nn\\functional.py:1538: UserWarning: dropout2d: Received a 2-D input to dropout2d, which is deprecated and will result in an error in a future release. To retain the behavior and silence this warning, please use dropout instead. Note that dropout2d exists to provide channel-wise dropout on inputs with 2 spatial dimensions, a channel dimension, and an optional batch dimension (i.e. 3D or 4D inputs).\n",
      "  warnings.warn(warn_msg)\n"
     ]
    },
    {
     "name": "stdout",
     "output_type": "stream",
     "text": [
      "*****************************************************************\n",
      "Epoch: 00081\n",
      "Valid cost: 0.0181\n",
      "Valid_UA: 0.6473\n",
      "Best valid_UA: 0.6615\n",
      "Valid Confusion Matrix:[\"ang\",\"sad\",\"hap\",\"neu\"]\n",
      "[[ 15   0   2   1]\n",
      " [  2  60   5   6]\n",
      " [  4   8  13  31]\n",
      " [ 11  22  12 106]]\n",
      "Best Valid Confusion Matrix:[\"ang\",\"sad\",\"hap\",\"neu\"]\n",
      "[[ 17   0   1   0]\n",
      " [  2  58   4   9]\n",
      " [  5  10  10  31]\n",
      " [  9  24   8 110]]\n",
      "*****************************************************************\n"
     ]
    },
    {
     "name": "stderr",
     "output_type": "stream",
     "text": [
      "c:\\Users\\tejas\\AppData\\Local\\Programs\\Python\\Python310\\lib\\site-packages\\torch\\nn\\functional.py:1538: UserWarning: dropout2d: Received a 2-D input to dropout2d, which is deprecated and will result in an error in a future release. To retain the behavior and silence this warning, please use dropout instead. Note that dropout2d exists to provide channel-wise dropout on inputs with 2 spatial dimensions, a channel dimension, and an optional batch dimension (i.e. 3D or 4D inputs).\n",
      "  warnings.warn(warn_msg)\n"
     ]
    },
    {
     "name": "stdout",
     "output_type": "stream",
     "text": [
      "*****************************************************************\n",
      "Epoch: 00082\n",
      "Valid cost: 0.0184\n",
      "Valid_UA: 0.5723\n",
      "Best valid_UA: 0.6615\n",
      "Valid Confusion Matrix:[\"ang\",\"sad\",\"hap\",\"neu\"]\n",
      "[[ 8  0  6  4]\n",
      " [ 0 63  8  2]\n",
      " [ 2 10 19 25]\n",
      " [ 2 29 23 97]]\n",
      "Best Valid Confusion Matrix:[\"ang\",\"sad\",\"hap\",\"neu\"]\n",
      "[[ 17   0   1   0]\n",
      " [  2  58   4   9]\n",
      " [  5  10  10  31]\n",
      " [  9  24   8 110]]\n",
      "*****************************************************************\n"
     ]
    },
    {
     "name": "stderr",
     "output_type": "stream",
     "text": [
      "c:\\Users\\tejas\\AppData\\Local\\Programs\\Python\\Python310\\lib\\site-packages\\torch\\nn\\functional.py:1538: UserWarning: dropout2d: Received a 2-D input to dropout2d, which is deprecated and will result in an error in a future release. To retain the behavior and silence this warning, please use dropout instead. Note that dropout2d exists to provide channel-wise dropout on inputs with 2 spatial dimensions, a channel dimension, and an optional batch dimension (i.e. 3D or 4D inputs).\n",
      "  warnings.warn(warn_msg)\n"
     ]
    },
    {
     "name": "stdout",
     "output_type": "stream",
     "text": [
      "*****************************************************************\n",
      "Epoch: 00083\n",
      "Valid cost: 0.0183\n",
      "Valid_UA: 0.6675\n",
      "Best valid_UA: 0.6675\n",
      "Valid Confusion Matrix:[\"ang\",\"sad\",\"hap\",\"neu\"]\n",
      "[[17  0  1  0]\n",
      " [ 3 60  5  5]\n",
      " [ 8 11 15 22]\n",
      " [17 27 11 96]]\n",
      "Best Valid Confusion Matrix:[\"ang\",\"sad\",\"hap\",\"neu\"]\n",
      "[[17  0  1  0]\n",
      " [ 3 60  5  5]\n",
      " [ 8 11 15 22]\n",
      " [17 27 11 96]]\n",
      "*****************************************************************\n"
     ]
    },
    {
     "name": "stderr",
     "output_type": "stream",
     "text": [
      "c:\\Users\\tejas\\AppData\\Local\\Programs\\Python\\Python310\\lib\\site-packages\\torch\\nn\\functional.py:1538: UserWarning: dropout2d: Received a 2-D input to dropout2d, which is deprecated and will result in an error in a future release. To retain the behavior and silence this warning, please use dropout instead. Note that dropout2d exists to provide channel-wise dropout on inputs with 2 spatial dimensions, a channel dimension, and an optional batch dimension (i.e. 3D or 4D inputs).\n",
      "  warnings.warn(warn_msg)\n"
     ]
    },
    {
     "name": "stdout",
     "output_type": "stream",
     "text": [
      "*****************************************************************\n",
      "Epoch: 00084\n",
      "Valid cost: 0.0181\n",
      "Valid_UA: 0.6166\n",
      "Best valid_UA: 0.6675\n",
      "Valid Confusion Matrix:[\"ang\",\"sad\",\"hap\",\"neu\"]\n",
      "[[ 12   0   3   3]\n",
      " [  0  57  12   4]\n",
      " [  2  10  17  27]\n",
      " [  5  26  12 108]]\n",
      "Best Valid Confusion Matrix:[\"ang\",\"sad\",\"hap\",\"neu\"]\n",
      "[[17  0  1  0]\n",
      " [ 3 60  5  5]\n",
      " [ 8 11 15 22]\n",
      " [17 27 11 96]]\n",
      "*****************************************************************\n"
     ]
    },
    {
     "name": "stderr",
     "output_type": "stream",
     "text": [
      "c:\\Users\\tejas\\AppData\\Local\\Programs\\Python\\Python310\\lib\\site-packages\\torch\\nn\\functional.py:1538: UserWarning: dropout2d: Received a 2-D input to dropout2d, which is deprecated and will result in an error in a future release. To retain the behavior and silence this warning, please use dropout instead. Note that dropout2d exists to provide channel-wise dropout on inputs with 2 spatial dimensions, a channel dimension, and an optional batch dimension (i.e. 3D or 4D inputs).\n",
      "  warnings.warn(warn_msg)\n"
     ]
    },
    {
     "name": "stdout",
     "output_type": "stream",
     "text": [
      "*****************************************************************\n",
      "Epoch: 00085\n",
      "Valid cost: 0.0185\n",
      "Valid_UA: 0.6551\n",
      "Best valid_UA: 0.6675\n",
      "Valid Confusion Matrix:[\"ang\",\"sad\",\"hap\",\"neu\"]\n",
      "[[15  0  3  0]\n",
      " [ 0 63  9  1]\n",
      " [ 6 10 18 22]\n",
      " [10 34 16 91]]\n",
      "Best Valid Confusion Matrix:[\"ang\",\"sad\",\"hap\",\"neu\"]\n",
      "[[17  0  1  0]\n",
      " [ 3 60  5  5]\n",
      " [ 8 11 15 22]\n",
      " [17 27 11 96]]\n",
      "*****************************************************************\n"
     ]
    },
    {
     "name": "stderr",
     "output_type": "stream",
     "text": [
      "c:\\Users\\tejas\\AppData\\Local\\Programs\\Python\\Python310\\lib\\site-packages\\torch\\nn\\functional.py:1538: UserWarning: dropout2d: Received a 2-D input to dropout2d, which is deprecated and will result in an error in a future release. To retain the behavior and silence this warning, please use dropout instead. Note that dropout2d exists to provide channel-wise dropout on inputs with 2 spatial dimensions, a channel dimension, and an optional batch dimension (i.e. 3D or 4D inputs).\n",
      "  warnings.warn(warn_msg)\n"
     ]
    },
    {
     "name": "stdout",
     "output_type": "stream",
     "text": [
      "*****************************************************************\n",
      "Epoch: 00086\n",
      "Valid cost: 0.0178\n",
      "Valid_UA: 0.6388\n",
      "Best valid_UA: 0.6675\n",
      "Valid Confusion Matrix:[\"ang\",\"sad\",\"hap\",\"neu\"]\n",
      "[[ 14   0   3   1]\n",
      " [  0  58   6   9]\n",
      " [  2   8  15  31]\n",
      " [  5  28  10 108]]\n",
      "Best Valid Confusion Matrix:[\"ang\",\"sad\",\"hap\",\"neu\"]\n",
      "[[17  0  1  0]\n",
      " [ 3 60  5  5]\n",
      " [ 8 11 15 22]\n",
      " [17 27 11 96]]\n",
      "*****************************************************************\n"
     ]
    },
    {
     "name": "stderr",
     "output_type": "stream",
     "text": [
      "c:\\Users\\tejas\\AppData\\Local\\Programs\\Python\\Python310\\lib\\site-packages\\torch\\nn\\functional.py:1538: UserWarning: dropout2d: Received a 2-D input to dropout2d, which is deprecated and will result in an error in a future release. To retain the behavior and silence this warning, please use dropout instead. Note that dropout2d exists to provide channel-wise dropout on inputs with 2 spatial dimensions, a channel dimension, and an optional batch dimension (i.e. 3D or 4D inputs).\n",
      "  warnings.warn(warn_msg)\n"
     ]
    },
    {
     "name": "stdout",
     "output_type": "stream",
     "text": [
      "*****************************************************************\n",
      "Epoch: 00087\n",
      "Valid cost: 0.0179\n",
      "Valid_UA: 0.6265\n",
      "Best valid_UA: 0.6675\n",
      "Valid Confusion Matrix:[\"ang\",\"sad\",\"hap\",\"neu\"]\n",
      "[[ 13   0   4   1]\n",
      " [  1  56   9   7]\n",
      " [  4   6  18  28]\n",
      " [ 10  23  13 105]]\n",
      "Best Valid Confusion Matrix:[\"ang\",\"sad\",\"hap\",\"neu\"]\n",
      "[[17  0  1  0]\n",
      " [ 3 60  5  5]\n",
      " [ 8 11 15 22]\n",
      " [17 27 11 96]]\n",
      "*****************************************************************\n"
     ]
    },
    {
     "name": "stderr",
     "output_type": "stream",
     "text": [
      "c:\\Users\\tejas\\AppData\\Local\\Programs\\Python\\Python310\\lib\\site-packages\\torch\\nn\\functional.py:1538: UserWarning: dropout2d: Received a 2-D input to dropout2d, which is deprecated and will result in an error in a future release. To retain the behavior and silence this warning, please use dropout instead. Note that dropout2d exists to provide channel-wise dropout on inputs with 2 spatial dimensions, a channel dimension, and an optional batch dimension (i.e. 3D or 4D inputs).\n",
      "  warnings.warn(warn_msg)\n"
     ]
    },
    {
     "name": "stdout",
     "output_type": "stream",
     "text": [
      "*****************************************************************\n",
      "Epoch: 00088\n",
      "Valid cost: 0.0177\n",
      "Valid_UA: 0.6232\n",
      "Best valid_UA: 0.6675\n",
      "Valid Confusion Matrix:[\"ang\",\"sad\",\"hap\",\"neu\"]\n",
      "[[ 14   0   1   3]\n",
      " [  1  60   3   9]\n",
      " [  4   9   7  36]\n",
      " [  9  24   2 116]]\n",
      "Best Valid Confusion Matrix:[\"ang\",\"sad\",\"hap\",\"neu\"]\n",
      "[[17  0  1  0]\n",
      " [ 3 60  5  5]\n",
      " [ 8 11 15 22]\n",
      " [17 27 11 96]]\n",
      "*****************************************************************\n"
     ]
    },
    {
     "name": "stderr",
     "output_type": "stream",
     "text": [
      "c:\\Users\\tejas\\AppData\\Local\\Programs\\Python\\Python310\\lib\\site-packages\\torch\\nn\\functional.py:1538: UserWarning: dropout2d: Received a 2-D input to dropout2d, which is deprecated and will result in an error in a future release. To retain the behavior and silence this warning, please use dropout instead. Note that dropout2d exists to provide channel-wise dropout on inputs with 2 spatial dimensions, a channel dimension, and an optional batch dimension (i.e. 3D or 4D inputs).\n",
      "  warnings.warn(warn_msg)\n"
     ]
    },
    {
     "name": "stdout",
     "output_type": "stream",
     "text": [
      "*****************************************************************\n",
      "Epoch: 00089\n",
      "Valid cost: 0.018\n",
      "Valid_UA: 0.6694\n",
      "Best valid_UA: 0.6694\n",
      "Valid Confusion Matrix:[\"ang\",\"sad\",\"hap\",\"neu\"]\n",
      "[[ 16   0   2   0]\n",
      " [  2  58   7   6]\n",
      " [  6   8  16  26]\n",
      " [ 14  18  12 107]]\n",
      "Best Valid Confusion Matrix:[\"ang\",\"sad\",\"hap\",\"neu\"]\n",
      "[[ 16   0   2   0]\n",
      " [  2  58   7   6]\n",
      " [  6   8  16  26]\n",
      " [ 14  18  12 107]]\n",
      "*****************************************************************\n"
     ]
    },
    {
     "name": "stderr",
     "output_type": "stream",
     "text": [
      "c:\\Users\\tejas\\AppData\\Local\\Programs\\Python\\Python310\\lib\\site-packages\\torch\\nn\\functional.py:1538: UserWarning: dropout2d: Received a 2-D input to dropout2d, which is deprecated and will result in an error in a future release. To retain the behavior and silence this warning, please use dropout instead. Note that dropout2d exists to provide channel-wise dropout on inputs with 2 spatial dimensions, a channel dimension, and an optional batch dimension (i.e. 3D or 4D inputs).\n",
      "  warnings.warn(warn_msg)\n"
     ]
    },
    {
     "name": "stdout",
     "output_type": "stream",
     "text": [
      "*****************************************************************\n",
      "Epoch: 00090\n",
      "Valid cost: 0.0181\n",
      "Valid_UA: 0.6483\n",
      "Best valid_UA: 0.6694\n",
      "Valid Confusion Matrix:[\"ang\",\"sad\",\"hap\",\"neu\"]\n",
      "[[16  0  1  1]\n",
      " [ 1 57  9  6]\n",
      " [ 4  9 15 28]\n",
      " [15 28  9 99]]\n",
      "Best Valid Confusion Matrix:[\"ang\",\"sad\",\"hap\",\"neu\"]\n",
      "[[ 16   0   2   0]\n",
      " [  2  58   7   6]\n",
      " [  6   8  16  26]\n",
      " [ 14  18  12 107]]\n",
      "*****************************************************************\n"
     ]
    },
    {
     "name": "stderr",
     "output_type": "stream",
     "text": [
      "c:\\Users\\tejas\\AppData\\Local\\Programs\\Python\\Python310\\lib\\site-packages\\torch\\nn\\functional.py:1538: UserWarning: dropout2d: Received a 2-D input to dropout2d, which is deprecated and will result in an error in a future release. To retain the behavior and silence this warning, please use dropout instead. Note that dropout2d exists to provide channel-wise dropout on inputs with 2 spatial dimensions, a channel dimension, and an optional batch dimension (i.e. 3D or 4D inputs).\n",
      "  warnings.warn(warn_msg)\n"
     ]
    },
    {
     "name": "stdout",
     "output_type": "stream",
     "text": [
      "*****************************************************************\n",
      "Epoch: 00091\n",
      "Valid cost: 0.0179\n",
      "Valid_UA: 0.6415\n",
      "Best valid_UA: 0.6694\n",
      "Valid Confusion Matrix:[\"ang\",\"sad\",\"hap\",\"neu\"]\n",
      "[[ 16   0   1   1]\n",
      " [  1  57   7   8]\n",
      " [  6   7  12  31]\n",
      " [ 13  26   9 103]]\n",
      "Best Valid Confusion Matrix:[\"ang\",\"sad\",\"hap\",\"neu\"]\n",
      "[[ 16   0   2   0]\n",
      " [  2  58   7   6]\n",
      " [  6   8  16  26]\n",
      " [ 14  18  12 107]]\n",
      "*****************************************************************\n"
     ]
    },
    {
     "name": "stderr",
     "output_type": "stream",
     "text": [
      "c:\\Users\\tejas\\AppData\\Local\\Programs\\Python\\Python310\\lib\\site-packages\\torch\\nn\\functional.py:1538: UserWarning: dropout2d: Received a 2-D input to dropout2d, which is deprecated and will result in an error in a future release. To retain the behavior and silence this warning, please use dropout instead. Note that dropout2d exists to provide channel-wise dropout on inputs with 2 spatial dimensions, a channel dimension, and an optional batch dimension (i.e. 3D or 4D inputs).\n",
      "  warnings.warn(warn_msg)\n"
     ]
    },
    {
     "name": "stdout",
     "output_type": "stream",
     "text": [
      "*****************************************************************\n",
      "Epoch: 00092\n",
      "Valid cost: 0.0185\n",
      "Valid_UA: 0.6546\n",
      "Best valid_UA: 0.6694\n",
      "Valid Confusion Matrix:[\"ang\",\"sad\",\"hap\",\"neu\"]\n",
      "[[17  0  1  0]\n",
      " [ 1 63  7  2]\n",
      " [ 5 12 15 24]\n",
      " [13 45 11 82]]\n",
      "Best Valid Confusion Matrix:[\"ang\",\"sad\",\"hap\",\"neu\"]\n",
      "[[ 16   0   2   0]\n",
      " [  2  58   7   6]\n",
      " [  6   8  16  26]\n",
      " [ 14  18  12 107]]\n",
      "*****************************************************************\n"
     ]
    },
    {
     "name": "stderr",
     "output_type": "stream",
     "text": [
      "c:\\Users\\tejas\\AppData\\Local\\Programs\\Python\\Python310\\lib\\site-packages\\torch\\nn\\functional.py:1538: UserWarning: dropout2d: Received a 2-D input to dropout2d, which is deprecated and will result in an error in a future release. To retain the behavior and silence this warning, please use dropout instead. Note that dropout2d exists to provide channel-wise dropout on inputs with 2 spatial dimensions, a channel dimension, and an optional batch dimension (i.e. 3D or 4D inputs).\n",
      "  warnings.warn(warn_msg)\n"
     ]
    },
    {
     "name": "stdout",
     "output_type": "stream",
     "text": [
      "*****************************************************************\n",
      "Epoch: 00093\n",
      "Valid cost: 0.0176\n",
      "Valid_UA: 0.6393\n",
      "Best valid_UA: 0.6694\n",
      "Valid Confusion Matrix:[\"ang\",\"sad\",\"hap\",\"neu\"]\n",
      "[[ 16   0   1   1]\n",
      " [  1  53   4  15]\n",
      " [  5   6   9  36]\n",
      " [ 11  16   6 118]]\n",
      "Best Valid Confusion Matrix:[\"ang\",\"sad\",\"hap\",\"neu\"]\n",
      "[[ 16   0   2   0]\n",
      " [  2  58   7   6]\n",
      " [  6   8  16  26]\n",
      " [ 14  18  12 107]]\n",
      "*****************************************************************\n"
     ]
    },
    {
     "name": "stderr",
     "output_type": "stream",
     "text": [
      "c:\\Users\\tejas\\AppData\\Local\\Programs\\Python\\Python310\\lib\\site-packages\\torch\\nn\\functional.py:1538: UserWarning: dropout2d: Received a 2-D input to dropout2d, which is deprecated and will result in an error in a future release. To retain the behavior and silence this warning, please use dropout instead. Note that dropout2d exists to provide channel-wise dropout on inputs with 2 spatial dimensions, a channel dimension, and an optional batch dimension (i.e. 3D or 4D inputs).\n",
      "  warnings.warn(warn_msg)\n"
     ]
    },
    {
     "name": "stdout",
     "output_type": "stream",
     "text": [
      "*****************************************************************\n",
      "Epoch: 00094\n",
      "Valid cost: 0.0181\n",
      "Valid_UA: 0.6711\n",
      "Best valid_UA: 0.6711\n",
      "Valid Confusion Matrix:[\"ang\",\"sad\",\"hap\",\"neu\"]\n",
      "[[ 18   0   0   0]\n",
      " [  2  58   7   6]\n",
      " [  9   7  12  28]\n",
      " [ 15  21  13 102]]\n",
      "Best Valid Confusion Matrix:[\"ang\",\"sad\",\"hap\",\"neu\"]\n",
      "[[ 18   0   0   0]\n",
      " [  2  58   7   6]\n",
      " [  9   7  12  28]\n",
      " [ 15  21  13 102]]\n",
      "*****************************************************************\n"
     ]
    },
    {
     "name": "stderr",
     "output_type": "stream",
     "text": [
      "c:\\Users\\tejas\\AppData\\Local\\Programs\\Python\\Python310\\lib\\site-packages\\torch\\nn\\functional.py:1538: UserWarning: dropout2d: Received a 2-D input to dropout2d, which is deprecated and will result in an error in a future release. To retain the behavior and silence this warning, please use dropout instead. Note that dropout2d exists to provide channel-wise dropout on inputs with 2 spatial dimensions, a channel dimension, and an optional batch dimension (i.e. 3D or 4D inputs).\n",
      "  warnings.warn(warn_msg)\n"
     ]
    },
    {
     "name": "stdout",
     "output_type": "stream",
     "text": [
      "*****************************************************************\n",
      "Epoch: 00095\n",
      "Valid cost: 0.0187\n",
      "Valid_UA: 0.6396\n",
      "Best valid_UA: 0.6711\n",
      "Valid Confusion Matrix:[\"ang\",\"sad\",\"hap\",\"neu\"]\n",
      "[[15  0  3  0]\n",
      " [ 0 54 15  4]\n",
      " [ 7  7 27 15]\n",
      " [16 23 36 76]]\n",
      "Best Valid Confusion Matrix:[\"ang\",\"sad\",\"hap\",\"neu\"]\n",
      "[[ 18   0   0   0]\n",
      " [  2  58   7   6]\n",
      " [  9   7  12  28]\n",
      " [ 15  21  13 102]]\n",
      "*****************************************************************\n"
     ]
    },
    {
     "name": "stderr",
     "output_type": "stream",
     "text": [
      "c:\\Users\\tejas\\AppData\\Local\\Programs\\Python\\Python310\\lib\\site-packages\\torch\\nn\\functional.py:1538: UserWarning: dropout2d: Received a 2-D input to dropout2d, which is deprecated and will result in an error in a future release. To retain the behavior and silence this warning, please use dropout instead. Note that dropout2d exists to provide channel-wise dropout on inputs with 2 spatial dimensions, a channel dimension, and an optional batch dimension (i.e. 3D or 4D inputs).\n",
      "  warnings.warn(warn_msg)\n"
     ]
    },
    {
     "name": "stdout",
     "output_type": "stream",
     "text": [
      "*****************************************************************\n",
      "Epoch: 00096\n",
      "Valid cost: 0.0185\n",
      "Valid_UA: 0.6552\n",
      "Best valid_UA: 0.6711\n",
      "Valid Confusion Matrix:[\"ang\",\"sad\",\"hap\",\"neu\"]\n",
      "[[16  0  2  0]\n",
      " [ 0 58  9  6]\n",
      " [ 4  7 18 27]\n",
      " [11 30 17 93]]\n",
      "Best Valid Confusion Matrix:[\"ang\",\"sad\",\"hap\",\"neu\"]\n",
      "[[ 18   0   0   0]\n",
      " [  2  58   7   6]\n",
      " [  9   7  12  28]\n",
      " [ 15  21  13 102]]\n",
      "*****************************************************************\n"
     ]
    },
    {
     "name": "stderr",
     "output_type": "stream",
     "text": [
      "c:\\Users\\tejas\\AppData\\Local\\Programs\\Python\\Python310\\lib\\site-packages\\torch\\nn\\functional.py:1538: UserWarning: dropout2d: Received a 2-D input to dropout2d, which is deprecated and will result in an error in a future release. To retain the behavior and silence this warning, please use dropout instead. Note that dropout2d exists to provide channel-wise dropout on inputs with 2 spatial dimensions, a channel dimension, and an optional batch dimension (i.e. 3D or 4D inputs).\n",
      "  warnings.warn(warn_msg)\n"
     ]
    },
    {
     "name": "stdout",
     "output_type": "stream",
     "text": [
      "*****************************************************************\n",
      "Epoch: 00097\n",
      "Valid cost: 0.0182\n",
      "Valid_UA: 0.6475\n",
      "Best valid_UA: 0.6711\n",
      "Valid Confusion Matrix:[\"ang\",\"sad\",\"hap\",\"neu\"]\n",
      "[[16  0  1  1]\n",
      " [ 1 60  6  6]\n",
      " [ 8  9 14 25]\n",
      " [16 31  9 95]]\n",
      "Best Valid Confusion Matrix:[\"ang\",\"sad\",\"hap\",\"neu\"]\n",
      "[[ 18   0   0   0]\n",
      " [  2  58   7   6]\n",
      " [  9   7  12  28]\n",
      " [ 15  21  13 102]]\n",
      "*****************************************************************\n"
     ]
    },
    {
     "name": "stderr",
     "output_type": "stream",
     "text": [
      "c:\\Users\\tejas\\AppData\\Local\\Programs\\Python\\Python310\\lib\\site-packages\\torch\\nn\\functional.py:1538: UserWarning: dropout2d: Received a 2-D input to dropout2d, which is deprecated and will result in an error in a future release. To retain the behavior and silence this warning, please use dropout instead. Note that dropout2d exists to provide channel-wise dropout on inputs with 2 spatial dimensions, a channel dimension, and an optional batch dimension (i.e. 3D or 4D inputs).\n",
      "  warnings.warn(warn_msg)\n"
     ]
    },
    {
     "name": "stdout",
     "output_type": "stream",
     "text": [
      "*****************************************************************\n",
      "Epoch: 00098\n",
      "Valid cost: 0.0179\n",
      "Valid_UA: 0.6431\n",
      "Best valid_UA: 0.6711\n",
      "Valid Confusion Matrix:[\"ang\",\"sad\",\"hap\",\"neu\"]\n",
      "[[ 15   0   1   2]\n",
      " [  0  56   8   9]\n",
      " [  2   7  14  33]\n",
      " [  9  23  10 109]]\n",
      "Best Valid Confusion Matrix:[\"ang\",\"sad\",\"hap\",\"neu\"]\n",
      "[[ 18   0   0   0]\n",
      " [  2  58   7   6]\n",
      " [  9   7  12  28]\n",
      " [ 15  21  13 102]]\n",
      "*****************************************************************\n"
     ]
    },
    {
     "name": "stderr",
     "output_type": "stream",
     "text": [
      "c:\\Users\\tejas\\AppData\\Local\\Programs\\Python\\Python310\\lib\\site-packages\\torch\\nn\\functional.py:1538: UserWarning: dropout2d: Received a 2-D input to dropout2d, which is deprecated and will result in an error in a future release. To retain the behavior and silence this warning, please use dropout instead. Note that dropout2d exists to provide channel-wise dropout on inputs with 2 spatial dimensions, a channel dimension, and an optional batch dimension (i.e. 3D or 4D inputs).\n",
      "  warnings.warn(warn_msg)\n"
     ]
    },
    {
     "name": "stdout",
     "output_type": "stream",
     "text": [
      "*****************************************************************\n",
      "Epoch: 00099\n",
      "Valid cost: 0.0179\n",
      "Valid_UA: 0.6549\n",
      "Best valid_UA: 0.6711\n",
      "Valid Confusion Matrix:[\"ang\",\"sad\",\"hap\",\"neu\"]\n",
      "[[ 17   0   1   0]\n",
      " [  2  58   6   7]\n",
      " [  9   7  10  30]\n",
      " [ 18  21   6 106]]\n",
      "Best Valid Confusion Matrix:[\"ang\",\"sad\",\"hap\",\"neu\"]\n",
      "[[ 18   0   0   0]\n",
      " [  2  58   7   6]\n",
      " [  9   7  12  28]\n",
      " [ 15  21  13 102]]\n",
      "*****************************************************************\n"
     ]
    },
    {
     "name": "stderr",
     "output_type": "stream",
     "text": [
      "c:\\Users\\tejas\\AppData\\Local\\Programs\\Python\\Python310\\lib\\site-packages\\torch\\nn\\functional.py:1538: UserWarning: dropout2d: Received a 2-D input to dropout2d, which is deprecated and will result in an error in a future release. To retain the behavior and silence this warning, please use dropout instead. Note that dropout2d exists to provide channel-wise dropout on inputs with 2 spatial dimensions, a channel dimension, and an optional batch dimension (i.e. 3D or 4D inputs).\n",
      "  warnings.warn(warn_msg)\n"
     ]
    },
    {
     "name": "stdout",
     "output_type": "stream",
     "text": [
      "*****************************************************************\n",
      "Epoch: 00100\n",
      "Valid cost: 0.0184\n",
      "Valid_UA: 0.6158\n",
      "Best valid_UA: 0.6711\n",
      "Valid Confusion Matrix:[\"ang\",\"sad\",\"hap\",\"neu\"]\n",
      "[[13  0  2  3]\n",
      " [ 0 59  9  5]\n",
      " [ 2  8 17 29]\n",
      " [ 7 34 15 95]]\n",
      "Best Valid Confusion Matrix:[\"ang\",\"sad\",\"hap\",\"neu\"]\n",
      "[[ 18   0   0   0]\n",
      " [  2  58   7   6]\n",
      " [  9   7  12  28]\n",
      " [ 15  21  13 102]]\n",
      "*****************************************************************\n"
     ]
    },
    {
     "name": "stderr",
     "output_type": "stream",
     "text": [
      "c:\\Users\\tejas\\AppData\\Local\\Programs\\Python\\Python310\\lib\\site-packages\\torch\\nn\\functional.py:1538: UserWarning: dropout2d: Received a 2-D input to dropout2d, which is deprecated and will result in an error in a future release. To retain the behavior and silence this warning, please use dropout instead. Note that dropout2d exists to provide channel-wise dropout on inputs with 2 spatial dimensions, a channel dimension, and an optional batch dimension (i.e. 3D or 4D inputs).\n",
      "  warnings.warn(warn_msg)\n"
     ]
    },
    {
     "name": "stdout",
     "output_type": "stream",
     "text": [
      "*****************************************************************\n",
      "Epoch: 00101\n",
      "Valid cost: 0.0178\n",
      "Valid_UA: 0.6558\n",
      "Best valid_UA: 0.6711\n",
      "Valid Confusion Matrix:[\"ang\",\"sad\",\"hap\",\"neu\"]\n",
      "[[ 17   0   1   0]\n",
      " [  1  56   8   8]\n",
      " [  5   8  11  32]\n",
      " [ 13  23   7 108]]\n",
      "Best Valid Confusion Matrix:[\"ang\",\"sad\",\"hap\",\"neu\"]\n",
      "[[ 18   0   0   0]\n",
      " [  2  58   7   6]\n",
      " [  9   7  12  28]\n",
      " [ 15  21  13 102]]\n",
      "*****************************************************************\n"
     ]
    },
    {
     "name": "stderr",
     "output_type": "stream",
     "text": [
      "c:\\Users\\tejas\\AppData\\Local\\Programs\\Python\\Python310\\lib\\site-packages\\torch\\nn\\functional.py:1538: UserWarning: dropout2d: Received a 2-D input to dropout2d, which is deprecated and will result in an error in a future release. To retain the behavior and silence this warning, please use dropout instead. Note that dropout2d exists to provide channel-wise dropout on inputs with 2 spatial dimensions, a channel dimension, and an optional batch dimension (i.e. 3D or 4D inputs).\n",
      "  warnings.warn(warn_msg)\n"
     ]
    },
    {
     "name": "stdout",
     "output_type": "stream",
     "text": [
      "*****************************************************************\n",
      "Epoch: 00102\n",
      "Valid cost: 0.0184\n",
      "Valid_UA: 0.5869\n",
      "Best valid_UA: 0.6711\n",
      "Valid Confusion Matrix:[\"ang\",\"sad\",\"hap\",\"neu\"]\n",
      "[[11  0  6  1]\n",
      " [ 0 58 10  5]\n",
      " [ 3  9 19 25]\n",
      " [14 28 18 91]]\n",
      "Best Valid Confusion Matrix:[\"ang\",\"sad\",\"hap\",\"neu\"]\n",
      "[[ 18   0   0   0]\n",
      " [  2  58   7   6]\n",
      " [  9   7  12  28]\n",
      " [ 15  21  13 102]]\n",
      "*****************************************************************\n"
     ]
    },
    {
     "name": "stderr",
     "output_type": "stream",
     "text": [
      "c:\\Users\\tejas\\AppData\\Local\\Programs\\Python\\Python310\\lib\\site-packages\\torch\\nn\\functional.py:1538: UserWarning: dropout2d: Received a 2-D input to dropout2d, which is deprecated and will result in an error in a future release. To retain the behavior and silence this warning, please use dropout instead. Note that dropout2d exists to provide channel-wise dropout on inputs with 2 spatial dimensions, a channel dimension, and an optional batch dimension (i.e. 3D or 4D inputs).\n",
      "  warnings.warn(warn_msg)\n"
     ]
    },
    {
     "name": "stdout",
     "output_type": "stream",
     "text": [
      "*****************************************************************\n",
      "Epoch: 00103\n",
      "Valid cost: 0.0191\n",
      "Valid_UA: 0.6241\n",
      "Best valid_UA: 0.6711\n",
      "Valid Confusion Matrix:[\"ang\",\"sad\",\"hap\",\"neu\"]\n",
      "[[16  0  2  0]\n",
      " [ 1 61 10  1]\n",
      " [13 14 18 11]\n",
      " [26 38 19 68]]\n",
      "Best Valid Confusion Matrix:[\"ang\",\"sad\",\"hap\",\"neu\"]\n",
      "[[ 18   0   0   0]\n",
      " [  2  58   7   6]\n",
      " [  9   7  12  28]\n",
      " [ 15  21  13 102]]\n",
      "*****************************************************************\n"
     ]
    },
    {
     "name": "stderr",
     "output_type": "stream",
     "text": [
      "c:\\Users\\tejas\\AppData\\Local\\Programs\\Python\\Python310\\lib\\site-packages\\torch\\nn\\functional.py:1538: UserWarning: dropout2d: Received a 2-D input to dropout2d, which is deprecated and will result in an error in a future release. To retain the behavior and silence this warning, please use dropout instead. Note that dropout2d exists to provide channel-wise dropout on inputs with 2 spatial dimensions, a channel dimension, and an optional batch dimension (i.e. 3D or 4D inputs).\n",
      "  warnings.warn(warn_msg)\n"
     ]
    },
    {
     "name": "stdout",
     "output_type": "stream",
     "text": [
      "*****************************************************************\n",
      "Epoch: 00104\n",
      "Valid cost: 0.0176\n",
      "Valid_UA: 0.6474\n",
      "Best valid_UA: 0.6711\n",
      "Valid Confusion Matrix:[\"ang\",\"sad\",\"hap\",\"neu\"]\n",
      "[[ 14   0   3   1]\n",
      " [  0  56   6  11]\n",
      " [  2   6  14  34]\n",
      " [  7  18   6 120]]\n",
      "Best Valid Confusion Matrix:[\"ang\",\"sad\",\"hap\",\"neu\"]\n",
      "[[ 18   0   0   0]\n",
      " [  2  58   7   6]\n",
      " [  9   7  12  28]\n",
      " [ 15  21  13 102]]\n",
      "*****************************************************************\n"
     ]
    },
    {
     "name": "stderr",
     "output_type": "stream",
     "text": [
      "c:\\Users\\tejas\\AppData\\Local\\Programs\\Python\\Python310\\lib\\site-packages\\torch\\nn\\functional.py:1538: UserWarning: dropout2d: Received a 2-D input to dropout2d, which is deprecated and will result in an error in a future release. To retain the behavior and silence this warning, please use dropout instead. Note that dropout2d exists to provide channel-wise dropout on inputs with 2 spatial dimensions, a channel dimension, and an optional batch dimension (i.e. 3D or 4D inputs).\n",
      "  warnings.warn(warn_msg)\n"
     ]
    },
    {
     "name": "stdout",
     "output_type": "stream",
     "text": [
      "*****************************************************************\n",
      "Epoch: 00105\n",
      "Valid cost: 0.0189\n",
      "Valid_UA: 0.6114\n",
      "Best valid_UA: 0.6711\n",
      "Valid Confusion Matrix:[\"ang\",\"sad\",\"hap\",\"neu\"]\n",
      "[[14  0  3  1]\n",
      " [ 0 63  9  1]\n",
      " [ 6 14 18 18]\n",
      " [12 42 24 73]]\n",
      "Best Valid Confusion Matrix:[\"ang\",\"sad\",\"hap\",\"neu\"]\n",
      "[[ 18   0   0   0]\n",
      " [  2  58   7   6]\n",
      " [  9   7  12  28]\n",
      " [ 15  21  13 102]]\n",
      "*****************************************************************\n"
     ]
    },
    {
     "name": "stderr",
     "output_type": "stream",
     "text": [
      "c:\\Users\\tejas\\AppData\\Local\\Programs\\Python\\Python310\\lib\\site-packages\\torch\\nn\\functional.py:1538: UserWarning: dropout2d: Received a 2-D input to dropout2d, which is deprecated and will result in an error in a future release. To retain the behavior and silence this warning, please use dropout instead. Note that dropout2d exists to provide channel-wise dropout on inputs with 2 spatial dimensions, a channel dimension, and an optional batch dimension (i.e. 3D or 4D inputs).\n",
      "  warnings.warn(warn_msg)\n"
     ]
    },
    {
     "name": "stdout",
     "output_type": "stream",
     "text": [
      "*****************************************************************\n",
      "Epoch: 00106\n",
      "Valid cost: 0.0184\n",
      "Valid_UA: 0.6485\n",
      "Best valid_UA: 0.6711\n",
      "Valid Confusion Matrix:[\"ang\",\"sad\",\"hap\",\"neu\"]\n",
      "[[17  0  1  0]\n",
      " [ 2 59  6  6]\n",
      " [10  7 13 26]\n",
      " [18 32  9 92]]\n",
      "Best Valid Confusion Matrix:[\"ang\",\"sad\",\"hap\",\"neu\"]\n",
      "[[ 18   0   0   0]\n",
      " [  2  58   7   6]\n",
      " [  9   7  12  28]\n",
      " [ 15  21  13 102]]\n",
      "*****************************************************************\n"
     ]
    },
    {
     "name": "stderr",
     "output_type": "stream",
     "text": [
      "c:\\Users\\tejas\\AppData\\Local\\Programs\\Python\\Python310\\lib\\site-packages\\torch\\nn\\functional.py:1538: UserWarning: dropout2d: Received a 2-D input to dropout2d, which is deprecated and will result in an error in a future release. To retain the behavior and silence this warning, please use dropout instead. Note that dropout2d exists to provide channel-wise dropout on inputs with 2 spatial dimensions, a channel dimension, and an optional batch dimension (i.e. 3D or 4D inputs).\n",
      "  warnings.warn(warn_msg)\n"
     ]
    },
    {
     "name": "stdout",
     "output_type": "stream",
     "text": [
      "*****************************************************************\n",
      "Epoch: 00107\n",
      "Valid cost: 0.0202\n",
      "Valid_UA: 0.5778\n",
      "Best valid_UA: 0.6711\n",
      "Valid Confusion Matrix:[\"ang\",\"sad\",\"hap\",\"neu\"]\n",
      "[[15  0  3  0]\n",
      " [ 0 64  9  0]\n",
      " [ 4 19 27  6]\n",
      " [16 68 49 18]]\n",
      "Best Valid Confusion Matrix:[\"ang\",\"sad\",\"hap\",\"neu\"]\n",
      "[[ 18   0   0   0]\n",
      " [  2  58   7   6]\n",
      " [  9   7  12  28]\n",
      " [ 15  21  13 102]]\n",
      "*****************************************************************\n"
     ]
    },
    {
     "name": "stderr",
     "output_type": "stream",
     "text": [
      "c:\\Users\\tejas\\AppData\\Local\\Programs\\Python\\Python310\\lib\\site-packages\\torch\\nn\\functional.py:1538: UserWarning: dropout2d: Received a 2-D input to dropout2d, which is deprecated and will result in an error in a future release. To retain the behavior and silence this warning, please use dropout instead. Note that dropout2d exists to provide channel-wise dropout on inputs with 2 spatial dimensions, a channel dimension, and an optional batch dimension (i.e. 3D or 4D inputs).\n",
      "  warnings.warn(warn_msg)\n"
     ]
    },
    {
     "name": "stdout",
     "output_type": "stream",
     "text": [
      "*****************************************************************\n",
      "Epoch: 00108\n",
      "Valid cost: 0.0184\n",
      "Valid_UA: 0.562\n",
      "Best valid_UA: 0.6711\n",
      "Valid Confusion Matrix:[\"ang\",\"sad\",\"hap\",\"neu\"]\n",
      "[[ 10   0   7   1]\n",
      " [  0  56   7  10]\n",
      " [  4   6  14  32]\n",
      " [ 10  26  13 102]]\n",
      "Best Valid Confusion Matrix:[\"ang\",\"sad\",\"hap\",\"neu\"]\n",
      "[[ 18   0   0   0]\n",
      " [  2  58   7   6]\n",
      " [  9   7  12  28]\n",
      " [ 15  21  13 102]]\n",
      "*****************************************************************\n"
     ]
    },
    {
     "name": "stderr",
     "output_type": "stream",
     "text": [
      "c:\\Users\\tejas\\AppData\\Local\\Programs\\Python\\Python310\\lib\\site-packages\\torch\\nn\\functional.py:1538: UserWarning: dropout2d: Received a 2-D input to dropout2d, which is deprecated and will result in an error in a future release. To retain the behavior and silence this warning, please use dropout instead. Note that dropout2d exists to provide channel-wise dropout on inputs with 2 spatial dimensions, a channel dimension, and an optional batch dimension (i.e. 3D or 4D inputs).\n",
      "  warnings.warn(warn_msg)\n"
     ]
    },
    {
     "name": "stdout",
     "output_type": "stream",
     "text": [
      "*****************************************************************\n",
      "Epoch: 00109\n",
      "Valid cost: 0.0181\n",
      "Valid_UA: 0.63\n",
      "Best valid_UA: 0.6711\n",
      "Valid Confusion Matrix:[\"ang\",\"sad\",\"hap\",\"neu\"]\n",
      "[[ 17   0   1   0]\n",
      " [  2  49   6  16]\n",
      " [ 10   3   8  35]\n",
      " [ 16  12   8 115]]\n",
      "Best Valid Confusion Matrix:[\"ang\",\"sad\",\"hap\",\"neu\"]\n",
      "[[ 18   0   0   0]\n",
      " [  2  58   7   6]\n",
      " [  9   7  12  28]\n",
      " [ 15  21  13 102]]\n",
      "*****************************************************************\n"
     ]
    },
    {
     "name": "stderr",
     "output_type": "stream",
     "text": [
      "c:\\Users\\tejas\\AppData\\Local\\Programs\\Python\\Python310\\lib\\site-packages\\torch\\nn\\functional.py:1538: UserWarning: dropout2d: Received a 2-D input to dropout2d, which is deprecated and will result in an error in a future release. To retain the behavior and silence this warning, please use dropout instead. Note that dropout2d exists to provide channel-wise dropout on inputs with 2 spatial dimensions, a channel dimension, and an optional batch dimension (i.e. 3D or 4D inputs).\n",
      "  warnings.warn(warn_msg)\n"
     ]
    },
    {
     "name": "stdout",
     "output_type": "stream",
     "text": [
      "*****************************************************************\n",
      "Epoch: 00110\n",
      "Valid cost: 0.0179\n",
      "Valid_UA: 0.6279\n",
      "Best valid_UA: 0.6711\n",
      "Valid Confusion Matrix:[\"ang\",\"sad\",\"hap\",\"neu\"]\n",
      "[[ 15   0   1   2]\n",
      " [  1  55   5  12]\n",
      " [  5   7  11  33]\n",
      " [ 12  21   8 110]]\n",
      "Best Valid Confusion Matrix:[\"ang\",\"sad\",\"hap\",\"neu\"]\n",
      "[[ 18   0   0   0]\n",
      " [  2  58   7   6]\n",
      " [  9   7  12  28]\n",
      " [ 15  21  13 102]]\n",
      "*****************************************************************\n"
     ]
    },
    {
     "name": "stderr",
     "output_type": "stream",
     "text": [
      "c:\\Users\\tejas\\AppData\\Local\\Programs\\Python\\Python310\\lib\\site-packages\\torch\\nn\\functional.py:1538: UserWarning: dropout2d: Received a 2-D input to dropout2d, which is deprecated and will result in an error in a future release. To retain the behavior and silence this warning, please use dropout instead. Note that dropout2d exists to provide channel-wise dropout on inputs with 2 spatial dimensions, a channel dimension, and an optional batch dimension (i.e. 3D or 4D inputs).\n",
      "  warnings.warn(warn_msg)\n"
     ]
    },
    {
     "name": "stdout",
     "output_type": "stream",
     "text": [
      "*****************************************************************\n",
      "Epoch: 00111\n",
      "Valid cost: 0.0187\n",
      "Valid_UA: 0.6247\n",
      "Best valid_UA: 0.6711\n",
      "Valid Confusion Matrix:[\"ang\",\"sad\",\"hap\",\"neu\"]\n",
      "[[16  0  1  1]\n",
      " [ 1 58  8  6]\n",
      " [ 9 12 16 19]\n",
      " [20 33 18 80]]\n",
      "Best Valid Confusion Matrix:[\"ang\",\"sad\",\"hap\",\"neu\"]\n",
      "[[ 18   0   0   0]\n",
      " [  2  58   7   6]\n",
      " [  9   7  12  28]\n",
      " [ 15  21  13 102]]\n",
      "*****************************************************************\n"
     ]
    },
    {
     "name": "stderr",
     "output_type": "stream",
     "text": [
      "c:\\Users\\tejas\\AppData\\Local\\Programs\\Python\\Python310\\lib\\site-packages\\torch\\nn\\functional.py:1538: UserWarning: dropout2d: Received a 2-D input to dropout2d, which is deprecated and will result in an error in a future release. To retain the behavior and silence this warning, please use dropout instead. Note that dropout2d exists to provide channel-wise dropout on inputs with 2 spatial dimensions, a channel dimension, and an optional batch dimension (i.e. 3D or 4D inputs).\n",
      "  warnings.warn(warn_msg)\n"
     ]
    },
    {
     "name": "stdout",
     "output_type": "stream",
     "text": [
      "*****************************************************************\n",
      "Epoch: 00112\n",
      "Valid cost: 0.0184\n",
      "Valid_UA: 0.6258\n",
      "Best valid_UA: 0.6711\n",
      "Valid Confusion Matrix:[\"ang\",\"sad\",\"hap\",\"neu\"]\n",
      "[[16  0  1  1]\n",
      " [ 1 60  4  8]\n",
      " [ 5  8 11 32]\n",
      " [21 30 10 90]]\n",
      "Best Valid Confusion Matrix:[\"ang\",\"sad\",\"hap\",\"neu\"]\n",
      "[[ 18   0   0   0]\n",
      " [  2  58   7   6]\n",
      " [  9   7  12  28]\n",
      " [ 15  21  13 102]]\n",
      "*****************************************************************\n"
     ]
    },
    {
     "name": "stderr",
     "output_type": "stream",
     "text": [
      "c:\\Users\\tejas\\AppData\\Local\\Programs\\Python\\Python310\\lib\\site-packages\\torch\\nn\\functional.py:1538: UserWarning: dropout2d: Received a 2-D input to dropout2d, which is deprecated and will result in an error in a future release. To retain the behavior and silence this warning, please use dropout instead. Note that dropout2d exists to provide channel-wise dropout on inputs with 2 spatial dimensions, a channel dimension, and an optional batch dimension (i.e. 3D or 4D inputs).\n",
      "  warnings.warn(warn_msg)\n"
     ]
    },
    {
     "name": "stdout",
     "output_type": "stream",
     "text": [
      "*****************************************************************\n",
      "Epoch: 00113\n",
      "Valid cost: 0.0185\n",
      "Valid_UA: 0.5987\n",
      "Best valid_UA: 0.6711\n",
      "Valid Confusion Matrix:[\"ang\",\"sad\",\"hap\",\"neu\"]\n",
      "[[14  0  2  2]\n",
      " [ 1 60  5  7]\n",
      " [ 4  9 13 30]\n",
      " [16 38 12 85]]\n",
      "Best Valid Confusion Matrix:[\"ang\",\"sad\",\"hap\",\"neu\"]\n",
      "[[ 18   0   0   0]\n",
      " [  2  58   7   6]\n",
      " [  9   7  12  28]\n",
      " [ 15  21  13 102]]\n",
      "*****************************************************************\n"
     ]
    },
    {
     "name": "stderr",
     "output_type": "stream",
     "text": [
      "c:\\Users\\tejas\\AppData\\Local\\Programs\\Python\\Python310\\lib\\site-packages\\torch\\nn\\functional.py:1538: UserWarning: dropout2d: Received a 2-D input to dropout2d, which is deprecated and will result in an error in a future release. To retain the behavior and silence this warning, please use dropout instead. Note that dropout2d exists to provide channel-wise dropout on inputs with 2 spatial dimensions, a channel dimension, and an optional batch dimension (i.e. 3D or 4D inputs).\n",
      "  warnings.warn(warn_msg)\n"
     ]
    },
    {
     "name": "stdout",
     "output_type": "stream",
     "text": [
      "*****************************************************************\n",
      "Epoch: 00114\n",
      "Valid cost: 0.0184\n",
      "Valid_UA: 0.5951\n",
      "Best valid_UA: 0.6711\n",
      "Valid Confusion Matrix:[\"ang\",\"sad\",\"hap\",\"neu\"]\n",
      "[[14  0  2  2]\n",
      " [ 1 59  4  9]\n",
      " [ 3  7 10 36]\n",
      " [11 36 11 93]]\n",
      "Best Valid Confusion Matrix:[\"ang\",\"sad\",\"hap\",\"neu\"]\n",
      "[[ 18   0   0   0]\n",
      " [  2  58   7   6]\n",
      " [  9   7  12  28]\n",
      " [ 15  21  13 102]]\n",
      "*****************************************************************\n"
     ]
    },
    {
     "name": "stderr",
     "output_type": "stream",
     "text": [
      "c:\\Users\\tejas\\AppData\\Local\\Programs\\Python\\Python310\\lib\\site-packages\\torch\\nn\\functional.py:1538: UserWarning: dropout2d: Received a 2-D input to dropout2d, which is deprecated and will result in an error in a future release. To retain the behavior and silence this warning, please use dropout instead. Note that dropout2d exists to provide channel-wise dropout on inputs with 2 spatial dimensions, a channel dimension, and an optional batch dimension (i.e. 3D or 4D inputs).\n",
      "  warnings.warn(warn_msg)\n"
     ]
    },
    {
     "name": "stdout",
     "output_type": "stream",
     "text": [
      "*****************************************************************\n",
      "Epoch: 00115\n",
      "Valid cost: 0.0184\n",
      "Valid_UA: 0.6382\n",
      "Best valid_UA: 0.6711\n",
      "Valid Confusion Matrix:[\"ang\",\"sad\",\"hap\",\"neu\"]\n",
      "[[17  0  1  0]\n",
      " [ 2 57  4 10]\n",
      " [ 8  7 10 31]\n",
      " [20 22 11 98]]\n",
      "Best Valid Confusion Matrix:[\"ang\",\"sad\",\"hap\",\"neu\"]\n",
      "[[ 18   0   0   0]\n",
      " [  2  58   7   6]\n",
      " [  9   7  12  28]\n",
      " [ 15  21  13 102]]\n",
      "*****************************************************************\n"
     ]
    },
    {
     "name": "stderr",
     "output_type": "stream",
     "text": [
      "c:\\Users\\tejas\\AppData\\Local\\Programs\\Python\\Python310\\lib\\site-packages\\torch\\nn\\functional.py:1538: UserWarning: dropout2d: Received a 2-D input to dropout2d, which is deprecated and will result in an error in a future release. To retain the behavior and silence this warning, please use dropout instead. Note that dropout2d exists to provide channel-wise dropout on inputs with 2 spatial dimensions, a channel dimension, and an optional batch dimension (i.e. 3D or 4D inputs).\n",
      "  warnings.warn(warn_msg)\n"
     ]
    },
    {
     "name": "stdout",
     "output_type": "stream",
     "text": [
      "*****************************************************************\n",
      "Epoch: 00116\n",
      "Valid cost: 0.0186\n",
      "Valid_UA: 0.5806\n",
      "Best valid_UA: 0.6711\n",
      "Valid Confusion Matrix:[\"ang\",\"sad\",\"hap\",\"neu\"]\n",
      "[[13  0  3  2]\n",
      " [ 1 57  7  8]\n",
      " [ 4  9 14 29]\n",
      " [16 34 15 86]]\n",
      "Best Valid Confusion Matrix:[\"ang\",\"sad\",\"hap\",\"neu\"]\n",
      "[[ 18   0   0   0]\n",
      " [  2  58   7   6]\n",
      " [  9   7  12  28]\n",
      " [ 15  21  13 102]]\n",
      "*****************************************************************\n"
     ]
    },
    {
     "name": "stderr",
     "output_type": "stream",
     "text": [
      "c:\\Users\\tejas\\AppData\\Local\\Programs\\Python\\Python310\\lib\\site-packages\\torch\\nn\\functional.py:1538: UserWarning: dropout2d: Received a 2-D input to dropout2d, which is deprecated and will result in an error in a future release. To retain the behavior and silence this warning, please use dropout instead. Note that dropout2d exists to provide channel-wise dropout on inputs with 2 spatial dimensions, a channel dimension, and an optional batch dimension (i.e. 3D or 4D inputs).\n",
      "  warnings.warn(warn_msg)\n"
     ]
    },
    {
     "name": "stdout",
     "output_type": "stream",
     "text": [
      "*****************************************************************\n",
      "Epoch: 00117\n",
      "Valid cost: 0.019\n",
      "Valid_UA: 0.6121\n",
      "Best valid_UA: 0.6711\n",
      "Valid Confusion Matrix:[\"ang\",\"sad\",\"hap\",\"neu\"]\n",
      "[[17  0  1  0]\n",
      " [ 2 60  7  4]\n",
      " [11 12 10 23]\n",
      " [23 39 13 76]]\n",
      "Best Valid Confusion Matrix:[\"ang\",\"sad\",\"hap\",\"neu\"]\n",
      "[[ 18   0   0   0]\n",
      " [  2  58   7   6]\n",
      " [  9   7  12  28]\n",
      " [ 15  21  13 102]]\n",
      "*****************************************************************\n"
     ]
    },
    {
     "name": "stderr",
     "output_type": "stream",
     "text": [
      "c:\\Users\\tejas\\AppData\\Local\\Programs\\Python\\Python310\\lib\\site-packages\\torch\\nn\\functional.py:1538: UserWarning: dropout2d: Received a 2-D input to dropout2d, which is deprecated and will result in an error in a future release. To retain the behavior and silence this warning, please use dropout instead. Note that dropout2d exists to provide channel-wise dropout on inputs with 2 spatial dimensions, a channel dimension, and an optional batch dimension (i.e. 3D or 4D inputs).\n",
      "  warnings.warn(warn_msg)\n"
     ]
    },
    {
     "name": "stdout",
     "output_type": "stream",
     "text": [
      "*****************************************************************\n",
      "Epoch: 00118\n",
      "Valid cost: 0.0182\n",
      "Valid_UA: 0.6171\n",
      "Best valid_UA: 0.6711\n",
      "Valid Confusion Matrix:[\"ang\",\"sad\",\"hap\",\"neu\"]\n",
      "[[15  0  3  0]\n",
      " [ 1 56  7  9]\n",
      " [ 6  7 13 30]\n",
      " [16 25 14 96]]\n",
      "Best Valid Confusion Matrix:[\"ang\",\"sad\",\"hap\",\"neu\"]\n",
      "[[ 18   0   0   0]\n",
      " [  2  58   7   6]\n",
      " [  9   7  12  28]\n",
      " [ 15  21  13 102]]\n",
      "*****************************************************************\n"
     ]
    },
    {
     "name": "stderr",
     "output_type": "stream",
     "text": [
      "c:\\Users\\tejas\\AppData\\Local\\Programs\\Python\\Python310\\lib\\site-packages\\torch\\nn\\functional.py:1538: UserWarning: dropout2d: Received a 2-D input to dropout2d, which is deprecated and will result in an error in a future release. To retain the behavior and silence this warning, please use dropout instead. Note that dropout2d exists to provide channel-wise dropout on inputs with 2 spatial dimensions, a channel dimension, and an optional batch dimension (i.e. 3D or 4D inputs).\n",
      "  warnings.warn(warn_msg)\n"
     ]
    },
    {
     "name": "stdout",
     "output_type": "stream",
     "text": [
      "*****************************************************************\n",
      "Epoch: 00119\n",
      "Valid cost: 0.0185\n",
      "Valid_UA: 0.5876\n",
      "Best valid_UA: 0.6711\n",
      "Valid Confusion Matrix:[\"ang\",\"sad\",\"hap\",\"neu\"]\n",
      "[[13  0  3  2]\n",
      " [ 1 60  7  5]\n",
      " [ 5 12 14 25]\n",
      " [18 37 12 84]]\n",
      "Best Valid Confusion Matrix:[\"ang\",\"sad\",\"hap\",\"neu\"]\n",
      "[[ 18   0   0   0]\n",
      " [  2  58   7   6]\n",
      " [  9   7  12  28]\n",
      " [ 15  21  13 102]]\n",
      "*****************************************************************\n"
     ]
    },
    {
     "name": "stderr",
     "output_type": "stream",
     "text": [
      "c:\\Users\\tejas\\AppData\\Local\\Programs\\Python\\Python310\\lib\\site-packages\\torch\\nn\\functional.py:1538: UserWarning: dropout2d: Received a 2-D input to dropout2d, which is deprecated and will result in an error in a future release. To retain the behavior and silence this warning, please use dropout instead. Note that dropout2d exists to provide channel-wise dropout on inputs with 2 spatial dimensions, a channel dimension, and an optional batch dimension (i.e. 3D or 4D inputs).\n",
      "  warnings.warn(warn_msg)\n"
     ]
    },
    {
     "name": "stdout",
     "output_type": "stream",
     "text": [
      "*****************************************************************\n",
      "Epoch: 00120\n",
      "Valid cost: 0.0184\n",
      "Valid_UA: 0.6161\n",
      "Best valid_UA: 0.6711\n",
      "Valid Confusion Matrix:[\"ang\",\"sad\",\"hap\",\"neu\"]\n",
      "[[14  0  2  2]\n",
      " [ 1 56 10  6]\n",
      " [ 4  7 17 28]\n",
      " [17 24 17 93]]\n",
      "Best Valid Confusion Matrix:[\"ang\",\"sad\",\"hap\",\"neu\"]\n",
      "[[ 18   0   0   0]\n",
      " [  2  58   7   6]\n",
      " [  9   7  12  28]\n",
      " [ 15  21  13 102]]\n",
      "*****************************************************************\n"
     ]
    },
    {
     "name": "stderr",
     "output_type": "stream",
     "text": [
      "c:\\Users\\tejas\\AppData\\Local\\Programs\\Python\\Python310\\lib\\site-packages\\torch\\nn\\functional.py:1538: UserWarning: dropout2d: Received a 2-D input to dropout2d, which is deprecated and will result in an error in a future release. To retain the behavior and silence this warning, please use dropout instead. Note that dropout2d exists to provide channel-wise dropout on inputs with 2 spatial dimensions, a channel dimension, and an optional batch dimension (i.e. 3D or 4D inputs).\n",
      "  warnings.warn(warn_msg)\n"
     ]
    },
    {
     "name": "stdout",
     "output_type": "stream",
     "text": [
      "*****************************************************************\n",
      "Epoch: 00121\n",
      "Valid cost: 0.0183\n",
      "Valid_UA: 0.6372\n",
      "Best valid_UA: 0.6711\n",
      "Valid Confusion Matrix:[\"ang\",\"sad\",\"hap\",\"neu\"]\n",
      "[[17  0  1  0]\n",
      " [ 1 57  8  7]\n",
      " [ 7  8 12 29]\n",
      " [17 26 16 92]]\n",
      "Best Valid Confusion Matrix:[\"ang\",\"sad\",\"hap\",\"neu\"]\n",
      "[[ 18   0   0   0]\n",
      " [  2  58   7   6]\n",
      " [  9   7  12  28]\n",
      " [ 15  21  13 102]]\n",
      "*****************************************************************\n"
     ]
    },
    {
     "name": "stderr",
     "output_type": "stream",
     "text": [
      "c:\\Users\\tejas\\AppData\\Local\\Programs\\Python\\Python310\\lib\\site-packages\\torch\\nn\\functional.py:1538: UserWarning: dropout2d: Received a 2-D input to dropout2d, which is deprecated and will result in an error in a future release. To retain the behavior and silence this warning, please use dropout instead. Note that dropout2d exists to provide channel-wise dropout on inputs with 2 spatial dimensions, a channel dimension, and an optional batch dimension (i.e. 3D or 4D inputs).\n",
      "  warnings.warn(warn_msg)\n"
     ]
    },
    {
     "name": "stdout",
     "output_type": "stream",
     "text": [
      "*****************************************************************\n",
      "Epoch: 00122\n",
      "Valid cost: 0.0187\n",
      "Valid_UA: 0.6278\n",
      "Best valid_UA: 0.6711\n",
      "Valid Confusion Matrix:[\"ang\",\"sad\",\"hap\",\"neu\"]\n",
      "[[16  0  1  1]\n",
      " [ 2 62  4  5]\n",
      " [ 5 13 14 24]\n",
      " [18 40 14 79]]\n",
      "Best Valid Confusion Matrix:[\"ang\",\"sad\",\"hap\",\"neu\"]\n",
      "[[ 18   0   0   0]\n",
      " [  2  58   7   6]\n",
      " [  9   7  12  28]\n",
      " [ 15  21  13 102]]\n",
      "*****************************************************************\n"
     ]
    },
    {
     "name": "stderr",
     "output_type": "stream",
     "text": [
      "c:\\Users\\tejas\\AppData\\Local\\Programs\\Python\\Python310\\lib\\site-packages\\torch\\nn\\functional.py:1538: UserWarning: dropout2d: Received a 2-D input to dropout2d, which is deprecated and will result in an error in a future release. To retain the behavior and silence this warning, please use dropout instead. Note that dropout2d exists to provide channel-wise dropout on inputs with 2 spatial dimensions, a channel dimension, and an optional batch dimension (i.e. 3D or 4D inputs).\n",
      "  warnings.warn(warn_msg)\n"
     ]
    },
    {
     "name": "stdout",
     "output_type": "stream",
     "text": [
      "*****************************************************************\n",
      "Epoch: 00123\n",
      "Valid cost: 0.0184\n",
      "Valid_UA: 0.6356\n",
      "Best valid_UA: 0.6711\n",
      "Valid Confusion Matrix:[\"ang\",\"sad\",\"hap\",\"neu\"]\n",
      "[[17  0  1  0]\n",
      " [ 2 59  3  9]\n",
      " [ 7 10  9 30]\n",
      " [16 30 10 95]]\n",
      "Best Valid Confusion Matrix:[\"ang\",\"sad\",\"hap\",\"neu\"]\n",
      "[[ 18   0   0   0]\n",
      " [  2  58   7   6]\n",
      " [  9   7  12  28]\n",
      " [ 15  21  13 102]]\n",
      "*****************************************************************\n"
     ]
    },
    {
     "name": "stderr",
     "output_type": "stream",
     "text": [
      "c:\\Users\\tejas\\AppData\\Local\\Programs\\Python\\Python310\\lib\\site-packages\\torch\\nn\\functional.py:1538: UserWarning: dropout2d: Received a 2-D input to dropout2d, which is deprecated and will result in an error in a future release. To retain the behavior and silence this warning, please use dropout instead. Note that dropout2d exists to provide channel-wise dropout on inputs with 2 spatial dimensions, a channel dimension, and an optional batch dimension (i.e. 3D or 4D inputs).\n",
      "  warnings.warn(warn_msg)\n"
     ]
    },
    {
     "name": "stdout",
     "output_type": "stream",
     "text": [
      "*****************************************************************\n",
      "Epoch: 00124\n",
      "Valid cost: 0.0188\n",
      "Valid_UA: 0.6203\n",
      "Best valid_UA: 0.6711\n",
      "Valid Confusion Matrix:[\"ang\",\"sad\",\"hap\",\"neu\"]\n",
      "[[16  0  2  0]\n",
      " [ 1 58 10  4]\n",
      " [ 7 11 15 23]\n",
      " [17 31 23 80]]\n",
      "Best Valid Confusion Matrix:[\"ang\",\"sad\",\"hap\",\"neu\"]\n",
      "[[ 18   0   0   0]\n",
      " [  2  58   7   6]\n",
      " [  9   7  12  28]\n",
      " [ 15  21  13 102]]\n",
      "*****************************************************************\n"
     ]
    },
    {
     "name": "stderr",
     "output_type": "stream",
     "text": [
      "c:\\Users\\tejas\\AppData\\Local\\Programs\\Python\\Python310\\lib\\site-packages\\torch\\nn\\functional.py:1538: UserWarning: dropout2d: Received a 2-D input to dropout2d, which is deprecated and will result in an error in a future release. To retain the behavior and silence this warning, please use dropout instead. Note that dropout2d exists to provide channel-wise dropout on inputs with 2 spatial dimensions, a channel dimension, and an optional batch dimension (i.e. 3D or 4D inputs).\n",
      "  warnings.warn(warn_msg)\n"
     ]
    },
    {
     "name": "stdout",
     "output_type": "stream",
     "text": [
      "*****************************************************************\n",
      "Epoch: 00125\n",
      "Valid cost: 0.0185\n",
      "Valid_UA: 0.6003\n",
      "Best valid_UA: 0.6711\n",
      "Valid Confusion Matrix:[\"ang\",\"sad\",\"hap\",\"neu\"]\n",
      "[[14  0  1  3]\n",
      " [ 1 60  6  6]\n",
      " [ 5 11 13 27]\n",
      " [17 39  9 86]]\n",
      "Best Valid Confusion Matrix:[\"ang\",\"sad\",\"hap\",\"neu\"]\n",
      "[[ 18   0   0   0]\n",
      " [  2  58   7   6]\n",
      " [  9   7  12  28]\n",
      " [ 15  21  13 102]]\n",
      "*****************************************************************\n"
     ]
    },
    {
     "name": "stderr",
     "output_type": "stream",
     "text": [
      "c:\\Users\\tejas\\AppData\\Local\\Programs\\Python\\Python310\\lib\\site-packages\\torch\\nn\\functional.py:1538: UserWarning: dropout2d: Received a 2-D input to dropout2d, which is deprecated and will result in an error in a future release. To retain the behavior and silence this warning, please use dropout instead. Note that dropout2d exists to provide channel-wise dropout on inputs with 2 spatial dimensions, a channel dimension, and an optional batch dimension (i.e. 3D or 4D inputs).\n",
      "  warnings.warn(warn_msg)\n"
     ]
    },
    {
     "name": "stdout",
     "output_type": "stream",
     "text": [
      "*****************************************************************\n",
      "Epoch: 00126\n",
      "Valid cost: 0.0185\n",
      "Valid_UA: 0.6146\n",
      "Best valid_UA: 0.6711\n",
      "Valid Confusion Matrix:[\"ang\",\"sad\",\"hap\",\"neu\"]\n",
      "[[ 17   0   0   1]\n",
      " [  0  49   6  18]\n",
      " [  7  10   9  30]\n",
      " [ 19  21   8 103]]\n",
      "Best Valid Confusion Matrix:[\"ang\",\"sad\",\"hap\",\"neu\"]\n",
      "[[ 18   0   0   0]\n",
      " [  2  58   7   6]\n",
      " [  9   7  12  28]\n",
      " [ 15  21  13 102]]\n",
      "*****************************************************************\n"
     ]
    },
    {
     "name": "stderr",
     "output_type": "stream",
     "text": [
      "c:\\Users\\tejas\\AppData\\Local\\Programs\\Python\\Python310\\lib\\site-packages\\torch\\nn\\functional.py:1538: UserWarning: dropout2d: Received a 2-D input to dropout2d, which is deprecated and will result in an error in a future release. To retain the behavior and silence this warning, please use dropout instead. Note that dropout2d exists to provide channel-wise dropout on inputs with 2 spatial dimensions, a channel dimension, and an optional batch dimension (i.e. 3D or 4D inputs).\n",
      "  warnings.warn(warn_msg)\n"
     ]
    },
    {
     "name": "stdout",
     "output_type": "stream",
     "text": [
      "*****************************************************************\n",
      "Epoch: 00127\n",
      "Valid cost: 0.0196\n",
      "Valid_UA: 0.575\n",
      "Best valid_UA: 0.6711\n",
      "Valid Confusion Matrix:[\"ang\",\"sad\",\"hap\",\"neu\"]\n",
      "[[17  0  1  0]\n",
      " [ 1 59  8  5]\n",
      " [11 12 11 22]\n",
      " [31 54 13 53]]\n",
      "Best Valid Confusion Matrix:[\"ang\",\"sad\",\"hap\",\"neu\"]\n",
      "[[ 18   0   0   0]\n",
      " [  2  58   7   6]\n",
      " [  9   7  12  28]\n",
      " [ 15  21  13 102]]\n",
      "*****************************************************************\n"
     ]
    },
    {
     "name": "stderr",
     "output_type": "stream",
     "text": [
      "c:\\Users\\tejas\\AppData\\Local\\Programs\\Python\\Python310\\lib\\site-packages\\torch\\nn\\functional.py:1538: UserWarning: dropout2d: Received a 2-D input to dropout2d, which is deprecated and will result in an error in a future release. To retain the behavior and silence this warning, please use dropout instead. Note that dropout2d exists to provide channel-wise dropout on inputs with 2 spatial dimensions, a channel dimension, and an optional batch dimension (i.e. 3D or 4D inputs).\n",
      "  warnings.warn(warn_msg)\n"
     ]
    },
    {
     "name": "stdout",
     "output_type": "stream",
     "text": [
      "*****************************************************************\n",
      "Epoch: 00128\n",
      "Valid cost: 0.0191\n",
      "Valid_UA: 0.5932\n",
      "Best valid_UA: 0.6711\n",
      "Valid Confusion Matrix:[\"ang\",\"sad\",\"hap\",\"neu\"]\n",
      "[[14  0  4  0]\n",
      " [ 0 57 12  4]\n",
      " [ 6 11 20 19]\n",
      " [19 40 23 69]]\n",
      "Best Valid Confusion Matrix:[\"ang\",\"sad\",\"hap\",\"neu\"]\n",
      "[[ 18   0   0   0]\n",
      " [  2  58   7   6]\n",
      " [  9   7  12  28]\n",
      " [ 15  21  13 102]]\n",
      "*****************************************************************\n"
     ]
    },
    {
     "name": "stderr",
     "output_type": "stream",
     "text": [
      "c:\\Users\\tejas\\AppData\\Local\\Programs\\Python\\Python310\\lib\\site-packages\\torch\\nn\\functional.py:1538: UserWarning: dropout2d: Received a 2-D input to dropout2d, which is deprecated and will result in an error in a future release. To retain the behavior and silence this warning, please use dropout instead. Note that dropout2d exists to provide channel-wise dropout on inputs with 2 spatial dimensions, a channel dimension, and an optional batch dimension (i.e. 3D or 4D inputs).\n",
      "  warnings.warn(warn_msg)\n"
     ]
    },
    {
     "name": "stdout",
     "output_type": "stream",
     "text": [
      "*****************************************************************\n",
      "Epoch: 00129\n",
      "Valid cost: 0.0183\n",
      "Valid_UA: 0.6066\n",
      "Best valid_UA: 0.6711\n",
      "Valid Confusion Matrix:[\"ang\",\"sad\",\"hap\",\"neu\"]\n",
      "[[14  0  1  3]\n",
      " [ 0 57 10  6]\n",
      " [ 2 11 13 30]\n",
      " [11 34 10 96]]\n",
      "Best Valid Confusion Matrix:[\"ang\",\"sad\",\"hap\",\"neu\"]\n",
      "[[ 18   0   0   0]\n",
      " [  2  58   7   6]\n",
      " [  9   7  12  28]\n",
      " [ 15  21  13 102]]\n",
      "*****************************************************************\n"
     ]
    },
    {
     "name": "stderr",
     "output_type": "stream",
     "text": [
      "c:\\Users\\tejas\\AppData\\Local\\Programs\\Python\\Python310\\lib\\site-packages\\torch\\nn\\functional.py:1538: UserWarning: dropout2d: Received a 2-D input to dropout2d, which is deprecated and will result in an error in a future release. To retain the behavior and silence this warning, please use dropout instead. Note that dropout2d exists to provide channel-wise dropout on inputs with 2 spatial dimensions, a channel dimension, and an optional batch dimension (i.e. 3D or 4D inputs).\n",
      "  warnings.warn(warn_msg)\n"
     ]
    },
    {
     "name": "stdout",
     "output_type": "stream",
     "text": [
      "*****************************************************************\n",
      "Epoch: 00130\n",
      "Valid cost: 0.0185\n",
      "Valid_UA: 0.6008\n",
      "Best valid_UA: 0.6711\n",
      "Valid Confusion Matrix:[\"ang\",\"sad\",\"hap\",\"neu\"]\n",
      "[[13  0  4  1]\n",
      " [ 0 58 11  4]\n",
      " [ 4 10 17 25]\n",
      " [15 33 15 88]]\n",
      "Best Valid Confusion Matrix:[\"ang\",\"sad\",\"hap\",\"neu\"]\n",
      "[[ 18   0   0   0]\n",
      " [  2  58   7   6]\n",
      " [  9   7  12  28]\n",
      " [ 15  21  13 102]]\n",
      "*****************************************************************\n"
     ]
    },
    {
     "name": "stderr",
     "output_type": "stream",
     "text": [
      "c:\\Users\\tejas\\AppData\\Local\\Programs\\Python\\Python310\\lib\\site-packages\\torch\\nn\\functional.py:1538: UserWarning: dropout2d: Received a 2-D input to dropout2d, which is deprecated and will result in an error in a future release. To retain the behavior and silence this warning, please use dropout instead. Note that dropout2d exists to provide channel-wise dropout on inputs with 2 spatial dimensions, a channel dimension, and an optional batch dimension (i.e. 3D or 4D inputs).\n",
      "  warnings.warn(warn_msg)\n"
     ]
    },
    {
     "name": "stdout",
     "output_type": "stream",
     "text": [
      "*****************************************************************\n",
      "Epoch: 00131\n",
      "Valid cost: 0.0187\n",
      "Valid_UA: 0.6282\n",
      "Best valid_UA: 0.6711\n",
      "Valid Confusion Matrix:[\"ang\",\"sad\",\"hap\",\"neu\"]\n",
      "[[16  0  1  1]\n",
      " [ 0 59 10  4]\n",
      " [ 5 12 16 23]\n",
      " [16 39 16 80]]\n",
      "Best Valid Confusion Matrix:[\"ang\",\"sad\",\"hap\",\"neu\"]\n",
      "[[ 18   0   0   0]\n",
      " [  2  58   7   6]\n",
      " [  9   7  12  28]\n",
      " [ 15  21  13 102]]\n",
      "*****************************************************************\n"
     ]
    },
    {
     "name": "stderr",
     "output_type": "stream",
     "text": [
      "c:\\Users\\tejas\\AppData\\Local\\Programs\\Python\\Python310\\lib\\site-packages\\torch\\nn\\functional.py:1538: UserWarning: dropout2d: Received a 2-D input to dropout2d, which is deprecated and will result in an error in a future release. To retain the behavior and silence this warning, please use dropout instead. Note that dropout2d exists to provide channel-wise dropout on inputs with 2 spatial dimensions, a channel dimension, and an optional batch dimension (i.e. 3D or 4D inputs).\n",
      "  warnings.warn(warn_msg)\n"
     ]
    },
    {
     "name": "stdout",
     "output_type": "stream",
     "text": [
      "*****************************************************************\n",
      "Epoch: 00132\n",
      "Valid cost: 0.0182\n",
      "Valid_UA: 0.612\n",
      "Best valid_UA: 0.6711\n",
      "Valid Confusion Matrix:[\"ang\",\"sad\",\"hap\",\"neu\"]\n",
      "[[14  0  2  2]\n",
      " [ 1 61  6  5]\n",
      " [ 3 10 13 30]\n",
      " [12 38 10 91]]\n",
      "Best Valid Confusion Matrix:[\"ang\",\"sad\",\"hap\",\"neu\"]\n",
      "[[ 18   0   0   0]\n",
      " [  2  58   7   6]\n",
      " [  9   7  12  28]\n",
      " [ 15  21  13 102]]\n",
      "*****************************************************************\n"
     ]
    },
    {
     "name": "stderr",
     "output_type": "stream",
     "text": [
      "c:\\Users\\tejas\\AppData\\Local\\Programs\\Python\\Python310\\lib\\site-packages\\torch\\nn\\functional.py:1538: UserWarning: dropout2d: Received a 2-D input to dropout2d, which is deprecated and will result in an error in a future release. To retain the behavior and silence this warning, please use dropout instead. Note that dropout2d exists to provide channel-wise dropout on inputs with 2 spatial dimensions, a channel dimension, and an optional batch dimension (i.e. 3D or 4D inputs).\n",
      "  warnings.warn(warn_msg)\n"
     ]
    },
    {
     "name": "stdout",
     "output_type": "stream",
     "text": [
      "*****************************************************************\n",
      "Epoch: 00133\n",
      "Valid cost: 0.0188\n",
      "Valid_UA: 0.6208\n",
      "Best valid_UA: 0.6711\n",
      "Valid Confusion Matrix:[\"ang\",\"sad\",\"hap\",\"neu\"]\n",
      "[[16  0  1  1]\n",
      " [ 2 57 12  2]\n",
      " [ 5 10 17 24]\n",
      " [17 40 17 77]]\n",
      "Best Valid Confusion Matrix:[\"ang\",\"sad\",\"hap\",\"neu\"]\n",
      "[[ 18   0   0   0]\n",
      " [  2  58   7   6]\n",
      " [  9   7  12  28]\n",
      " [ 15  21  13 102]]\n",
      "*****************************************************************\n"
     ]
    },
    {
     "name": "stderr",
     "output_type": "stream",
     "text": [
      "c:\\Users\\tejas\\AppData\\Local\\Programs\\Python\\Python310\\lib\\site-packages\\torch\\nn\\functional.py:1538: UserWarning: dropout2d: Received a 2-D input to dropout2d, which is deprecated and will result in an error in a future release. To retain the behavior and silence this warning, please use dropout instead. Note that dropout2d exists to provide channel-wise dropout on inputs with 2 spatial dimensions, a channel dimension, and an optional batch dimension (i.e. 3D or 4D inputs).\n",
      "  warnings.warn(warn_msg)\n"
     ]
    },
    {
     "name": "stdout",
     "output_type": "stream",
     "text": [
      "*****************************************************************\n",
      "Epoch: 00134\n",
      "Valid cost: 0.0185\n",
      "Valid_UA: 0.6356\n",
      "Best valid_UA: 0.6711\n",
      "Valid Confusion Matrix:[\"ang\",\"sad\",\"hap\",\"neu\"]\n",
      "[[16  0  2  0]\n",
      " [ 2 56  8  7]\n",
      " [ 5 11 17 23]\n",
      " [15 35 13 88]]\n",
      "Best Valid Confusion Matrix:[\"ang\",\"sad\",\"hap\",\"neu\"]\n",
      "[[ 18   0   0   0]\n",
      " [  2  58   7   6]\n",
      " [  9   7  12  28]\n",
      " [ 15  21  13 102]]\n",
      "*****************************************************************\n"
     ]
    },
    {
     "name": "stderr",
     "output_type": "stream",
     "text": [
      "c:\\Users\\tejas\\AppData\\Local\\Programs\\Python\\Python310\\lib\\site-packages\\torch\\nn\\functional.py:1538: UserWarning: dropout2d: Received a 2-D input to dropout2d, which is deprecated and will result in an error in a future release. To retain the behavior and silence this warning, please use dropout instead. Note that dropout2d exists to provide channel-wise dropout on inputs with 2 spatial dimensions, a channel dimension, and an optional batch dimension (i.e. 3D or 4D inputs).\n",
      "  warnings.warn(warn_msg)\n"
     ]
    },
    {
     "name": "stdout",
     "output_type": "stream",
     "text": [
      "*****************************************************************\n",
      "Epoch: 00135\n",
      "Valid cost: 0.0182\n",
      "Valid_UA: 0.6371\n",
      "Best valid_UA: 0.6711\n",
      "Valid Confusion Matrix:[\"ang\",\"sad\",\"hap\",\"neu\"]\n",
      "[[ 15   0   2   1]\n",
      " [  2  56   8   7]\n",
      " [  5  11  16  24]\n",
      " [ 15  22  14 100]]\n",
      "Best Valid Confusion Matrix:[\"ang\",\"sad\",\"hap\",\"neu\"]\n",
      "[[ 18   0   0   0]\n",
      " [  2  58   7   6]\n",
      " [  9   7  12  28]\n",
      " [ 15  21  13 102]]\n",
      "*****************************************************************\n"
     ]
    },
    {
     "name": "stderr",
     "output_type": "stream",
     "text": [
      "c:\\Users\\tejas\\AppData\\Local\\Programs\\Python\\Python310\\lib\\site-packages\\torch\\nn\\functional.py:1538: UserWarning: dropout2d: Received a 2-D input to dropout2d, which is deprecated and will result in an error in a future release. To retain the behavior and silence this warning, please use dropout instead. Note that dropout2d exists to provide channel-wise dropout on inputs with 2 spatial dimensions, a channel dimension, and an optional batch dimension (i.e. 3D or 4D inputs).\n",
      "  warnings.warn(warn_msg)\n"
     ]
    },
    {
     "name": "stdout",
     "output_type": "stream",
     "text": [
      "*****************************************************************\n",
      "Epoch: 00136\n",
      "Valid cost: 0.0185\n",
      "Valid_UA: 0.6319\n",
      "Best valid_UA: 0.6711\n",
      "Valid Confusion Matrix:[\"ang\",\"sad\",\"hap\",\"neu\"]\n",
      "[[16  0  1  1]\n",
      " [ 1 58  9  5]\n",
      " [ 6 11 15 24]\n",
      " [16 32 16 87]]\n",
      "Best Valid Confusion Matrix:[\"ang\",\"sad\",\"hap\",\"neu\"]\n",
      "[[ 18   0   0   0]\n",
      " [  2  58   7   6]\n",
      " [  9   7  12  28]\n",
      " [ 15  21  13 102]]\n",
      "*****************************************************************\n"
     ]
    },
    {
     "name": "stderr",
     "output_type": "stream",
     "text": [
      "c:\\Users\\tejas\\AppData\\Local\\Programs\\Python\\Python310\\lib\\site-packages\\torch\\nn\\functional.py:1538: UserWarning: dropout2d: Received a 2-D input to dropout2d, which is deprecated and will result in an error in a future release. To retain the behavior and silence this warning, please use dropout instead. Note that dropout2d exists to provide channel-wise dropout on inputs with 2 spatial dimensions, a channel dimension, and an optional batch dimension (i.e. 3D or 4D inputs).\n",
      "  warnings.warn(warn_msg)\n"
     ]
    },
    {
     "name": "stdout",
     "output_type": "stream",
     "text": [
      "*****************************************************************\n",
      "Epoch: 00137\n",
      "Valid cost: 0.0189\n",
      "Valid_UA: 0.5803\n",
      "Best valid_UA: 0.6711\n",
      "Valid Confusion Matrix:[\"ang\",\"sad\",\"hap\",\"neu\"]\n",
      "[[14  0  2  2]\n",
      " [ 0 57 12  4]\n",
      " [ 5 13 16 22]\n",
      " [13 43 23 72]]\n",
      "Best Valid Confusion Matrix:[\"ang\",\"sad\",\"hap\",\"neu\"]\n",
      "[[ 18   0   0   0]\n",
      " [  2  58   7   6]\n",
      " [  9   7  12  28]\n",
      " [ 15  21  13 102]]\n",
      "*****************************************************************\n"
     ]
    },
    {
     "name": "stderr",
     "output_type": "stream",
     "text": [
      "c:\\Users\\tejas\\AppData\\Local\\Programs\\Python\\Python310\\lib\\site-packages\\torch\\nn\\functional.py:1538: UserWarning: dropout2d: Received a 2-D input to dropout2d, which is deprecated and will result in an error in a future release. To retain the behavior and silence this warning, please use dropout instead. Note that dropout2d exists to provide channel-wise dropout on inputs with 2 spatial dimensions, a channel dimension, and an optional batch dimension (i.e. 3D or 4D inputs).\n",
      "  warnings.warn(warn_msg)\n"
     ]
    },
    {
     "name": "stdout",
     "output_type": "stream",
     "text": [
      "*****************************************************************\n",
      "Epoch: 00138\n",
      "Valid cost: 0.0184\n",
      "Valid_UA: 0.6297\n",
      "Best valid_UA: 0.6711\n",
      "Valid Confusion Matrix:[\"ang\",\"sad\",\"hap\",\"neu\"]\n",
      "[[16  0  1  1]\n",
      " [ 2 54 12  5]\n",
      " [ 5 10 15 26]\n",
      " [18 25 14 94]]\n",
      "Best Valid Confusion Matrix:[\"ang\",\"sad\",\"hap\",\"neu\"]\n",
      "[[ 18   0   0   0]\n",
      " [  2  58   7   6]\n",
      " [  9   7  12  28]\n",
      " [ 15  21  13 102]]\n",
      "*****************************************************************\n"
     ]
    },
    {
     "name": "stderr",
     "output_type": "stream",
     "text": [
      "c:\\Users\\tejas\\AppData\\Local\\Programs\\Python\\Python310\\lib\\site-packages\\torch\\nn\\functional.py:1538: UserWarning: dropout2d: Received a 2-D input to dropout2d, which is deprecated and will result in an error in a future release. To retain the behavior and silence this warning, please use dropout instead. Note that dropout2d exists to provide channel-wise dropout on inputs with 2 spatial dimensions, a channel dimension, and an optional batch dimension (i.e. 3D or 4D inputs).\n",
      "  warnings.warn(warn_msg)\n"
     ]
    },
    {
     "name": "stdout",
     "output_type": "stream",
     "text": [
      "*****************************************************************\n",
      "Epoch: 00139\n",
      "Valid cost: 0.0186\n",
      "Valid_UA: 0.6134\n",
      "Best valid_UA: 0.6711\n",
      "Valid Confusion Matrix:[\"ang\",\"sad\",\"hap\",\"neu\"]\n",
      "[[15  0  1  2]\n",
      " [ 2 56 11  4]\n",
      " [ 5 10 17 24]\n",
      " [16 31 21 83]]\n",
      "Best Valid Confusion Matrix:[\"ang\",\"sad\",\"hap\",\"neu\"]\n",
      "[[ 18   0   0   0]\n",
      " [  2  58   7   6]\n",
      " [  9   7  12  28]\n",
      " [ 15  21  13 102]]\n",
      "*****************************************************************\n"
     ]
    },
    {
     "name": "stderr",
     "output_type": "stream",
     "text": [
      "c:\\Users\\tejas\\AppData\\Local\\Programs\\Python\\Python310\\lib\\site-packages\\torch\\nn\\functional.py:1538: UserWarning: dropout2d: Received a 2-D input to dropout2d, which is deprecated and will result in an error in a future release. To retain the behavior and silence this warning, please use dropout instead. Note that dropout2d exists to provide channel-wise dropout on inputs with 2 spatial dimensions, a channel dimension, and an optional batch dimension (i.e. 3D or 4D inputs).\n",
      "  warnings.warn(warn_msg)\n"
     ]
    },
    {
     "name": "stdout",
     "output_type": "stream",
     "text": [
      "*****************************************************************\n",
      "Epoch: 00140\n",
      "Valid cost: 0.0186\n",
      "Valid_UA: 0.6246\n",
      "Best valid_UA: 0.6711\n",
      "Valid Confusion Matrix:[\"ang\",\"sad\",\"hap\",\"neu\"]\n",
      "[[16  0  1  1]\n",
      " [ 1 57 10  5]\n",
      " [ 5 11 16 24]\n",
      " [15 32 22 82]]\n",
      "Best Valid Confusion Matrix:[\"ang\",\"sad\",\"hap\",\"neu\"]\n",
      "[[ 18   0   0   0]\n",
      " [  2  58   7   6]\n",
      " [  9   7  12  28]\n",
      " [ 15  21  13 102]]\n",
      "*****************************************************************\n"
     ]
    },
    {
     "name": "stderr",
     "output_type": "stream",
     "text": [
      "c:\\Users\\tejas\\AppData\\Local\\Programs\\Python\\Python310\\lib\\site-packages\\torch\\nn\\functional.py:1538: UserWarning: dropout2d: Received a 2-D input to dropout2d, which is deprecated and will result in an error in a future release. To retain the behavior and silence this warning, please use dropout instead. Note that dropout2d exists to provide channel-wise dropout on inputs with 2 spatial dimensions, a channel dimension, and an optional batch dimension (i.e. 3D or 4D inputs).\n",
      "  warnings.warn(warn_msg)\n"
     ]
    },
    {
     "name": "stdout",
     "output_type": "stream",
     "text": [
      "*****************************************************************\n",
      "Epoch: 00141\n",
      "Valid cost: 0.0184\n",
      "Valid_UA: 0.6185\n",
      "Best valid_UA: 0.6711\n",
      "Valid Confusion Matrix:[\"ang\",\"sad\",\"hap\",\"neu\"]\n",
      "[[14  0  2  2]\n",
      " [ 1 58  8  6]\n",
      " [ 4 11 16 25]\n",
      " [12 28 18 93]]\n",
      "Best Valid Confusion Matrix:[\"ang\",\"sad\",\"hap\",\"neu\"]\n",
      "[[ 18   0   0   0]\n",
      " [  2  58   7   6]\n",
      " [  9   7  12  28]\n",
      " [ 15  21  13 102]]\n",
      "*****************************************************************\n"
     ]
    },
    {
     "name": "stderr",
     "output_type": "stream",
     "text": [
      "c:\\Users\\tejas\\AppData\\Local\\Programs\\Python\\Python310\\lib\\site-packages\\torch\\nn\\functional.py:1538: UserWarning: dropout2d: Received a 2-D input to dropout2d, which is deprecated and will result in an error in a future release. To retain the behavior and silence this warning, please use dropout instead. Note that dropout2d exists to provide channel-wise dropout on inputs with 2 spatial dimensions, a channel dimension, and an optional batch dimension (i.e. 3D or 4D inputs).\n",
      "  warnings.warn(warn_msg)\n"
     ]
    },
    {
     "name": "stdout",
     "output_type": "stream",
     "text": [
      "*****************************************************************\n",
      "Epoch: 00142\n",
      "Valid cost: 0.0194\n",
      "Valid_UA: 0.5951\n",
      "Best valid_UA: 0.6711\n",
      "Valid Confusion Matrix:[\"ang\",\"sad\",\"hap\",\"neu\"]\n",
      "[[15  0  2  1]\n",
      " [ 2 58 11  2]\n",
      " [ 6 14 21 15]\n",
      " [20 45 29 57]]\n",
      "Best Valid Confusion Matrix:[\"ang\",\"sad\",\"hap\",\"neu\"]\n",
      "[[ 18   0   0   0]\n",
      " [  2  58   7   6]\n",
      " [  9   7  12  28]\n",
      " [ 15  21  13 102]]\n",
      "*****************************************************************\n"
     ]
    },
    {
     "name": "stderr",
     "output_type": "stream",
     "text": [
      "c:\\Users\\tejas\\AppData\\Local\\Programs\\Python\\Python310\\lib\\site-packages\\torch\\nn\\functional.py:1538: UserWarning: dropout2d: Received a 2-D input to dropout2d, which is deprecated and will result in an error in a future release. To retain the behavior and silence this warning, please use dropout instead. Note that dropout2d exists to provide channel-wise dropout on inputs with 2 spatial dimensions, a channel dimension, and an optional batch dimension (i.e. 3D or 4D inputs).\n",
      "  warnings.warn(warn_msg)\n"
     ]
    },
    {
     "name": "stdout",
     "output_type": "stream",
     "text": [
      "*****************************************************************\n",
      "Epoch: 00143\n",
      "Valid cost: 0.0184\n",
      "Valid_UA: 0.6454\n",
      "Best valid_UA: 0.6711\n",
      "Valid Confusion Matrix:[\"ang\",\"sad\",\"hap\",\"neu\"]\n",
      "[[17  0  1  0]\n",
      " [ 2 55  9  7]\n",
      " [ 6 11 15 24]\n",
      " [16 25 17 93]]\n",
      "Best Valid Confusion Matrix:[\"ang\",\"sad\",\"hap\",\"neu\"]\n",
      "[[ 18   0   0   0]\n",
      " [  2  58   7   6]\n",
      " [  9   7  12  28]\n",
      " [ 15  21  13 102]]\n",
      "*****************************************************************\n"
     ]
    },
    {
     "name": "stderr",
     "output_type": "stream",
     "text": [
      "c:\\Users\\tejas\\AppData\\Local\\Programs\\Python\\Python310\\lib\\site-packages\\torch\\nn\\functional.py:1538: UserWarning: dropout2d: Received a 2-D input to dropout2d, which is deprecated and will result in an error in a future release. To retain the behavior and silence this warning, please use dropout instead. Note that dropout2d exists to provide channel-wise dropout on inputs with 2 spatial dimensions, a channel dimension, and an optional batch dimension (i.e. 3D or 4D inputs).\n",
      "  warnings.warn(warn_msg)\n"
     ]
    }
   ],
   "source": [
    "train()"
   ]
  },
  {
   "cell_type": "code",
   "execution_count": null,
   "id": "734c0838",
   "metadata": {},
   "outputs": [],
   "source": []
  }
 ],
 "metadata": {
  "kernelspec": {
   "display_name": "Python 3",
   "language": "python",
   "name": "python3"
  },
  "language_info": {
   "codemirror_mode": {
    "name": "ipython",
    "version": 3
   },
   "file_extension": ".py",
   "mimetype": "text/x-python",
   "name": "python",
   "nbconvert_exporter": "python",
   "pygments_lexer": "ipython3",
   "version": "3.10.8"
  }
 },
 "nbformat": 4,
 "nbformat_minor": 5
}
