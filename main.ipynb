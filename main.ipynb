{
 "cells": [
  {
   "cell_type": "code",
   "execution_count": 1,
   "id": "8214d218",
   "metadata": {},
   "outputs": [
    {
     "name": "stderr",
     "output_type": "stream",
     "text": [
      "c:\\Users\\tejas\\AppData\\Local\\Programs\\Python\\Python310\\lib\\site-packages\\whisper\\__init__.py:150: FutureWarning: You are using `torch.load` with `weights_only=False` (the current default value), which uses the default pickle module implicitly. It is possible to construct malicious pickle data which will execute arbitrary code during unpickling (See https://github.com/pytorch/pytorch/blob/main/SECURITY.md#untrusted-models for more details). In a future release, the default value for `weights_only` will be flipped to `True`. This limits the functions that could be executed during unpickling. Arbitrary objects will no longer be allowed to be loaded via this mode unless they are explicitly allowlisted by the user via `torch.serialization.add_safe_globals`. We recommend you start setting `weights_only=True` for any use case where you don't have full control of the loaded file. Please open an issue on GitHub for any issues related to this experimental feature.\n",
      "  checkpoint = torch.load(fp, map_location=device)\n"
     ]
    },
    {
     "name": "stdout",
     "output_type": "stream",
     "text": [
      "ESR Loaded model from ./ESR/result/random_forest_model.joblib\n"
     ]
    },
    {
     "name": "stderr",
     "output_type": "stream",
     "text": [
      "c:\\Users\\tejas\\AppData\\Local\\Programs\\Python\\Python310\\lib\\site-packages\\transformers\\models\\marian\\tokenization_marian.py:175: UserWarning: Recommended: pip install sacremoses.\n",
      "  warnings.warn(\"Recommended: pip install sacremoses.\")\n"
     ]
    },
    {
     "name": "stdout",
     "output_type": "stream",
     "text": [
      "Model loaded on cuda\n"
     ]
    }
   ],
   "source": [
    "from ASR.models.asr_model import HindiASRModel\n",
    "from transformers import MarianMTModel, MarianTokenizer\n",
    "import torch\n",
    "import numpy as np\n",
    "import joblib\n",
    "import soundfile\n",
    "import numpy as np\n",
    "import librosa\n",
    "import os\n",
    "from sklearn.model_selection import train_test_split\n",
    "import glob\n",
    "from inference import infer"
   ]
  },
  {
   "cell_type": "markdown",
   "id": "462bc9ad",
   "metadata": {},
   "source": [
    "### Loading all the models"
   ]
  },
  {
   "cell_type": "code",
   "execution_count": 2,
   "id": "60a9cd22",
   "metadata": {},
   "outputs": [
    {
     "name": "stdout",
     "output_type": "stream",
     "text": [
      "ESR Loaded model from ./ESR/result/random_forest_model.joblib\n",
      "Model loaded on cuda\n"
     ]
    }
   ],
   "source": [
    "asr = HindiASRModel(model_size=\"medium\")\n",
    "\n",
    "int2emotion_new = {\n",
    "    \"anger\": \"angry\",\n",
    "    \"sad\": \"sad\",\n",
    "    \"happy\": \"happy\",\n",
    "    \"neutral\": \"calm\"\n",
    "}\n",
    "\n",
    "# we allow only these four emotions\n",
    "AVAILABLE_EMOTIONS_NEW = set(int2emotion_new.values())\n",
    "\n",
    "def extract_feature(file_name, **kwargs):\n",
    "    \"\"\"\n",
    "    Extract feature from audio file `file_name`\n",
    "    Features supported:\n",
    "        - MFCC (mfcc)\n",
    "        - Chroma (chroma)\n",
    "        - MEL Spectrogram Frequency (mel)\n",
    "        - Contrast (contrast)\n",
    "        - Tonnetz (tonnetz)\n",
    "    e.g:\n",
    "    `features = extract_feature(path, mel=True, mfcc=True)`\n",
    "    \"\"\"\n",
    "    mfcc = kwargs.get(\"mfcc\")\n",
    "    chroma = kwargs.get(\"chroma\")\n",
    "    mel = kwargs.get(\"mel\")\n",
    "    contrast = kwargs.get(\"contrast\")\n",
    "    tonnetz = kwargs.get(\"tonnetz\")\n",
    "    \n",
    "    with soundfile.SoundFile(file_name) as sound_file:\n",
    "        X = sound_file.read(dtype=\"float32\")\n",
    "        sample_rate = sound_file.samplerate\n",
    "        \n",
    "        if chroma or contrast:\n",
    "            stft = np.abs(librosa.stft(X))\n",
    "            \n",
    "        result = np.array([])\n",
    "        \n",
    "        if mfcc:\n",
    "            mfccs = np.mean(librosa.feature.mfcc(y=X, sr=sample_rate, n_mfcc=40).T, axis=0)\n",
    "            chroma = np.mean(librosa.feature.chroma_stft(S=stft, sr=sample_rate).T, axis=0)\n",
    "            result = np.hstack((result, chroma))\n",
    "            \n",
    "        if mel:\n",
    "            mel = np.mean(librosa.feature.melspectrogram(y=X, sr=sample_rate).T, axis=0)\n",
    "            result = np.hstack((result, mel))\n",
    "            \n",
    "        if contrast:\n",
    "            contrast = np.mean(librosa.feature.spectral_contrast(S=stft, sr=sample_rate).T, axis=0)\n",
    "            result = np.hstack((result, contrast))\n",
    "            \n",
    "        if tonnetz:\n",
    "            tonnetz = np.mean(librosa.feature.tonnetz(y=librosa.effects.harmonic(X), sr=sample_rate).T, axis=0)\n",
    "            result = np.hstack((result, tonnetz))\n",
    "            \n",
    "    return result\n",
    "\n",
    "\n",
    "model_filename = \"./ESR/result/random_forest_model.joblib\" # achieved around 0.75 accuracy with high precision and recall for this model\n",
    "loaded_classifier = joblib.load(model_filename)\n",
    "print(f\"ESR Loaded model from {model_filename}\")\n",
    "\n",
    "\n",
    "model_name = \"Helsinki-NLP/opus-mt-hi-en\"\n",
    "tokenizer = MarianTokenizer.from_pretrained(model_name)\n",
    "model = MarianMTModel.from_pretrained(model_name)\n",
    "device = \"cuda\" if torch.cuda.is_available() else \"cpu\"\n",
    "model = model.to(device)\n",
    "\n",
    "print(f\"Model loaded on {device}\")\n",
    "\n",
    "\n",
    "def translate_hindi_to_english(text):\n",
    "    \"\"\"\n",
    "    Translate Hindi text to English using the pretrained model\n",
    "    \n",
    "    Args:\n",
    "        text (str): Hindi text to be translated\n",
    "        \n",
    "    Returns:\n",
    "        str: Translated English text\n",
    "    \"\"\"\n",
    "    inputs = tokenizer(text, return_tensors=\"pt\", padding=True, truncation=True).to(device)\n",
    "    with torch.no_grad():\n",
    "        outputs = model.generate(**inputs)\n",
    "    \n",
    "    translated_text = tokenizer.batch_decode(outputs, skip_special_tokens=True)    \n",
    "    return translated_text[0]"
   ]
  },
  {
   "cell_type": "markdown",
   "id": "5a22d630",
   "metadata": {},
   "source": [
    "### Sample Inference"
   ]
  },
  {
   "cell_type": "code",
   "execution_count": 3,
   "id": "89d10add",
   "metadata": {},
   "outputs": [
    {
     "name": "stdout",
     "output_type": "stream",
     "text": [
      "Performing Inference on  ./sample_audio/5.3.sad-06.wav\n",
      "ASR output (Hindi text) :   मैंने ये पाट पूरा नहीं पढ़ा है।\n",
      "Emotion Predicted : sad\n",
      "English Translation :  I haven't read that piece.\n"
     ]
    }
   ],
   "source": [
    "# path of audio \n",
    "sample_audio_path = \"./sample_audio/5.3.sad-06.wav\"\n",
    "print(\"Performing Inference on \",sample_audio_path)\n",
    "\n",
    "# ASR\n",
    "hindi_text = asr.transcribe(sample_audio_path)\n",
    "print(\"ASR output (Hindi text) : \",hindi_text)\n",
    "\n",
    "# ESR\n",
    "X = []\n",
    "features = extract_feature(sample_audio_path, mfcc=True, chroma=True, mel=True)\n",
    "X.append(features)\n",
    "loaded_prediction = loaded_classifier.predict(X)\n",
    "print(\"Emotion Predicted :\", loaded_prediction[0])\n",
    "\n",
    "# MT\n",
    "english_translation = translate_hindi_to_english(hindi_text)\n",
    "print(\"English Translation : \",english_translation)"
   ]
  },
  {
   "cell_type": "code",
   "execution_count": 11,
   "id": "866a8e7f",
   "metadata": {},
   "outputs": [
    {
     "name": "stdout",
     "output_type": "stream",
     "text": [
      "Performing Inference on  ./sample_audio/5.3.happy-06.wav\n",
      "Hindi text :   मैंने ये पाट पूरा नहीं पढ़ा है।\n",
      "Emotion Predicted : happy\n",
      "English Translation :  I haven't read that piece.\n"
     ]
    }
   ],
   "source": [
    "sample_audio_path = \"./sample_audio/5.3.happy-06.wav\"\n",
    "print(\"Performing Inference on \",sample_audio_path)\n",
    "infer(sample_audio_path)\n"
   ]
  },
  {
   "cell_type": "code",
   "execution_count": 5,
   "id": "09ea614a",
   "metadata": {},
   "outputs": [
    {
     "name": "stdout",
     "output_type": "stream",
     "text": [
      "Performing Inference on  ./sample_audio/6.4.neutral-03.wav\n",
      "Hindi text :   मुझे अच्छे अंक लाने हैं\n",
      "Emotion Predicted : calm\n",
      "English Translation :  Let me bring a good score.\n"
     ]
    }
   ],
   "source": [
    "sample_audio_path = \"./sample_audio/6.4.neutral-03.wav\"\n",
    "print(\"Performing Inference on \",sample_audio_path)\n",
    "infer(sample_audio_path)"
   ]
  },
  {
   "cell_type": "code",
   "execution_count": 14,
   "id": "5597b3f5",
   "metadata": {},
   "outputs": [
    {
     "name": "stdout",
     "output_type": "stream",
     "text": [
      "Performing Inference on  ./sample_audio/4.5.anger-07.wav\n",
      "Hindi text :   अच्छा विद्यार्थी अहंकार से दूर रहता हैं।\n",
      "Emotion Predicted : angry\n",
      "English Translation :  Good students are far from pride.\n"
     ]
    }
   ],
   "source": [
    "sample_audio_path = \"./sample_audio/4.5.anger-07.wav\"\n",
    "print(\"Performing Inference on \",sample_audio_path)\n",
    "infer(sample_audio_path)"
   ]
  },
  {
   "cell_type": "code",
   "execution_count": null,
   "id": "2951a58e",
   "metadata": {},
   "outputs": [],
   "source": []
  }
 ],
 "metadata": {
  "kernelspec": {
   "display_name": "Python 3",
   "language": "python",
   "name": "python3"
  },
  "language_info": {
   "codemirror_mode": {
    "name": "ipython",
    "version": 3
   },
   "file_extension": ".py",
   "mimetype": "text/x-python",
   "name": "python",
   "nbconvert_exporter": "python",
   "pygments_lexer": "ipython3",
   "version": "3.10.8"
  }
 },
 "nbformat": 4,
 "nbformat_minor": 5
}
