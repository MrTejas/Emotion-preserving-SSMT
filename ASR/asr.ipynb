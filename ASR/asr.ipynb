{
 "cells": [
  {
   "cell_type": "code",
   "execution_count": 1,
   "id": "5aeaf84a",
   "metadata": {},
   "outputs": [
    {
     "name": "stdout",
     "output_type": "stream",
     "text": [
      "Collecting git+https://github.com/openai/whisper.git\n",
      "  Cloning https://github.com/openai/whisper.git to c:\\users\\tejas\\appdata\\local\\temp\\pip-req-build-anlq6_8h\n",
      "  Resolved https://github.com/openai/whisper.git to commit 517a43ecd132a2089d85f4ebc044728a71d49f6e\n",
      "  Installing build dependencies: started\n",
      "  Installing build dependencies: finished with status 'done'\n",
      "  Getting requirements to build wheel: started\n",
      "  Getting requirements to build wheel: finished with status 'done'\n",
      "  Preparing metadata (pyproject.toml): started\n",
      "  Preparing metadata (pyproject.toml): finished with status 'done'\n",
      "Requirement already satisfied: more-itertools in c:\\users\\tejas\\appdata\\local\\programs\\python\\python310\\lib\\site-packages (from openai-whisper==20240930) (10.6.0)\n",
      "Requirement already satisfied: numba in c:\\users\\tejas\\appdata\\local\\programs\\python\\python310\\lib\\site-packages (from openai-whisper==20240930) (0.60.0)\n",
      "Requirement already satisfied: numpy in c:\\users\\tejas\\appdata\\local\\programs\\python\\python310\\lib\\site-packages (from openai-whisper==20240930) (1.26.4)\n",
      "Requirement already satisfied: tiktoken in c:\\users\\tejas\\appdata\\local\\programs\\python\\python310\\lib\\site-packages (from openai-whisper==20240930) (0.9.0)\n",
      "Requirement already satisfied: torch in c:\\users\\tejas\\appdata\\local\\programs\\python\\python310\\lib\\site-packages (from openai-whisper==20240930) (2.5.1+cu118)\n",
      "Requirement already satisfied: tqdm in c:\\users\\tejas\\appdata\\local\\programs\\python\\python310\\lib\\site-packages (from openai-whisper==20240930) (4.67.0)\n",
      "Requirement already satisfied: llvmlite<0.44,>=0.43.0dev0 in c:\\users\\tejas\\appdata\\local\\programs\\python\\python310\\lib\\site-packages (from numba->openai-whisper==20240930) (0.43.0)\n",
      "Requirement already satisfied: regex>=2022.1.18 in c:\\users\\tejas\\appdata\\local\\programs\\python\\python310\\lib\\site-packages (from tiktoken->openai-whisper==20240930) (2024.11.6)\n",
      "Requirement already satisfied: requests>=2.26.0 in c:\\users\\tejas\\appdata\\local\\programs\\python\\python310\\lib\\site-packages (from tiktoken->openai-whisper==20240930) (2.32.3)\n",
      "Requirement already satisfied: filelock in c:\\users\\tejas\\appdata\\local\\programs\\python\\python310\\lib\\site-packages (from torch->openai-whisper==20240930) (3.13.1)\n",
      "Requirement already satisfied: typing-extensions>=4.8.0 in c:\\users\\tejas\\appdata\\roaming\\python\\python310\\site-packages (from torch->openai-whisper==20240930) (4.12.2)\n",
      "Requirement already satisfied: networkx in c:\\users\\tejas\\appdata\\local\\programs\\python\\python310\\lib\\site-packages (from torch->openai-whisper==20240930) (2.8.8)\n",
      "Requirement already satisfied: jinja2 in c:\\users\\tejas\\appdata\\local\\programs\\python\\python310\\lib\\site-packages (from torch->openai-whisper==20240930) (3.1.3)\n",
      "Requirement already satisfied: fsspec in c:\\users\\tejas\\appdata\\local\\programs\\python\\python310\\lib\\site-packages (from torch->openai-whisper==20240930) (2024.2.0)\n",
      "Requirement already satisfied: sympy==1.13.1 in c:\\users\\tejas\\appdata\\local\\programs\\python\\python310\\lib\\site-packages (from torch->openai-whisper==20240930) (1.13.1)\n",
      "Requirement already satisfied: mpmath<1.4,>=1.1.0 in c:\\users\\tejas\\appdata\\local\\programs\\python\\python310\\lib\\site-packages (from sympy==1.13.1->torch->openai-whisper==20240930) (1.3.0)\n",
      "Requirement already satisfied: colorama in c:\\users\\tejas\\appdata\\roaming\\python\\python310\\site-packages (from tqdm->openai-whisper==20240930) (0.4.6)\n",
      "Requirement already satisfied: charset-normalizer<4,>=2 in c:\\users\\tejas\\appdata\\local\\programs\\python\\python310\\lib\\site-packages (from requests>=2.26.0->tiktoken->openai-whisper==20240930) (3.4.0)\n",
      "Requirement already satisfied: idna<4,>=2.5 in c:\\users\\tejas\\appdata\\local\\programs\\python\\python310\\lib\\site-packages (from requests>=2.26.0->tiktoken->openai-whisper==20240930) (3.10)\n",
      "Requirement already satisfied: urllib3<3,>=1.21.1 in c:\\users\\tejas\\appdata\\local\\programs\\python\\python310\\lib\\site-packages (from requests>=2.26.0->tiktoken->openai-whisper==20240930) (2.2.3)\n",
      "Requirement already satisfied: certifi>=2017.4.17 in c:\\users\\tejas\\appdata\\local\\programs\\python\\python310\\lib\\site-packages (from requests>=2.26.0->tiktoken->openai-whisper==20240930) (2024.8.30)\n",
      "Requirement already satisfied: MarkupSafe>=2.0 in c:\\users\\tejas\\appdata\\local\\programs\\python\\python310\\lib\\site-packages (from jinja2->torch->openai-whisper==20240930) (2.1.5)\n"
     ]
    },
    {
     "name": "stderr",
     "output_type": "stream",
     "text": [
      "  Running command git clone --filter=blob:none --quiet https://github.com/openai/whisper.git 'C:\\Users\\tejas\\AppData\\Local\\Temp\\pip-req-build-anlq6_8h'\n",
      "\n",
      "[notice] A new release of pip is available: 24.3.1 -> 25.1\n",
      "[notice] To update, run: python.exe -m pip install --upgrade pip\n"
     ]
    },
    {
     "name": "stdout",
     "output_type": "stream",
     "text": [
      "Requirement already satisfied: jiwer in c:\\users\\tejas\\appdata\\local\\programs\\python\\python310\\lib\\site-packages (3.1.0)\n",
      "Requirement already satisfied: click>=8.1.8 in c:\\users\\tejas\\appdata\\local\\programs\\python\\python310\\lib\\site-packages (from jiwer) (8.1.8)\n",
      "Requirement already satisfied: rapidfuzz>=3.9.7 in c:\\users\\tejas\\appdata\\local\\programs\\python\\python310\\lib\\site-packages (from jiwer) (3.12.2)\n",
      "Requirement already satisfied: colorama in c:\\users\\tejas\\appdata\\roaming\\python\\python310\\site-packages (from click>=8.1.8->jiwer) (0.4.6)\n"
     ]
    },
    {
     "name": "stderr",
     "output_type": "stream",
     "text": [
      "\n",
      "[notice] A new release of pip is available: 24.3.1 -> 25.1\n",
      "[notice] To update, run: python.exe -m pip install --upgrade pip\n"
     ]
    }
   ],
   "source": [
    "!pip install git+https://github.com/openai/whisper.git\n",
    "!pip install jiwer\n"
   ]
  },
  {
   "cell_type": "code",
   "execution_count": 2,
   "id": "630ee0f9",
   "metadata": {},
   "outputs": [],
   "source": [
    "import os\n",
    "import random\n",
    "from models.asr_model import HindiASRModel\n",
    "from utils.metrics import compute_metrics\n",
    "from utils.inference import infer_and_display"
   ]
  },
  {
   "cell_type": "code",
   "execution_count": 3,
   "id": "2425fd5b",
   "metadata": {},
   "outputs": [],
   "source": [
    "\n",
    "# # Cell 3: Initialize ASR model\n",
    "# asr = HindiASRModel(model_size=\"small\")\n",
    "\n",
    "# # Cell 4: Transcribe a test file\n",
    "# # Place .wav files in the `audio/` folder.\n",
    "# audio_file = \"audio/test1.wav\"\n",
    "# prediction = asr.transcribe(audio_file)\n",
    "# print(\"Prediction:\", prediction)\n",
    "\n",
    "# # Cell 5: Evaluate on a small dataset\n",
    "# test_files = {\n",
    "#     \"audio/test1.wav\": \"भारत एक महान देश है\",\n",
    "#     \"audio/test2.wav\": \"मौसम आज बहुत अच्छा है\",\n",
    "# }\n",
    "\n",
    "# preds, refs = [], []\n",
    "# for path, ref in test_files.items():\n",
    "#     pred = asr.transcribe(path)\n",
    "#     preds.append(pred)\n",
    "#     refs.append(ref)\n",
    "#     print(f\"\\nFile: {path}\")\n",
    "#     print(\"Prediction:\", pred)\n",
    "#     print(\"Reference :\", ref)\n",
    "\n",
    "# metrics = compute_metrics(preds, refs)\n",
    "# print(\"\\n📊 Evaluation Metrics:\")\n",
    "# for k, v in metrics.items():\n",
    "#     print(f\"{k}: {v}%\")\n",
    "\n",
    "# # Cell 6: Inference function usage\n",
    "# # This can be used interactively\n",
    "# infer_and_display(asr, \"audio/test1.wav\")\n"
   ]
  },
  {
   "cell_type": "code",
   "execution_count": 9,
   "id": "b64a589f",
   "metadata": {},
   "outputs": [],
   "source": [
    "asr = HindiASRModel(model_size=\"medium\")"
   ]
  },
  {
   "cell_type": "code",
   "execution_count": 10,
   "id": "3040738d",
   "metadata": {},
   "outputs": [],
   "source": [
    "# Load test data and choose fraction\n",
    "def load_transcriptions(transcription_file: str, fraction: float = 1.0):\n",
    "    with open(transcription_file, \"r\", encoding=\"utf-8\") as f:\n",
    "        lines = f.readlines()\n",
    "\n",
    "    data = []\n",
    "    for line in lines:\n",
    "        if line.strip():\n",
    "            parts = line.strip().split(\" \", 1)\n",
    "            if len(parts) == 2:\n",
    "                file_id, transcription = parts\n",
    "                audio_path = os.path.join(\"test/audio\", f\"{file_id}.wav\")\n",
    "                if os.path.exists(audio_path):\n",
    "                    data.append((audio_path, transcription))\n",
    "\n",
    "    random.shuffle(data)\n",
    "    num_samples = int(len(data) * fraction)\n",
    "    return data[:num_samples], len(data)\n"
   ]
  },
  {
   "cell_type": "code",
   "execution_count": 11,
   "id": "3819cb6e",
   "metadata": {},
   "outputs": [
    {
     "name": "stdout",
     "output_type": "stream",
     "text": [
      "\n",
      "File: 4782_029.wav\n",
      "Prediction:  उनोनी सारी भईयों को समेट कर एक गथर बनाया और\n",
      "Reference : उन्होंनें सारी बहियों को समेट कर एक गट्ठर बनाया और\n",
      "\n",
      "File: 1155_028.wav\n",
      "Prediction:  अपनों के पत्ते कुछ उड़गए तुफान में बिना परो के आसमान दे गया मुझे जाए।\n",
      "Reference : सपनों के पत्ते कुछ उड़ गए तूफ़ान में बिना परों के आसमान दे गया मुझे\n",
      "\n",
      "File: 1536_087.wav\n",
      "Prediction:  अध्या जिछिल्ला हैं जिल्ली करो जिसा मेंने का वैसा करों\n",
      "Reference : दादाजी चिल्लाए जल्दी करो जैसा मैंने कहा वैसा करो\n",
      "\n",
      "File: 0879_003.wav\n",
      "Prediction:  ताकि भगवान का दिया तोपा परसा जल सही तरीके से अमारे काम आ सके।\n",
      "Reference : ताकि भगवान का दिया तोहफा वर्षा जल सही तरीके से हमारे काम आ सके\n",
      "\n",
      "File: 0308_025.wav\n",
      "Prediction:  तनी कह रही तीट की बरब से दके होई पेड पोड़े बढे ही सुन्दर दिखते हैं।\n",
      "Reference : रजनी कह रही थी कि बर्फ़ से ढके हुए पेड़पौधे बड़े ही सुन्दर दिखते हैं\n",
      "\n",
      "File: 4792_088.wav\n",
      "Prediction:  जिस परे कलुशिक्त हर्दियों में कहीं कहीं धर्म का दुन्ला बकाज रहता है\n",
      "Reference : जिस तरह कलुषित हृदयों में कहींकहीं धर्म का धुँधला प्रकाश रहता है\n",
      "\n",
      "File: 2957_020.wav\n",
      "Prediction:  उसके लिए देट गण्टे तक रोने के बा शुया था।\n",
      "Reference : उसके लिए डेढ़ घंटे तक रोने के बाद सोया था\n",
      "\n",
      "File: 1064_089.wav\n",
      "Prediction:  साज को बताने मारने और रोब धारने के अलावा कोई काम नहीं\n",
      "Reference : सास को बस ताने मारने और रौब झाड़ने के अलावा कोई काम नहीं\n",
      "\n",
      "File: 0575_098.wav\n",
      "Prediction:  यश्टरज जब आस्मान के बादल गरजते हैं तो खुछ चोटे बच्चें पर लिए प्राज़े हैं।\n",
      "Reference : और इस तरह जब आसमान के बादल गरजते हैं तो कुछ छोटे बच्चे\n",
      "\n",
      "File: 4146_089.wav\n",
      "Prediction:  वो इतना ही उचा उड़पाता जिपना कि एक मुर्गी उड़ती है।\n",
      "Reference : वो इतना ही ऊँचा उड़ पाता जितना की एक मुर्गी उड़ती है\n",
      "\n",
      "File: 4205_066.wav\n",
      "Prediction:  जवाब दे और समस्यां से इस किसान के तहरा ही बार निकल जाएं।\n",
      "Reference : सूझबूझ से इन्हें जवाब दें और समस्या से इस किसान की तरह ही बाहर निकल जाएं\n",
      "\n",
      "File: 1168_003.wav\n",
      "Prediction:  गीता में स्रीक्ष्न जीक्ष्ण ने कहा कि उनकी माया को पार करना अत्यंद बुस्किल है।\n",
      "Reference : गीता में श्री कृष्ण जी ने कहा है की उनकी माया को पार करना अत्यंत मुश्किल है\n",
      "\n",
      "File: 2087_086.wav\n",
      "Prediction:  बतीजे को अपने गले का हार उतार कर देना चाहा रहे थे।\n",
      "Reference : भतीजे को अपने गले का हार उतार कर देना चाह रहे थे\n",
      "\n",
      "File: 3864_086.wav\n",
      "Prediction:  शिक और दुसे भारतिय प्रतिनी जी गंदी के साथ नहीं थे।\n",
      "Reference : सिख और दूसरे भारतीय प्रतिनिधि गांधी के साथ नहीं थे\n",
      "\n",
      "File: 5011_066.wav\n",
      "Prediction:  अमारी सुयोगवित्र ने अमारी उपर अनातों के साथ दगा करने का दोज लगया है।\n",
      "Reference : हमारे सुयोग मित्र ने हमारे ऊपर अनाथों के साथ दगा करने का दोष लगाया है\n",
      "\n",
      "File: 5771_008.wav\n",
      "Prediction:  या कि इस्ताशं तेशी जुमन सनागे नियागे यो अपना मिट्रो।\n",
      "Reference : यह फैसला सुनते ही जुम्मन सन्नाटे में आ गये जो अपना मित्र हो\n",
      "\n",
      "File: 5818_003.wav\n",
      "Prediction:  उदर अल्गु चोद्री ने सम्जने बुजने का काम अपने तरक पून सोटे से लिया।\n",
      "Reference : उधर अलगू चौधरी ने समझानेबुझाने का काम अपने तर्कपूर्ण सोंटे से लिया\n",
      "\n",
      "File: 4122_098.wav\n",
      "Prediction:  तुमें हार मान लेनी चाहिये पर वो मेंडक साहिद उनकी बार नहीं सुन पा रहा था\n",
      "Reference : तुम्हें हार मान लेनी चाहियें पर वो मेंढक शायद उनकी बात नहीं सुन पा रहा था\n",
      "\n",
      "File: 3415_098.wav\n",
      "Prediction:  सादवी तेरी प्राद्ना से भगवान ने संकटो में मेरी रक्सा की है\n",
      "Reference : साध्वी तेरी प्रार्थना से भगवान् ने संकटों में मेरी रक्षा की है\n",
      "\n",
      "File: 2867_029.wav\n",
      "Prediction:  और गुमया ही था कि राम्चंदर ने अंदर कडम रखा\n",
      "Reference : ओर घुमाया ही था कि रामचंद्र ने अंदर कदम रखा\n",
      "\n",
      "File: 0239_098.wav\n",
      "Prediction:  वहां अमा से बोला उस निले बक्से में क्या है जरा मुझे दिखाओ\n",
      "Reference : वह अम्मा से बोला उस नीले बक्से में क्या है ज़रा मुझे दिखाओ\n",
      "\n",
      "File: 0623_028.wav\n",
      "Prediction:  दोनों के बीज में लिक्ट्रोनो का आदान परदान हो जाता है।\n",
      "Reference : दोनों के बीच में इलेक्ट्रॉनों का आदानप्रदान हो जाता है\n",
      "\n",
      "File: 0879_089.wav\n",
      "Prediction:  साखी बगवान का दिया तौफा बर्षादल सही तरीके से हमारे काम आ सके\n",
      "Reference : ताकि भगवान का दिया तोहफा वर्षा जल सही तरीके से हमारे काम आ सके\n",
      "\n",
      "File: 1141_098.wav\n",
      "Prediction:  अगरस हर किसी के जीवन का हिस्छा होता हैं जिसे हमें अकेले ही पार कनना होता हैं\n",
      "Reference : संघर्ष हर किसी के जीवन का हिस्सा होता है जिसे हमें अकेले ही पार करना होता है\n",
      "\n",
      "File: 0426_098.wav\n",
      "Prediction:  उनोने एग मजबूद घड बनायता उसमें कुशी-कुशी रते थे।\n",
      "Reference : उन्होंने एक मज़बूत घर बनाया था और उसमें खुशीखुशी रहते थे\n",
      "\n",
      "File: 2415_098.wav\n",
      "Prediction:  उनकी कलपना तो राइ का परवत बना लेती हैं।\n",
      "Reference : उनकी कल्पना तो राई का पर्वत बना लेती हैं\n",
      "\n",
      "File: 1749_087.wav\n",
      "Prediction:  वे, पहले आने वाले मजूल जैसे नहीं! धख्तरन में, लेग्ट कुर्षी पर काम करने वाले लोक ते और ..\n",
      "Reference : वे पहले आने वाले मज़दूर जैसे नहीं दफ्तर में मेज़कुर्सी पर काम करनेवाले लोग थे और\n",
      "\n",
      "File: 5746_029.wav\n",
      "Prediction:  इसके अलावा हिब्भा नामे में मह वार कर्च का कोई जिक्र नें।\n",
      "Reference : इसके अलावा हिब्बानामे में माहवार खर्च का कोई जिक्र नहीं\n",
      "\n",
      "File: 0523_088.wav\n",
      "Prediction:  बादलो के गरजने का कारण नहीं तो खुम करन नहीं तो हवाई जाज हैं।\n",
      "Reference : बादलों के गरजने का कारण न तो कुंभकर्ण न तो हवाई जहाज़ है\n",
      "\n",
      "File: 0896_003.wav\n",
      "Prediction:  और सही मारक दर्सन करके एक बार फेसे जीवन सवरने की अमीद जगाने के लिये उनका धन्नेवाद किया।\n",
      "Reference : और सही मार्गदर्शन करके एक बार फिर से जीवन संवरने की उम्मीद जगाने के लिए उनका धन्यवाद किया\n",
      "\n",
      "File: 4117_003.wav\n",
      "Prediction:  गड़े में गिरे दोनो मेंडकों में से एक मेंडक ने उपर खड़े मेंडकों की बाद सुन ली।\n",
      "Reference : गड्ढे में गिरे दोनों मेढकों में से एक मेंढक ने ऊपर खड़े मेंढकों की बात सुन ली\n",
      "\n",
      "File: 2880_061.wav\n",
      "Prediction:  उसके कुछ उत्टाना देने पर ड़ गई ओ।\n",
      "Reference : लेकिन उसके कुछ उत्तर न देने पर डर गई और\n",
      "\n",
      "File: 1074_086.wav\n",
      "Prediction:  वहां बहुत दुकी हुई लेकिन उससे भी बड़े दुक की बात यह थी कि।\n",
      "Reference : वह बहुत दुखी हुई लेकिन उससे भी बड़े दुख की बात यह थी कि\n",
      "\n",
      "File: 0354_089.wav\n",
      "Prediction:  वह कहती है की यह साल का वह समे हैं, जब पकले पक जाती हैं और ...\n",
      "Reference : वह कहती है कि यह साल का वह समय है जब फसलें पक जाती हैं और\n",
      "\n",
      "File: 1162_086.wav\n",
      "Prediction:  योकि ये वे लोग है जो उसे उर्मेहनत करने के लिए रापता दिकाया था।\n",
      "Reference : यूंकि ये वही लोग हैं जो उसे और मेहनत करने के लिए रास्ता दिखाया\n",
      "\n",
      "File: 2227_003.wav\n",
      "Prediction:  लोग उसका मजा उडाते रहे हैं, कोई कवा बुलाता, कोई उसे कलूटी बुलाता, कोई कवा बुलाता\n",
      "Reference : लोग उसका मजाक उड़ाते रहे कोई कौवा बुलाता कोई उसे कलूटी बुलाता कोई तवा बुलाता\n",
      "\n",
      "File: 1139_029.wav\n",
      "Prediction:  जिन्दिगी बहुत ही असीन है लेकिन यह उत्नी आसान भी नहीं कोई तुम्ही यह नहीं बता सकता कि\n",
      "Reference : ज़िन्दगी बहुत ही हसीन है लेकिन यह उतनी आसान भी नहीं कोई तुम्हें यह नहीं बता सकता कि\n",
      "\n",
      "File: 4998_086.wav\n",
      "Prediction:  अपने क्रम्चारियों की सारी सम्पती पर कभ्जा कर लेना चाहिये।\n",
      "Reference : अपने कर्मचारियों की सारी सम्पत्ति पर कब्जा कर लेना चाहिए\n"
     ]
    }
   ],
   "source": [
    "# Evaluate model on custom dataset\n",
    "fraction_to_use = 0.01\n",
    "transcription_file = \"./test/transcription.txt\"\n",
    "samples, total_num_samples = load_transcriptions(transcription_file, fraction=fraction_to_use)\n",
    "\n",
    "preds, refs = [], []\n",
    "for audio_path, true_transcription in samples:\n",
    "    pred = asr.transcribe(audio_path)\n",
    "    preds.append(pred)\n",
    "    refs.append(true_transcription)\n",
    "\n",
    "    print(f\"\\nFile: {os.path.basename(audio_path)}\")\n",
    "    print(\"Prediction:\", pred)\n",
    "    print(\"Reference :\", true_transcription)\n"
   ]
  },
  {
   "cell_type": "code",
   "execution_count": 12,
   "id": "5f3cb4b1",
   "metadata": {},
   "outputs": [
    {
     "name": "stdout",
     "output_type": "stream",
     "text": [
      "Example Prediction:  उनोनी सारी भईयों को समेट कर एक गथर बनाया और\n",
      "Example Reference: उन्होंनें सारी बहियों को समेट कर एक गट्ठर बनाया और\n",
      "Total Samples: 38\n",
      "\n",
      "Evaluation Metrics:\n",
      "WER: 93.81\n",
      "CER: 20.47\n",
      "Samples Used: 38\n"
     ]
    }
   ],
   "source": [
    "# Cell 6: Compute Evaluation Metrics\n",
    "from utils.metric import compute_metrics\n",
    "\n",
    "print(\"Example Prediction:\", preds[0])\n",
    "print(\"Example Reference:\", refs[0])\n",
    "print(\"Total Samples:\", len(preds))\n",
    "\n",
    "metrics = compute_metrics(preds, refs)\n",
    "print(\"\\nEvaluation Metrics:\")\n",
    "for k, v in metrics.items():\n",
    "    print(f\"{k}: {v}\")"
   ]
  },
  {
   "cell_type": "code",
   "execution_count": 7,
   "id": "8cac0c6a",
   "metadata": {},
   "outputs": [
    {
     "name": "stdout",
     "output_type": "stream",
     "text": [
      "ffmpeg version 7.1.1-full_build-www.gyan.dev Copyright (c) 2000-2025 the FFmpeg developers\n",
      "built with gcc 14.2.0 (Rev1, Built by MSYS2 project)\n",
      "configuration: --enable-gpl --enable-version3 --enable-static --disable-w32threads --disable-autodetect --enable-fontconfig --enable-iconv --enable-gnutls --enable-lcms2 --enable-libxml2 --enable-gmp --enable-bzlib --enable-lzma --enable-libsnappy --enable-zlib --enable-librist --enable-libsrt --enable-libssh --enable-libzmq --enable-avisynth --enable-libbluray --enable-libcaca --enable-libdvdnav --enable-libdvdread --enable-sdl2 --enable-libaribb24 --enable-libaribcaption --enable-libdav1d --enable-libdavs2 --enable-libopenjpeg --enable-libquirc --enable-libuavs3d --enable-libxevd --enable-libzvbi --enable-libqrencode --enable-librav1e --enable-libsvtav1 --enable-libvvenc --enable-libwebp --enable-libx264 --enable-libx265 --enable-libxavs2 --enable-libxeve --enable-libxvid --enable-libaom --enable-libjxl --enable-libvpx --enable-mediafoundation --enable-libass --enable-frei0r --enable-libfreetype --enable-libfribidi --enable-libharfbuzz --enable-liblensfun --enable-libvidstab --enable-libvmaf --enable-libzimg --enable-amf --enable-cuda-llvm --enable-cuvid --enable-dxva2 --enable-d3d11va --enable-d3d12va --enable-ffnvcodec --enable-libvpl --enable-nvdec --enable-nvenc --enable-vaapi --enable-libshaderc --enable-vulkan --enable-libplacebo --enable-opencl --enable-libcdio --enable-libgme --enable-libmodplug --enable-libopenmpt --enable-libopencore-amrwb --enable-libmp3lame --enable-libshine --enable-libtheora --enable-libtwolame --enable-libvo-amrwbenc --enable-libcodec2 --enable-libilbc --enable-libgsm --enable-liblc3 --enable-libopencore-amrnb --enable-libopus --enable-libspeex --enable-libvorbis --enable-ladspa --enable-libbs2b --enable-libflite --enable-libmysofa --enable-librubberband --enable-libsoxr --enable-chromaprint\n",
      "libavutil      59. 39.100 / 59. 39.100\n",
      "libavcodec     61. 19.101 / 61. 19.101\n",
      "libavformat    61.  7.100 / 61.  7.100\n",
      "libavdevice    61.  3.100 / 61.  3.100\n",
      "libavfilter    10.  4.100 / 10.  4.100\n",
      "libswscale      8.  3.100 /  8.  3.100\n",
      "libswresample   5.  3.100 /  5.  3.100\n",
      "libpostproc    58.  3.100 / 58.  3.100\n"
     ]
    }
   ],
   "source": [
    "import os\n",
    "import sys\n",
    "\n",
    "# Replace this with the actual path to your ffmpeg/bin folder\n",
    "ffmpeg_path = r\"C:\\ffmpeg\\bin\"\n",
    "\n",
    "# Add to PATH for the current session\n",
    "os.environ[\"PATH\"] += os.pathsep + ffmpeg_path\n",
    "\n",
    "# Confirm it's available\n",
    "!ffmpeg -version\n"
   ]
  },
  {
   "cell_type": "code",
   "execution_count": 27,
   "id": "4b0b0022",
   "metadata": {},
   "outputs": [
    {
     "name": "stdout",
     "output_type": "stream",
     "text": [
      "Collecting python-Levenshtein\n",
      "  Downloading python_levenshtein-0.27.1-py3-none-any.whl.metadata (3.7 kB)\n",
      "Collecting Levenshtein==0.27.1 (from python-Levenshtein)\n",
      "  Downloading levenshtein-0.27.1-cp310-cp310-win_amd64.whl.metadata (3.6 kB)\n",
      "Requirement already satisfied: rapidfuzz<4.0.0,>=3.9.0 in c:\\users\\tejas\\appdata\\local\\programs\\python\\python310\\lib\\site-packages (from Levenshtein==0.27.1->python-Levenshtein) (3.12.2)\n",
      "Downloading python_levenshtein-0.27.1-py3-none-any.whl (9.4 kB)\n",
      "Downloading levenshtein-0.27.1-cp310-cp310-win_amd64.whl (99 kB)\n",
      "Installing collected packages: Levenshtein, python-Levenshtein\n",
      "Successfully installed Levenshtein-0.27.1 python-Levenshtein-0.27.1\n"
     ]
    },
    {
     "name": "stderr",
     "output_type": "stream",
     "text": [
      "\n",
      "[notice] A new release of pip is available: 24.3.1 -> 25.0.1\n",
      "[notice] To update, run: python.exe -m pip install --upgrade pip\n"
     ]
    }
   ],
   "source": [
    "!pip install python-Levenshtein"
   ]
  },
  {
   "cell_type": "code",
   "execution_count": null,
   "id": "3ac153bb",
   "metadata": {},
   "outputs": [],
   "source": []
  },
  {
   "cell_type": "code",
   "execution_count": null,
   "id": "c618cd35",
   "metadata": {},
   "outputs": [
    {
     "data": {
      "image/png": "[encoded data removed]",
      "text/plain": [
       "<Figure size 1000x600 with 1 Axes>"
      ]
     },
     "metadata": {},
     "output_type": "display_data"
    }
   ],
   "source": [
    "# import matplotlib.pyplot as plt\n",
    "# import numpy as np\n",
    "# plt.style.use('ggplot')\n",
    "\n",
    "# # Data\n",
    "# model_size = ['tiny', 'base', 'small', 'medium']\n",
    "# wers = [496.25/3843, 480.7/3843, 116.37/3843, 100.98/3843]\n",
    "# cers = [108.65/3843, 103.71/3843, 25.61/3843, 21.12/3843]\n",
    "\n",
    "# # Bar chart parameters\n",
    "# x = np.arange(len(model_size))\n",
    "# width = 0.35  # width of the bars\n",
    "\n",
    "# # Plotting\n",
    "# fig, ax = plt.subplots(figsize=(10, 6))\n",
    "# bars1 = ax.bar(x - width/2, wers, width, label='WER ', color='steelblue')\n",
    "# bars2 = ax.bar(x + width/2, cers, width, label='CER ', color='orange')\n",
    "\n",
    "# # Labels and Titles\n",
    "# ax.set_xlabel('Model Size', fontsize=12)\n",
    "# ax.set_ylabel('Error Rate (%)', fontsize=12)\n",
    "# ax.set_title('WER and CER across Whisper Models', fontsize=14, weight='bold')\n",
    "# ax.set_xticks(x)\n",
    "# ax.set_xticklabels(model_size)\n",
    "# ax.legend()\n",
    "\n",
    "# # Display values on top of bars\n",
    "# for bar in bars1 + bars2:\n",
    "#     height = bar.get_height()\n",
    "#     ax.annotate(f'{height:.2f}',\n",
    "#                 xy=(bar.get_x() + bar.get_width() / 2, height),\n",
    "#                 xytext=(0, 3),  # offset\n",
    "#                 textcoords=\"offset points\",\n",
    "#                 ha='center', va='bottom', fontsize=9)\n",
    "\n",
    "# plt.tight_layout()\n",
    "# plt.grid(axis='y', linestyle='--', alpha=0.6)\n",
    "# plt.show()\n"
   ]
  },
  {
   "cell_type": "markdown",
   "id": "a9001b72",
   "metadata": {},
   "source": [
    "WER = Substitutions + Insertions + Deletions) / Total Words in Reference\n",
    "\n",
    "CER = (Substitutions + Insertions + Deletions) / Total Characters in Reference.\n"
   ]
  },
  {
   "cell_type": "code",
   "execution_count": null,
   "id": "7690351c",
   "metadata": {},
   "outputs": [],
   "source": []
  },
  {
   "cell_type": "code",
   "execution_count": null,
   "id": "bb609577",
   "metadata": {},
   "outputs": [],
   "source": []
  }
 ],
 "metadata": {
  "kernelspec": {
   "display_name": "Python 3",
   "language": "python",
   "name": "python3"
  },
  "language_info": {
   "codemirror_mode": {
    "name": "ipython",
    "version": 3
   },
   "file_extension": ".py",
   "mimetype": "text/x-python",
   "name": "python",
   "nbconvert_exporter": "python",
   "pygments_lexer": "ipython3",
   "version": "3.10.8"
  }
 },
 "nbformat": 4,
 "nbformat_minor": 5
}
