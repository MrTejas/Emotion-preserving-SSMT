{
 "cells": [
  {
   "cell_type": "code",
   "execution_count": 6,
   "id": "73e672b8",
   "metadata": {},
   "outputs": [],
   "source": [
    "import numpy as np\n",
    "import joblib\n",
    "import soundfile\n",
    "import numpy as np\n",
    "import librosa\n",
    "import os\n",
    "from sklearn.model_selection import train_test_split\n",
    "import glob\n"
   ]
  },
  {
   "cell_type": "code",
   "execution_count": 7,
   "id": "c31ee366",
   "metadata": {},
   "outputs": [],
   "source": [
    "# all emotions in the new dataset\n",
    "int2emotion_new = {\n",
    "    \"anger\": \"angry\",\n",
    "    \"sad\": \"sad\",\n",
    "    \"happy\": \"happy\",\n",
    "    \"neutral\": \"calm\"\n",
    "}\n",
    "\n",
    "# we allow only these four emotions\n",
    "AVAILABLE_EMOTIONS_NEW = set(int2emotion_new.values())\n"
   ]
  },
  {
   "cell_type": "code",
   "execution_count": 8,
   "id": "96ef5925",
   "metadata": {},
   "outputs": [],
   "source": [
    "def extract_feature(file_name, **kwargs):\n",
    "    \"\"\"\n",
    "    Extract feature from audio file `file_name`\n",
    "    Features supported:\n",
    "        - MFCC (mfcc)\n",
    "        - Chroma (chroma)\n",
    "        - MEL Spectrogram Frequency (mel)\n",
    "        - Contrast (contrast)\n",
    "        - Tonnetz (tonnetz)\n",
    "    e.g:\n",
    "    `features = extract_feature(path, mel=True, mfcc=True)`\n",
    "    \"\"\"\n",
    "    mfcc = kwargs.get(\"mfcc\")\n",
    "    chroma = kwargs.get(\"chroma\")\n",
    "    mel = kwargs.get(\"mel\")\n",
    "    contrast = kwargs.get(\"contrast\")\n",
    "    tonnetz = kwargs.get(\"tonnetz\")\n",
    "    \n",
    "    with soundfile.SoundFile(file_name) as sound_file:\n",
    "        X = sound_file.read(dtype=\"float32\")\n",
    "        sample_rate = sound_file.samplerate\n",
    "        \n",
    "        if chroma or contrast:\n",
    "            stft = np.abs(librosa.stft(X))\n",
    "            \n",
    "        result = np.array([])\n",
    "        \n",
    "        if mfcc:\n",
    "            mfccs = np.mean(librosa.feature.mfcc(y=X, sr=sample_rate, n_mfcc=40).T, axis=0)\n",
    "            chroma = np.mean(librosa.feature.chroma_stft(S=stft, sr=sample_rate).T, axis=0)\n",
    "            result = np.hstack((result, chroma))\n",
    "            \n",
    "        if mel:\n",
    "            mel = np.mean(librosa.feature.melspectrogram(y=X, sr=sample_rate).T, axis=0)\n",
    "            result = np.hstack((result, mel))\n",
    "            \n",
    "        if contrast:\n",
    "            contrast = np.mean(librosa.feature.spectral_contrast(S=stft, sr=sample_rate).T, axis=0)\n",
    "            result = np.hstack((result, contrast))\n",
    "            \n",
    "        if tonnetz:\n",
    "            tonnetz = np.mean(librosa.feature.tonnetz(y=librosa.effects.harmonic(X), sr=sample_rate).T, axis=0)\n",
    "            result = np.hstack((result, tonnetz))\n",
    "            \n",
    "    return result"
   ]
  },
  {
   "cell_type": "code",
   "execution_count": null,
   "id": "ab2711a9",
   "metadata": {},
   "outputs": [
    {
     "name": "stdout",
     "output_type": "stream",
     "text": [
      "Loaded model from ./result/random_forest_model.joblib\n"
     ]
    }
   ],
   "source": [
    "model_filename = \"./result/random_forest_model.joblib\" # achieved around 0.75 accuracy with high precision and recall for this model\n",
    "loaded_classifier = joblib.load(model_filename)\n",
    "print(f\"Loaded model from {model_filename}\")"
   ]
  },
  {
   "cell_type": "code",
   "execution_count": 9,
   "id": "4931e86c",
   "metadata": {},
   "outputs": [
    {
     "name": "stdout",
     "output_type": "stream",
     "text": [
      "Extracted features from audio\n"
     ]
    }
   ],
   "source": [
    "file_name = \"./../sample_audio/5.3.sad-06.wav\"\n",
    "X = []\n",
    "features = extract_feature(file_name, mfcc=True, chroma=True, mel=True)\n",
    "X.append(features)\n",
    "print(\"Extracted features from audio\")"
   ]
  },
  {
   "cell_type": "code",
   "execution_count": 17,
   "id": "c9e19a55",
   "metadata": {},
   "outputs": [
    {
     "name": "stdout",
     "output_type": "stream",
     "text": [
      "Predictions using loaded model: sad\n"
     ]
    }
   ],
   "source": [
    "loaded_prediction = loaded_classifier.predict(X)\n",
    "print(\"Predictions using loaded model:\", loaded_prediction[0])"
   ]
  },
  {
   "cell_type": "code",
   "execution_count": null,
   "id": "e9edb5dd",
   "metadata": {},
   "outputs": [],
   "source": []
  }
 ],
 "metadata": {
  "kernelspec": {
   "display_name": "Python 3",
   "language": "python",
   "name": "python3"
  },
  "language_info": {
   "codemirror_mode": {
    "name": "ipython",
    "version": 3
   },
   "file_extension": ".py",
   "mimetype": "text/x-python",
   "name": "python",
   "nbconvert_exporter": "python",
   "pygments_lexer": "ipython3",
   "version": "3.10.8"
  }
 },
 "nbformat": 4,
 "nbformat_minor": 5
}
